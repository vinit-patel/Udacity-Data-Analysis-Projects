{
 "cells": [
  {
   "cell_type": "markdown",
   "metadata": {},
   "source": [
    "# Project: Identifying characteristics of appointment 'No Show' patients."
   ]
  },
  {
   "cell_type": "markdown",
   "metadata": {},
   "source": [
    "## Introduction:\n",
    "In this analysis we are using the 'No-Show Appointments' data to identify a pattern among the patients that do not show up for an appointment. To achieve this, we are analysing the no show patients across multiple variables like age groups, gender, scholarship, SMS received and others. This analysis is still work in progress and not the final output. \n",
    "\n",
    "So let's get started!"
   ]
  },
  {
   "cell_type": "code",
   "execution_count": 66,
   "metadata": {},
   "outputs": [
    {
     "data": {
      "text/html": [
       "<div>\n",
       "<style scoped>\n",
       "    .dataframe tbody tr th:only-of-type {\n",
       "        vertical-align: middle;\n",
       "    }\n",
       "\n",
       "    .dataframe tbody tr th {\n",
       "        vertical-align: top;\n",
       "    }\n",
       "\n",
       "    .dataframe thead th {\n",
       "        text-align: right;\n",
       "    }\n",
       "</style>\n",
       "<table border=\"1\" class=\"dataframe\">\n",
       "  <thead>\n",
       "    <tr style=\"text-align: right;\">\n",
       "      <th></th>\n",
       "      <th>PatientId</th>\n",
       "      <th>AppointmentID</th>\n",
       "      <th>Gender</th>\n",
       "      <th>ScheduledDay</th>\n",
       "      <th>AppointmentDay</th>\n",
       "      <th>Age</th>\n",
       "      <th>Neighbourhood</th>\n",
       "      <th>Scholarship</th>\n",
       "      <th>Hipertension</th>\n",
       "      <th>Diabetes</th>\n",
       "      <th>Alcoholism</th>\n",
       "      <th>Handcap</th>\n",
       "      <th>SMS_received</th>\n",
       "      <th>No-show</th>\n",
       "    </tr>\n",
       "  </thead>\n",
       "  <tbody>\n",
       "    <tr>\n",
       "      <th>0</th>\n",
       "      <td>29872499824296</td>\n",
       "      <td>5642903</td>\n",
       "      <td>F</td>\n",
       "      <td>2016-04-29T18:38:08Z</td>\n",
       "      <td>2016-04-29T00:00:00Z</td>\n",
       "      <td>62</td>\n",
       "      <td>JARDIM DA PENHA</td>\n",
       "      <td>0</td>\n",
       "      <td>1</td>\n",
       "      <td>0</td>\n",
       "      <td>0</td>\n",
       "      <td>0</td>\n",
       "      <td>0</td>\n",
       "      <td>No</td>\n",
       "    </tr>\n",
       "    <tr>\n",
       "      <th>1</th>\n",
       "      <td>558997776694438</td>\n",
       "      <td>5642503</td>\n",
       "      <td>M</td>\n",
       "      <td>2016-04-29T16:08:27Z</td>\n",
       "      <td>2016-04-29T00:00:00Z</td>\n",
       "      <td>56</td>\n",
       "      <td>JARDIM DA PENHA</td>\n",
       "      <td>0</td>\n",
       "      <td>0</td>\n",
       "      <td>0</td>\n",
       "      <td>0</td>\n",
       "      <td>0</td>\n",
       "      <td>0</td>\n",
       "      <td>No</td>\n",
       "    </tr>\n",
       "  </tbody>\n",
       "</table>\n",
       "</div>"
      ],
      "text/plain": [
       "         PatientId  AppointmentID Gender          ScheduledDay  \\\n",
       "0   29872499824296        5642903      F  2016-04-29T18:38:08Z   \n",
       "1  558997776694438        5642503      M  2016-04-29T16:08:27Z   \n",
       "\n",
       "         AppointmentDay  Age    Neighbourhood  Scholarship  Hipertension  \\\n",
       "0  2016-04-29T00:00:00Z   62  JARDIM DA PENHA            0             1   \n",
       "1  2016-04-29T00:00:00Z   56  JARDIM DA PENHA            0             0   \n",
       "\n",
       "   Diabetes  Alcoholism  Handcap  SMS_received No-show  \n",
       "0         0           0        0             0      No  \n",
       "1         0           0        0             0      No  "
      ]
     },
     "execution_count": 66,
     "metadata": {},
     "output_type": "execute_result"
    }
   ],
   "source": [
    "#Loading data and creating data fromes\n",
    "\n",
    "import pandas as pd, matplotlib.pyplot as plt, numpy as np, datetime, seaborn as sns\n",
    "%matplotlib inline\n",
    "sns.set_style('darkgrid')\n",
    "\n",
    "df=pd.read_csv(r'C:\\Vinit\\Udacity\\Project 2\\noshowappointments.csv')\n",
    "df.head(2)"
   ]
  },
  {
   "cell_type": "markdown",
   "metadata": {},
   "source": [
    "# Initial Data checks"
   ]
  },
  {
   "cell_type": "code",
   "execution_count": 67,
   "metadata": {
    "scrolled": true
   },
   "outputs": [
    {
     "name": "stdout",
     "output_type": "stream",
     "text": [
      "<class 'pandas.core.frame.DataFrame'>\n",
      "RangeIndex: 110527 entries, 0 to 110526\n",
      "Data columns (total 14 columns):\n",
      "PatientId         110527 non-null int64\n",
      "AppointmentID     110527 non-null int64\n",
      "Gender            110527 non-null object\n",
      "ScheduledDay      110527 non-null object\n",
      "AppointmentDay    110527 non-null object\n",
      "Age               110527 non-null int64\n",
      "Neighbourhood     110527 non-null object\n",
      "Scholarship       110527 non-null int64\n",
      "Hipertension      110527 non-null int64\n",
      "Diabetes          110527 non-null int64\n",
      "Alcoholism        110527 non-null int64\n",
      "Handcap           110527 non-null int64\n",
      "SMS_received      110527 non-null int64\n",
      "No-show           110527 non-null object\n",
      "dtypes: int64(9), object(5)\n",
      "memory usage: 11.8+ MB\n"
     ]
    }
   ],
   "source": [
    "#Checking for any null values in the data\n",
    "df.info()"
   ]
  },
  {
   "cell_type": "markdown",
   "metadata": {},
   "source": [
    "##### There are no null/missing values in any column"
   ]
  },
  {
   "cell_type": "code",
   "execution_count": 68,
   "metadata": {},
   "outputs": [
    {
     "data": {
      "text/plain": [
       "0"
      ]
     },
     "execution_count": 68,
     "metadata": {},
     "output_type": "execute_result"
    }
   ],
   "source": [
    "#Checking for any duplicates in the data\n",
    "sum(df.duplicated())"
   ]
  },
  {
   "cell_type": "markdown",
   "metadata": {},
   "source": [
    "##### There are no duplicate rows in the data set."
   ]
  },
  {
   "cell_type": "markdown",
   "metadata": {},
   "source": [
    "##### Observation: Overall the data looks clean"
   ]
  },
  {
   "cell_type": "markdown",
   "metadata": {},
   "source": [
    "# Data Wrangling"
   ]
  },
  {
   "cell_type": "markdown",
   "metadata": {},
   "source": [
    "#### Converting the column names to lower case and renaming no-show to no_show"
   ]
  },
  {
   "cell_type": "code",
   "execution_count": 69,
   "metadata": {},
   "outputs": [],
   "source": [
    "#Looping over column names to convert them into lower case\n",
    "for c in df.columns:\n",
    "    df.rename(columns={c:c.lower()},inplace=True)\n",
    "    \n",
    "#Renaming no_show column for convenience    \n",
    "df.rename(columns={'no-show':'no_show'},inplace=True)"
   ]
  },
  {
   "cell_type": "markdown",
   "metadata": {},
   "source": [
    "#### Data Cleaning and new column creation"
   ]
  },
  {
   "cell_type": "code",
   "execution_count": 70,
   "metadata": {},
   "outputs": [],
   "source": [
    "#There is -1 in age column so setting that value to 0\n",
    "df.loc[df[df['age']<0].index,'age']=0\n",
    "\n",
    "#Calculating number of age group bins\n",
    "bins=[i for i in range(0,130,10)]\n",
    "\n",
    "# Creating age group labels for bins\n",
    "labels=[str(i-9)+'-'+str(i) for i in bins[1:]]\n",
    "\n",
    "\n",
    "#Creating age group bins column\n",
    "df['age_grp']=pd.cut(x=df['age'],bins=bins,labels=labels,include_lowest=True)\n",
    "\n",
    "\n",
    "#Creating a weekday name column of appointment day\n",
    "df['app_weekday']=df['appointmentday'].apply(lambda x:datetime.datetime.strptime(x,'%Y-%m-%dT%H:%M:%SZ').strftime('%a'))"
   ]
  },
  {
   "cell_type": "markdown",
   "metadata": {},
   "source": [
    "##### Observation: Since the data set does not have many issues, very few data wrangling steps are required."
   ]
  },
  {
   "cell_type": "markdown",
   "metadata": {},
   "source": [
    "# Exploratory Data Analysis And Visualization"
   ]
  },
  {
   "cell_type": "markdown",
   "metadata": {},
   "source": [
    "### Creating a data set for non show patients"
   ]
  },
  {
   "cell_type": "code",
   "execution_count": 71,
   "metadata": {
    "scrolled": true
   },
   "outputs": [
    {
     "data": {
      "text/html": [
       "<div>\n",
       "<style scoped>\n",
       "    .dataframe tbody tr th:only-of-type {\n",
       "        vertical-align: middle;\n",
       "    }\n",
       "\n",
       "    .dataframe tbody tr th {\n",
       "        vertical-align: top;\n",
       "    }\n",
       "\n",
       "    .dataframe thead th {\n",
       "        text-align: right;\n",
       "    }\n",
       "</style>\n",
       "<table border=\"1\" class=\"dataframe\">\n",
       "  <thead>\n",
       "    <tr style=\"text-align: right;\">\n",
       "      <th></th>\n",
       "      <th>patientid</th>\n",
       "      <th>appointmentid</th>\n",
       "      <th>gender</th>\n",
       "      <th>scheduledday</th>\n",
       "      <th>appointmentday</th>\n",
       "      <th>age</th>\n",
       "      <th>neighbourhood</th>\n",
       "      <th>scholarship</th>\n",
       "      <th>hipertension</th>\n",
       "      <th>diabetes</th>\n",
       "      <th>alcoholism</th>\n",
       "      <th>handcap</th>\n",
       "      <th>sms_received</th>\n",
       "      <th>no_show</th>\n",
       "      <th>age_grp</th>\n",
       "      <th>app_weekday</th>\n",
       "    </tr>\n",
       "  </thead>\n",
       "  <tbody>\n",
       "    <tr>\n",
       "      <th>6</th>\n",
       "      <td>733688164476661</td>\n",
       "      <td>5630279</td>\n",
       "      <td>F</td>\n",
       "      <td>2016-04-27T15:05:12Z</td>\n",
       "      <td>2016-04-29T00:00:00Z</td>\n",
       "      <td>23</td>\n",
       "      <td>GOIABEIRAS</td>\n",
       "      <td>0</td>\n",
       "      <td>0</td>\n",
       "      <td>0</td>\n",
       "      <td>0</td>\n",
       "      <td>0</td>\n",
       "      <td>0</td>\n",
       "      <td>Yes</td>\n",
       "      <td>21-30</td>\n",
       "      <td>Fri</td>\n",
       "    </tr>\n",
       "    <tr>\n",
       "      <th>7</th>\n",
       "      <td>3449833394123</td>\n",
       "      <td>5630575</td>\n",
       "      <td>F</td>\n",
       "      <td>2016-04-27T15:39:58Z</td>\n",
       "      <td>2016-04-29T00:00:00Z</td>\n",
       "      <td>39</td>\n",
       "      <td>GOIABEIRAS</td>\n",
       "      <td>0</td>\n",
       "      <td>0</td>\n",
       "      <td>0</td>\n",
       "      <td>0</td>\n",
       "      <td>0</td>\n",
       "      <td>0</td>\n",
       "      <td>Yes</td>\n",
       "      <td>31-40</td>\n",
       "      <td>Fri</td>\n",
       "    </tr>\n",
       "  </tbody>\n",
       "</table>\n",
       "</div>"
      ],
      "text/plain": [
       "         patientid  appointmentid gender          scheduledday  \\\n",
       "6  733688164476661        5630279      F  2016-04-27T15:05:12Z   \n",
       "7    3449833394123        5630575      F  2016-04-27T15:39:58Z   \n",
       "\n",
       "         appointmentday  age neighbourhood  scholarship  hipertension  \\\n",
       "6  2016-04-29T00:00:00Z   23    GOIABEIRAS            0             0   \n",
       "7  2016-04-29T00:00:00Z   39    GOIABEIRAS            0             0   \n",
       "\n",
       "   diabetes  alcoholism  handcap  sms_received no_show age_grp app_weekday  \n",
       "6         0           0        0             0     Yes   21-30         Fri  \n",
       "7         0           0        0             0     Yes   31-40         Fri  "
      ]
     },
     "execution_count": 71,
     "metadata": {},
     "output_type": "execute_result"
    }
   ],
   "source": [
    "# Creating a data set of No show patients that will be used for most of the furthur analysis\n",
    "ns_df=df[df['no_show']=='Yes']\n",
    "ns_df.head(2)"
   ]
  },
  {
   "cell_type": "markdown",
   "metadata": {},
   "source": [
    "## Gender Analysis\n",
    "\n",
    "## Q: Does a particular gender and age group is asociated with high no show rates?"
   ]
  },
  {
   "cell_type": "markdown",
   "metadata": {},
   "source": [
    "### No Show rate by gender"
   ]
  },
  {
   "cell_type": "code",
   "execution_count": 72,
   "metadata": {
    "scrolled": true
   },
   "outputs": [
    {
     "data": {
      "image/png": "[encoded data removed]",
      "text/plain": [
       "<Figure size 432x288 with 1 Axes>"
      ]
     },
     "metadata": {},
     "output_type": "display_data"
    }
   ],
   "source": [
    "# Calculating Total rows in non show data set\n",
    "ns_tot=ns_df['appointmentid'].count()\n",
    "\n",
    "\n",
    "#Plotting No Show percentages by gender\n",
    "(ns_df.groupby('gender').count()['age']*100/ns_df['gender'].count()).plot(kind='pie',labels=['Female','Male'],fontsize=14,\n",
    "autopct='%1.2f%%')\n",
    "plt.ylabel(None)\n",
    "plt.title('No Show percentages by gender',fontsize=16)\n",
    "plt.tight_layout()"
   ]
  },
  {
   "cell_type": "markdown",
   "metadata": {},
   "source": [
    "#### How is the No Show trend for both the genders by age?"
   ]
  },
  {
   "cell_type": "code",
   "execution_count": 73,
   "metadata": {},
   "outputs": [
    {
     "data": {
      "image/png": "[encoded data removed]",
      "text/plain": [
       "<Figure size 720x432 with 1 Axes>"
      ]
     },
     "metadata": {},
     "output_type": "display_data"
    }
   ],
   "source": [
    "fig,axes=plt.subplots(figsize=(10,6))\n",
    "# Plotting the Male Trend\n",
    "axes.plot(ns_df[ns_df['gender']==\"M\"][['age','appointmentid']].groupby('age',as_index=False).count()['age'],\n",
    "ns_df[ns_df['gender']==\"M\"][['age','appointmentid']].groupby('age',as_index=False).count()['appointmentid'].rolling(5).mean(),\n",
    "label=\"Male\");\n",
    "# Plotting the Female Trend\n",
    "axes.plot(ns_df[ns_df['gender']==\"F\"][['age','appointmentid']].groupby('age',as_index=False).count()['age'],\n",
    "ns_df[ns_df['gender']==\"F\"][['age','appointmentid']].groupby('age',as_index=False).count()['appointmentid'].rolling(5).mean(),\n",
    "label=\"Female\");\n",
    "\n",
    "axes.set_title('No Show Trend for Male and Female Gender by age',fontsize=16)\n",
    "axes.set_xlabel('Age',fontsize=14)\n",
    "axes.set_ylabel('No Show Count',fontsize=14)\n",
    "axes.set_ylabel('No Show Count',fontsize=14)\n",
    "#axes.xti\n",
    "plt.legend();"
   ]
  },
  {
   "cell_type": "markdown",
   "metadata": {},
   "source": [
    "##### Observations: As the data set contains more females as compared to men, the no show count for the females is high. But, here the trend also shows that the No show count for females is high but gradually decreasing between ages 20 to 60 years.\n",
    "\n",
    "##### While, for male patients, the no show rate is gradually decreasing from early ages.\n",
    "\n",
    "##### To understand this trend better, we'll create age groups (code present above in data wrangling section)."
   ]
  },
  {
   "cell_type": "markdown",
   "metadata": {},
   "source": [
    "#### No Show rate by age Groups"
   ]
  },
  {
   "cell_type": "code",
   "execution_count": 74,
   "metadata": {
    "scrolled": false
   },
   "outputs": [
    {
     "data": {
      "text/html": [
       "<div>\n",
       "<style scoped>\n",
       "    .dataframe tbody tr th:only-of-type {\n",
       "        vertical-align: middle;\n",
       "    }\n",
       "\n",
       "    .dataframe tbody tr th {\n",
       "        vertical-align: top;\n",
       "    }\n",
       "\n",
       "    .dataframe thead th {\n",
       "        text-align: right;\n",
       "    }\n",
       "</style>\n",
       "<table border=\"1\" class=\"dataframe\">\n",
       "  <thead>\n",
       "    <tr style=\"text-align: right;\">\n",
       "      <th></th>\n",
       "      <th>appointmentid</th>\n",
       "    </tr>\n",
       "    <tr>\n",
       "      <th>age_grp</th>\n",
       "      <th></th>\n",
       "    </tr>\n",
       "  </thead>\n",
       "  <tbody>\n",
       "    <tr>\n",
       "      <th>1-10</th>\n",
       "      <td>16.972087</td>\n",
       "    </tr>\n",
       "    <tr>\n",
       "      <th>11-20</th>\n",
       "      <td>14.821453</td>\n",
       "    </tr>\n",
       "    <tr>\n",
       "      <th>21-30</th>\n",
       "      <td>15.206774</td>\n",
       "    </tr>\n",
       "    <tr>\n",
       "      <th>31-40</th>\n",
       "      <td>14.480936</td>\n",
       "    </tr>\n",
       "    <tr>\n",
       "      <th>41-50</th>\n",
       "      <td>12.858999</td>\n",
       "    </tr>\n",
       "    <tr>\n",
       "      <th>51-60</th>\n",
       "      <td>12.191406</td>\n",
       "    </tr>\n",
       "    <tr>\n",
       "      <th>61-70</th>\n",
       "      <td>7.383843</td>\n",
       "    </tr>\n",
       "    <tr>\n",
       "      <th>71-80</th>\n",
       "      <td>3.983153</td>\n",
       "    </tr>\n",
       "    <tr>\n",
       "      <th>81-90</th>\n",
       "      <td>1.823558</td>\n",
       "    </tr>\n",
       "    <tr>\n",
       "      <th>91-100</th>\n",
       "      <td>0.264349</td>\n",
       "    </tr>\n",
       "    <tr>\n",
       "      <th>101-110</th>\n",
       "      <td>0.000000</td>\n",
       "    </tr>\n",
       "    <tr>\n",
       "      <th>111-120</th>\n",
       "      <td>0.013441</td>\n",
       "    </tr>\n",
       "  </tbody>\n",
       "</table>\n",
       "</div>"
      ],
      "text/plain": [
       "         appointmentid\n",
       "age_grp               \n",
       "1-10         16.972087\n",
       "11-20        14.821453\n",
       "21-30        15.206774\n",
       "31-40        14.480936\n",
       "41-50        12.858999\n",
       "51-60        12.191406\n",
       "61-70         7.383843\n",
       "71-80         3.983153\n",
       "81-90         1.823558\n",
       "91-100        0.264349\n",
       "101-110       0.000000\n",
       "111-120       0.013441"
      ]
     },
     "execution_count": 74,
     "metadata": {},
     "output_type": "execute_result"
    }
   ],
   "source": [
    "ns_df[['age_grp','appointmentid']].groupby('age_grp').count().apply(lambda x:x*100/ns_df['appointmentid'].count())"
   ]
  },
  {
   "cell_type": "markdown",
   "metadata": {},
   "source": [
    "##### Observation: The No show rate for both the gender is high for age groups below 40."
   ]
  },
  {
   "cell_type": "markdown",
   "metadata": {},
   "source": [
    "### Analysis by age group and gender on No Show Percentages"
   ]
  },
  {
   "cell_type": "code",
   "execution_count": 75,
   "metadata": {},
   "outputs": [
    {
     "data": {
      "text/html": [
       "<div>\n",
       "<style scoped>\n",
       "    .dataframe tbody tr th:only-of-type {\n",
       "        vertical-align: middle;\n",
       "    }\n",
       "\n",
       "    .dataframe tbody tr th {\n",
       "        vertical-align: top;\n",
       "    }\n",
       "\n",
       "    .dataframe thead th {\n",
       "        text-align: right;\n",
       "    }\n",
       "</style>\n",
       "<table border=\"1\" class=\"dataframe\">\n",
       "  <thead>\n",
       "    <tr style=\"text-align: right;\">\n",
       "      <th></th>\n",
       "      <th></th>\n",
       "      <th>appointmentid</th>\n",
       "    </tr>\n",
       "    <tr>\n",
       "      <th>age_grp</th>\n",
       "      <th>gender</th>\n",
       "      <th></th>\n",
       "    </tr>\n",
       "  </thead>\n",
       "  <tbody>\n",
       "    <tr>\n",
       "      <th rowspan=\"2\" valign=\"top\">1-10</th>\n",
       "      <th>F</th>\n",
       "      <td>7.979748</td>\n",
       "    </tr>\n",
       "    <tr>\n",
       "      <th>M</th>\n",
       "      <td>8.992338</td>\n",
       "    </tr>\n",
       "    <tr>\n",
       "      <th rowspan=\"2\" valign=\"top\">11-20</th>\n",
       "      <th>F</th>\n",
       "      <td>9.279090</td>\n",
       "    </tr>\n",
       "    <tr>\n",
       "      <th>M</th>\n",
       "      <td>5.542363</td>\n",
       "    </tr>\n",
       "    <tr>\n",
       "      <th rowspan=\"2\" valign=\"top\">21-30</th>\n",
       "      <th>F</th>\n",
       "      <td>11.443165</td>\n",
       "    </tr>\n",
       "    <tr>\n",
       "      <th>M</th>\n",
       "      <td>3.763609</td>\n",
       "    </tr>\n",
       "    <tr>\n",
       "      <th rowspan=\"2\" valign=\"top\">31-40</th>\n",
       "      <th>F</th>\n",
       "      <td>10.045253</td>\n",
       "    </tr>\n",
       "    <tr>\n",
       "      <th>M</th>\n",
       "      <td>4.435683</td>\n",
       "    </tr>\n",
       "    <tr>\n",
       "      <th rowspan=\"2\" valign=\"top\">41-50</th>\n",
       "      <th>F</th>\n",
       "      <td>9.032663</td>\n",
       "    </tr>\n",
       "    <tr>\n",
       "      <th>M</th>\n",
       "      <td>3.826336</td>\n",
       "    </tr>\n",
       "    <tr>\n",
       "      <th rowspan=\"2\" valign=\"top\">51-60</th>\n",
       "      <th>F</th>\n",
       "      <td>8.306824</td>\n",
       "    </tr>\n",
       "    <tr>\n",
       "      <th>M</th>\n",
       "      <td>3.884583</td>\n",
       "    </tr>\n",
       "    <tr>\n",
       "      <th rowspan=\"2\" valign=\"top\">61-70</th>\n",
       "      <th>F</th>\n",
       "      <td>5.224248</td>\n",
       "    </tr>\n",
       "    <tr>\n",
       "      <th>M</th>\n",
       "      <td>2.159595</td>\n",
       "    </tr>\n",
       "    <tr>\n",
       "      <th rowspan=\"2\" valign=\"top\">71-80</th>\n",
       "      <th>F</th>\n",
       "      <td>2.661410</td>\n",
       "    </tr>\n",
       "    <tr>\n",
       "      <th>M</th>\n",
       "      <td>1.321744</td>\n",
       "    </tr>\n",
       "    <tr>\n",
       "      <th rowspan=\"2\" valign=\"top\">81-90</th>\n",
       "      <th>F</th>\n",
       "      <td>1.196290</td>\n",
       "    </tr>\n",
       "    <tr>\n",
       "      <th>M</th>\n",
       "      <td>0.627268</td>\n",
       "    </tr>\n",
       "    <tr>\n",
       "      <th rowspan=\"2\" valign=\"top\">91-100</th>\n",
       "      <th>F</th>\n",
       "      <td>0.206102</td>\n",
       "    </tr>\n",
       "    <tr>\n",
       "      <th>M</th>\n",
       "      <td>0.058246</td>\n",
       "    </tr>\n",
       "    <tr>\n",
       "      <th rowspan=\"2\" valign=\"top\">101-110</th>\n",
       "      <th>F</th>\n",
       "      <td>NaN</td>\n",
       "    </tr>\n",
       "    <tr>\n",
       "      <th>M</th>\n",
       "      <td>NaN</td>\n",
       "    </tr>\n",
       "    <tr>\n",
       "      <th rowspan=\"2\" valign=\"top\">111-120</th>\n",
       "      <th>F</th>\n",
       "      <td>0.013441</td>\n",
       "    </tr>\n",
       "    <tr>\n",
       "      <th>M</th>\n",
       "      <td>NaN</td>\n",
       "    </tr>\n",
       "  </tbody>\n",
       "</table>\n",
       "</div>"
      ],
      "text/plain": [
       "                appointmentid\n",
       "age_grp gender               \n",
       "1-10    F            7.979748\n",
       "        M            8.992338\n",
       "11-20   F            9.279090\n",
       "        M            5.542363\n",
       "21-30   F           11.443165\n",
       "        M            3.763609\n",
       "31-40   F           10.045253\n",
       "        M            4.435683\n",
       "41-50   F            9.032663\n",
       "        M            3.826336\n",
       "51-60   F            8.306824\n",
       "        M            3.884583\n",
       "61-70   F            5.224248\n",
       "        M            2.159595\n",
       "71-80   F            2.661410\n",
       "        M            1.321744\n",
       "81-90   F            1.196290\n",
       "        M            0.627268\n",
       "91-100  F            0.206102\n",
       "        M            0.058246\n",
       "101-110 F                 NaN\n",
       "        M                 NaN\n",
       "111-120 F            0.013441\n",
       "        M                 NaN"
      ]
     },
     "execution_count": 75,
     "metadata": {},
     "output_type": "execute_result"
    },
    {
     "data": {
      "image/png": "[encoded data removed]",
      "text/plain": [
       "<Figure size 720x360 with 1 Axes>"
      ]
     },
     "metadata": {},
     "output_type": "display_data"
    }
   ],
   "source": [
    "#Plotting the distribution of No show percentages by age groups and gender.\n",
    "\n",
    "age_labels=df[['age_grp','appointmentid']].groupby('age_grp',as_index=False).count()['age_grp']\n",
    "\n",
    "m_ns_pct=[]\n",
    "f_ns_pct=[]\n",
    "\n",
    "for age in age_labels:\n",
    "    m=(ns_df[(ns_df['gender']==\"M\") & (ns_df['age_grp']==age)]['appointmentid'].count()/ns_tot)*100\n",
    "    f=(ns_df[(ns_df['gender']==\"F\") & (ns_df['age_grp']==age)]['appointmentid'].count()/ns_tot)*100\n",
    "    m_ns_pct.append(m)\n",
    "    f_ns_pct.append(f)\n",
    "    \n",
    "indx=np.arange(len(age_labels))\n",
    "wdth=0.4\n",
    "plt.figure(figsize=(10,5))\n",
    "loc=indx+wdth/2\n",
    "\n",
    "plt.bar(indx,m_ns_pct,width=0.4,label='Male');\n",
    "plt.bar(indx+wdth,f_ns_pct,width=0.4,label='Female');\n",
    "plt.xticks(loc,age_labels,fontsize=12);\n",
    "plt.title('Age Group and Gender wise No Show percentages',fontsize=14);\n",
    "plt.tick_params(axis='x',rotation=0)\n",
    "plt.xlabel('Age Group',fontsize=12)\n",
    "plt.ylabel('No Show Percentage',fontsize=12);\n",
    "plt.legend()\n",
    "plt.tight_layout()\n",
    "\n",
    "ns_df[['age_grp','gender','appointmentid']].groupby(['age_grp','gender']).count().apply(lambda x:x*100/ns_df['appointmentid'].count())"
   ]
  },
  {
   "cell_type": "markdown",
   "metadata": {},
   "source": [
    "##### Observations: \n",
    "1) Overall, the No show rate for age group 1-10 is highest at 17%.\n",
    "\n",
    "2) When compared at gender level, it shows that the No Show rate for female patients is higher as compared to male patients for most of the age groups, the higest being 11.44% for age group 21-30 and 10% for age group 31-40."
   ]
  },
  {
   "cell_type": "markdown",
   "metadata": {},
   "source": [
    "## Scholarship Analysis\n",
    "\n",
    "## Q: Does the absence of scholarship affect the No show rate?"
   ]
  },
  {
   "cell_type": "markdown",
   "metadata": {},
   "source": [
    "### No Show rate by Scholarship status and gender"
   ]
  },
  {
   "cell_type": "code",
   "execution_count": 76,
   "metadata": {
    "scrolled": false
   },
   "outputs": [
    {
     "data": {
      "text/html": [
       "<div>\n",
       "<style scoped>\n",
       "    .dataframe tbody tr th:only-of-type {\n",
       "        vertical-align: middle;\n",
       "    }\n",
       "\n",
       "    .dataframe tbody tr th {\n",
       "        vertical-align: top;\n",
       "    }\n",
       "\n",
       "    .dataframe thead th {\n",
       "        text-align: right;\n",
       "    }\n",
       "</style>\n",
       "<table border=\"1\" class=\"dataframe\">\n",
       "  <thead>\n",
       "    <tr style=\"text-align: right;\">\n",
       "      <th></th>\n",
       "      <th></th>\n",
       "      <th>appointmentid</th>\n",
       "    </tr>\n",
       "    <tr>\n",
       "      <th>gender</th>\n",
       "      <th>no_show</th>\n",
       "      <th></th>\n",
       "    </tr>\n",
       "  </thead>\n",
       "  <tbody>\n",
       "    <tr>\n",
       "      <th rowspan=\"2\" valign=\"top\">F</th>\n",
       "      <th>No</th>\n",
       "      <td>62.121352</td>\n",
       "    </tr>\n",
       "    <tr>\n",
       "      <th>Yes</th>\n",
       "      <td>19.390480</td>\n",
       "    </tr>\n",
       "    <tr>\n",
       "      <th rowspan=\"2\" valign=\"top\">M</th>\n",
       "      <th>No</th>\n",
       "      <td>14.142344</td>\n",
       "    </tr>\n",
       "    <tr>\n",
       "      <th>Yes</th>\n",
       "      <td>4.345825</td>\n",
       "    </tr>\n",
       "  </tbody>\n",
       "</table>\n",
       "</div>"
      ],
      "text/plain": [
       "                appointmentid\n",
       "gender no_show               \n",
       "F      No           62.121352\n",
       "       Yes          19.390480\n",
       "M      No           14.142344\n",
       "       Yes           4.345825"
      ]
     },
     "execution_count": 76,
     "metadata": {},
     "output_type": "execute_result"
    }
   ],
   "source": [
    "# Checking the percentage of appointment No Show for patients with scholarships\n",
    "df[df['scholarship']==1][['no_show','appointmentid','gender']].groupby(['gender','no_show']).count()*100/df[df['scholarship']==1]['appointmentid'].count()"
   ]
  },
  {
   "cell_type": "markdown",
   "metadata": {},
   "source": [
    "##### Observation: By looking at the data above, we can say that scholarship owners are less like to miss an appointment. And more than 80% of the scholarship owners are women."
   ]
  },
  {
   "cell_type": "code",
   "execution_count": 77,
   "metadata": {},
   "outputs": [
    {
     "data": {
      "image/png": "[encoded data removed]",
      "text/plain": [
       "<Figure size 432x288 with 1 Axes>"
      ]
     },
     "metadata": {},
     "output_type": "display_data"
    }
   ],
   "source": [
    "#Plotting Scholarship status of No show patients\n",
    "\n",
    "(ns_df.groupby('scholarship').count()['appointmentid']*100/ns_df['appointmentid'].count()).plot(kind='pie',\n",
    "labels=['No Scholarship','Scholarship'],fontsize=14,autopct='%1.2f%%')\n",
    "plt.title(\"Scholarship status of No Show Patients\",fontsize=16);\n",
    "plt.ylabel(None)\n",
    "plt.tight_layout()"
   ]
  },
  {
   "cell_type": "markdown",
   "metadata": {},
   "source": [
    "### Age Groups and Gender wise distribution on Non Scholarship patients"
   ]
  },
  {
   "cell_type": "code",
   "execution_count": 78,
   "metadata": {},
   "outputs": [
    {
     "data": {
      "text/html": [
       "<div>\n",
       "<style scoped>\n",
       "    .dataframe tbody tr th:only-of-type {\n",
       "        vertical-align: middle;\n",
       "    }\n",
       "\n",
       "    .dataframe tbody tr th {\n",
       "        vertical-align: top;\n",
       "    }\n",
       "\n",
       "    .dataframe thead th {\n",
       "        text-align: right;\n",
       "    }\n",
       "</style>\n",
       "<table border=\"1\" class=\"dataframe\">\n",
       "  <thead>\n",
       "    <tr style=\"text-align: right;\">\n",
       "      <th></th>\n",
       "      <th></th>\n",
       "      <th>appointmentid</th>\n",
       "    </tr>\n",
       "    <tr>\n",
       "      <th>age_grp</th>\n",
       "      <th>gender</th>\n",
       "      <th></th>\n",
       "    </tr>\n",
       "  </thead>\n",
       "  <tbody>\n",
       "    <tr>\n",
       "      <th rowspan=\"2\" valign=\"top\">1-10</th>\n",
       "      <th>F</th>\n",
       "      <td>7.159819</td>\n",
       "    </tr>\n",
       "    <tr>\n",
       "      <th>M</th>\n",
       "      <td>7.970787</td>\n",
       "    </tr>\n",
       "    <tr>\n",
       "      <th rowspan=\"2\" valign=\"top\">11-20</th>\n",
       "      <th>F</th>\n",
       "      <td>7.737802</td>\n",
       "    </tr>\n",
       "    <tr>\n",
       "      <th>M</th>\n",
       "      <td>4.986783</td>\n",
       "    </tr>\n",
       "    <tr>\n",
       "      <th rowspan=\"2\" valign=\"top\">21-30</th>\n",
       "      <th>F</th>\n",
       "      <td>9.485192</td>\n",
       "    </tr>\n",
       "    <tr>\n",
       "      <th>M</th>\n",
       "      <td>3.629195</td>\n",
       "    </tr>\n",
       "    <tr>\n",
       "      <th rowspan=\"2\" valign=\"top\">31-40</th>\n",
       "      <th>F</th>\n",
       "      <td>7.589946</td>\n",
       "    </tr>\n",
       "    <tr>\n",
       "      <th>M</th>\n",
       "      <td>4.319190</td>\n",
       "    </tr>\n",
       "    <tr>\n",
       "      <th rowspan=\"2\" valign=\"top\">41-50</th>\n",
       "      <th>F</th>\n",
       "      <td>7.482414</td>\n",
       "    </tr>\n",
       "    <tr>\n",
       "      <th>M</th>\n",
       "      <td>3.741207</td>\n",
       "    </tr>\n",
       "    <tr>\n",
       "      <th rowspan=\"2\" valign=\"top\">51-60</th>\n",
       "      <th>F</th>\n",
       "      <td>7.504817</td>\n",
       "    </tr>\n",
       "    <tr>\n",
       "      <th>M</th>\n",
       "      <td>3.750168</td>\n",
       "    </tr>\n",
       "    <tr>\n",
       "      <th rowspan=\"2\" valign=\"top\">61-70</th>\n",
       "      <th>F</th>\n",
       "      <td>4.933017</td>\n",
       "    </tr>\n",
       "    <tr>\n",
       "      <th>M</th>\n",
       "      <td>2.110310</td>\n",
       "    </tr>\n",
       "    <tr>\n",
       "      <th rowspan=\"2\" valign=\"top\">71-80</th>\n",
       "      <th>F</th>\n",
       "      <td>2.643488</td>\n",
       "    </tr>\n",
       "    <tr>\n",
       "      <th>M</th>\n",
       "      <td>1.303822</td>\n",
       "    </tr>\n",
       "    <tr>\n",
       "      <th rowspan=\"2\" valign=\"top\">81-90</th>\n",
       "      <th>F</th>\n",
       "      <td>1.196290</td>\n",
       "    </tr>\n",
       "    <tr>\n",
       "      <th>M</th>\n",
       "      <td>0.627268</td>\n",
       "    </tr>\n",
       "    <tr>\n",
       "      <th rowspan=\"2\" valign=\"top\">91-100</th>\n",
       "      <th>F</th>\n",
       "      <td>0.206102</td>\n",
       "    </tr>\n",
       "    <tr>\n",
       "      <th>M</th>\n",
       "      <td>0.058246</td>\n",
       "    </tr>\n",
       "    <tr>\n",
       "      <th rowspan=\"2\" valign=\"top\">101-110</th>\n",
       "      <th>F</th>\n",
       "      <td>NaN</td>\n",
       "    </tr>\n",
       "    <tr>\n",
       "      <th>M</th>\n",
       "      <td>NaN</td>\n",
       "    </tr>\n",
       "    <tr>\n",
       "      <th rowspan=\"2\" valign=\"top\">111-120</th>\n",
       "      <th>F</th>\n",
       "      <td>0.013441</td>\n",
       "    </tr>\n",
       "    <tr>\n",
       "      <th>M</th>\n",
       "      <td>NaN</td>\n",
       "    </tr>\n",
       "  </tbody>\n",
       "</table>\n",
       "</div>"
      ],
      "text/plain": [
       "                appointmentid\n",
       "age_grp gender               \n",
       "1-10    F            7.159819\n",
       "        M            7.970787\n",
       "11-20   F            7.737802\n",
       "        M            4.986783\n",
       "21-30   F            9.485192\n",
       "        M            3.629195\n",
       "31-40   F            7.589946\n",
       "        M            4.319190\n",
       "41-50   F            7.482414\n",
       "        M            3.741207\n",
       "51-60   F            7.504817\n",
       "        M            3.750168\n",
       "61-70   F            4.933017\n",
       "        M            2.110310\n",
       "71-80   F            2.643488\n",
       "        M            1.303822\n",
       "81-90   F            1.196290\n",
       "        M            0.627268\n",
       "91-100  F            0.206102\n",
       "        M            0.058246\n",
       "101-110 F                 NaN\n",
       "        M                 NaN\n",
       "111-120 F            0.013441\n",
       "        M                 NaN"
      ]
     },
     "execution_count": 78,
     "metadata": {},
     "output_type": "execute_result"
    },
    {
     "data": {
      "image/png": "[encoded data removed]",
      "text/plain": [
       "<Figure size 720x360 with 1 Axes>"
      ]
     },
     "metadata": {},
     "output_type": "display_data"
    }
   ],
   "source": [
    "# Plotting the age group and gender wise distribution of Non Scholarship patients.\n",
    "age_labels=df[['age_grp','appointmentid']].groupby('age_grp',as_index=False).count()['age_grp']\n",
    "\n",
    "m_ns_nsch_pct=[]\n",
    "f_ns_nsch_pct=[]\n",
    "\n",
    "for age in age_labels:\n",
    "    m=(ns_df[(ns_df['gender']==\"M\") & (ns_df['age_grp']==age) & (ns_df['scholarship']==0)]['appointmentid'].count()/ns_tot)*100\n",
    "    f=(ns_df[(ns_df['gender']==\"F\") & (ns_df['age_grp']==age) & (ns_df['scholarship']==0)]['appointmentid'].count()/ns_tot)*100\n",
    "    m_ns_nsch_pct.append(m)\n",
    "    f_ns_nsch_pct.append(f)\n",
    "    \n",
    "indx=np.arange(len(age_labels))\n",
    "wdth=0.4\n",
    "plt.figure(figsize=(10,5))\n",
    "loc=indx+wdth/2\n",
    "\n",
    "plt.bar(indx,m_ns_nsch_pct,width=0.4,label='Male');\n",
    "plt.bar(indx+wdth,f_ns_nsch_pct,width=0.4,label='Female');\n",
    "plt.xticks(loc,age_labels,fontsize=12);\n",
    "plt.title('Age group and Gender wise distribution of Non Scholarship patients',fontsize=14);\n",
    "plt.tick_params(axis='x',rotation=0)\n",
    "plt.xlabel('Age Group',fontsize=12)\n",
    "plt.ylabel('No Show Percentage',fontsize=12);\n",
    "plt.legend()\n",
    "plt.tight_layout()\n",
    "\n",
    "(ns_df[ns_df['scholarship']==0][['gender','age_grp','appointmentid']].groupby(['age_grp','gender']).count()).apply(lambda x:x*100/ns_df['appointmentid'].count())"
   ]
  },
  {
   "cell_type": "markdown",
   "metadata": {},
   "source": [
    "##### Observations: \n",
    "##### 1) Almost 89% of the No show patients do not have a scholarship, which may suggest a relation between scholarship and appointment no show.\n",
    "\n",
    "##### 2) Among the non scholarship patients, No Show rate of female patients is high, specially within the females of age group between 21 to 30."
   ]
  },
  {
   "cell_type": "markdown",
   "metadata": {},
   "source": [
    "## SMS Received Analysis\n",
    "## Q: Does receiving an SMS lowers no show rate?"
   ]
  },
  {
   "cell_type": "markdown",
   "metadata": {},
   "source": [
    "### SMS Received percentage Analysis"
   ]
  },
  {
   "cell_type": "code",
   "execution_count": 79,
   "metadata": {},
   "outputs": [
    {
     "data": {
      "text/html": [
       "<div>\n",
       "<style scoped>\n",
       "    .dataframe tbody tr th:only-of-type {\n",
       "        vertical-align: middle;\n",
       "    }\n",
       "\n",
       "    .dataframe tbody tr th {\n",
       "        vertical-align: top;\n",
       "    }\n",
       "\n",
       "    .dataframe thead th {\n",
       "        text-align: right;\n",
       "    }\n",
       "</style>\n",
       "<table border=\"1\" class=\"dataframe\">\n",
       "  <thead>\n",
       "    <tr style=\"text-align: right;\">\n",
       "      <th></th>\n",
       "      <th>appointmentid</th>\n",
       "    </tr>\n",
       "    <tr>\n",
       "      <th>sms_received</th>\n",
       "      <th></th>\n",
       "    </tr>\n",
       "  </thead>\n",
       "  <tbody>\n",
       "    <tr>\n",
       "      <th>0</th>\n",
       "      <td>56.162911</td>\n",
       "    </tr>\n",
       "    <tr>\n",
       "      <th>1</th>\n",
       "      <td>43.837089</td>\n",
       "    </tr>\n",
       "  </tbody>\n",
       "</table>\n",
       "</div>"
      ],
      "text/plain": [
       "              appointmentid\n",
       "sms_received               \n",
       "0                 56.162911\n",
       "1                 43.837089"
      ]
     },
     "execution_count": 79,
     "metadata": {},
     "output_type": "execute_result"
    }
   ],
   "source": [
    "#Percentage of No show patients that reeived SMS\n",
    "ns_df[['sms_received','appointmentid']].groupby('sms_received').count().apply(lambda x:x*100/ns_df['appointmentid'].count())"
   ]
  },
  {
   "cell_type": "markdown",
   "metadata": {},
   "source": [
    "### How the no show patients are distributed in terms of age groups and gender"
   ]
  },
  {
   "cell_type": "code",
   "execution_count": 80,
   "metadata": {},
   "outputs": [
    {
     "data": {
      "text/html": [
       "<div>\n",
       "<style scoped>\n",
       "    .dataframe tbody tr th:only-of-type {\n",
       "        vertical-align: middle;\n",
       "    }\n",
       "\n",
       "    .dataframe tbody tr th {\n",
       "        vertical-align: top;\n",
       "    }\n",
       "\n",
       "    .dataframe thead th {\n",
       "        text-align: right;\n",
       "    }\n",
       "</style>\n",
       "<table border=\"1\" class=\"dataframe\">\n",
       "  <thead>\n",
       "    <tr style=\"text-align: right;\">\n",
       "      <th></th>\n",
       "      <th></th>\n",
       "      <th>appointmentid</th>\n",
       "    </tr>\n",
       "    <tr>\n",
       "      <th>age_grp</th>\n",
       "      <th>gender</th>\n",
       "      <th></th>\n",
       "    </tr>\n",
       "  </thead>\n",
       "  <tbody>\n",
       "    <tr>\n",
       "      <th rowspan=\"2\" valign=\"top\">1-10</th>\n",
       "      <th>F</th>\n",
       "      <td>3.476858</td>\n",
       "    </tr>\n",
       "    <tr>\n",
       "      <th>M</th>\n",
       "      <td>3.561988</td>\n",
       "    </tr>\n",
       "    <tr>\n",
       "      <th rowspan=\"2\" valign=\"top\">11-20</th>\n",
       "      <th>F</th>\n",
       "      <td>4.363995</td>\n",
       "    </tr>\n",
       "    <tr>\n",
       "      <th>M</th>\n",
       "      <td>1.868363</td>\n",
       "    </tr>\n",
       "    <tr>\n",
       "      <th rowspan=\"2\" valign=\"top\">21-30</th>\n",
       "      <th>F</th>\n",
       "      <td>5.891841</td>\n",
       "    </tr>\n",
       "    <tr>\n",
       "      <th>M</th>\n",
       "      <td>1.635378</td>\n",
       "    </tr>\n",
       "    <tr>\n",
       "      <th rowspan=\"2\" valign=\"top\">31-40</th>\n",
       "      <th>F</th>\n",
       "      <td>4.847887</td>\n",
       "    </tr>\n",
       "    <tr>\n",
       "      <th>M</th>\n",
       "      <td>1.971414</td>\n",
       "    </tr>\n",
       "    <tr>\n",
       "      <th rowspan=\"2\" valign=\"top\">41-50</th>\n",
       "      <th>F</th>\n",
       "      <td>4.144451</td>\n",
       "    </tr>\n",
       "    <tr>\n",
       "      <th>M</th>\n",
       "      <td>1.559210</td>\n",
       "    </tr>\n",
       "    <tr>\n",
       "      <th rowspan=\"2\" valign=\"top\">51-60</th>\n",
       "      <th>F</th>\n",
       "      <td>3.678480</td>\n",
       "    </tr>\n",
       "    <tr>\n",
       "      <th>M</th>\n",
       "      <td>1.554729</td>\n",
       "    </tr>\n",
       "    <tr>\n",
       "      <th rowspan=\"2\" valign=\"top\">61-70</th>\n",
       "      <th>F</th>\n",
       "      <td>2.146154</td>\n",
       "    </tr>\n",
       "    <tr>\n",
       "      <th>M</th>\n",
       "      <td>0.914019</td>\n",
       "    </tr>\n",
       "    <tr>\n",
       "      <th rowspan=\"2\" valign=\"top\">71-80</th>\n",
       "      <th>F</th>\n",
       "      <td>1.070837</td>\n",
       "    </tr>\n",
       "    <tr>\n",
       "      <th>M</th>\n",
       "      <td>0.479412</td>\n",
       "    </tr>\n",
       "    <tr>\n",
       "      <th rowspan=\"2\" valign=\"top\">81-90</th>\n",
       "      <th>F</th>\n",
       "      <td>0.439088</td>\n",
       "    </tr>\n",
       "    <tr>\n",
       "      <th>M</th>\n",
       "      <td>0.165778</td>\n",
       "    </tr>\n",
       "    <tr>\n",
       "      <th rowspan=\"2\" valign=\"top\">91-100</th>\n",
       "      <th>F</th>\n",
       "      <td>0.049285</td>\n",
       "    </tr>\n",
       "    <tr>\n",
       "      <th>M</th>\n",
       "      <td>0.017922</td>\n",
       "    </tr>\n",
       "    <tr>\n",
       "      <th rowspan=\"2\" valign=\"top\">101-110</th>\n",
       "      <th>F</th>\n",
       "      <td>NaN</td>\n",
       "    </tr>\n",
       "    <tr>\n",
       "      <th>M</th>\n",
       "      <td>NaN</td>\n",
       "    </tr>\n",
       "    <tr>\n",
       "      <th rowspan=\"2\" valign=\"top\">111-120</th>\n",
       "      <th>F</th>\n",
       "      <td>NaN</td>\n",
       "    </tr>\n",
       "    <tr>\n",
       "      <th>M</th>\n",
       "      <td>NaN</td>\n",
       "    </tr>\n",
       "  </tbody>\n",
       "</table>\n",
       "</div>"
      ],
      "text/plain": [
       "                appointmentid\n",
       "age_grp gender               \n",
       "1-10    F            3.476858\n",
       "        M            3.561988\n",
       "11-20   F            4.363995\n",
       "        M            1.868363\n",
       "21-30   F            5.891841\n",
       "        M            1.635378\n",
       "31-40   F            4.847887\n",
       "        M            1.971414\n",
       "41-50   F            4.144451\n",
       "        M            1.559210\n",
       "51-60   F            3.678480\n",
       "        M            1.554729\n",
       "61-70   F            2.146154\n",
       "        M            0.914019\n",
       "71-80   F            1.070837\n",
       "        M            0.479412\n",
       "81-90   F            0.439088\n",
       "        M            0.165778\n",
       "91-100  F            0.049285\n",
       "        M            0.017922\n",
       "101-110 F                 NaN\n",
       "        M                 NaN\n",
       "111-120 F                 NaN\n",
       "        M                 NaN"
      ]
     },
     "execution_count": 80,
     "metadata": {},
     "output_type": "execute_result"
    },
    {
     "data": {
      "image/png": "[encoded data removed]",
      "text/plain": [
       "<Figure size 720x360 with 1 Axes>"
      ]
     },
     "metadata": {},
     "output_type": "display_data"
    }
   ],
   "source": [
    "#Plotting the distribution of SMS received by age groups and gender.\n",
    "age_labels=df[['age_grp','appointmentid']].groupby('age_grp',as_index=False).count()['age_grp']\n",
    "\n",
    "m_ns_sms_pct=[]\n",
    "f_ns_sms_pct=[]\n",
    "\n",
    "for age in age_labels:\n",
    "    m=(ns_df[(ns_df['gender']==\"M\") & (ns_df['age_grp']==age) & (ns_df['sms_received']==1)]['appointmentid'].count()/ns_tot)*100\n",
    "    f=(ns_df[(ns_df['gender']==\"F\") & (ns_df['age_grp']==age) & (ns_df['sms_received']==1)]['appointmentid'].count()/ns_tot)*100\n",
    "    m_ns_sms_pct.append(m)\n",
    "    f_ns_sms_pct.append(f)\n",
    "    \n",
    "indx=np.arange(len(age_labels))\n",
    "wdth=0.4\n",
    "plt.figure(figsize=(10,5))\n",
    "loc=indx+wdth/2\n",
    "\n",
    "plt.bar(indx,m_ns_sms_pct,width=0.4,label='Male');\n",
    "plt.bar(indx+wdth,f_ns_sms_pct,width=0.4,label='Female');\n",
    "plt.xticks(loc,age_labels,fontsize=12);\n",
    "plt.title('Age group and Gender wise distribution of No Show patients that received SMS',fontsize=14);\n",
    "#plt.tick_params(axis='x',rotation=90)\n",
    "plt.xlabel('Age Group',fontsize=12)\n",
    "plt.ylabel('No Show Percentage',fontsize=12);\n",
    "plt.legend()\n",
    "plt.tight_layout()\n",
    "\n",
    "ns_df[ns_df['sms_received']==1][['age_grp','gender','appointmentid']].groupby(['age_grp','gender']).count().apply(lambda x:x*100/ns_df['appointmentid'].count())"
   ]
  },
  {
   "cell_type": "markdown",
   "metadata": {},
   "source": [
    "##### Observations: \n",
    "##### 1) Out of all the No show patients, 44% patients did receive an SMS, which suggest that receiving an SMS does not necessarily result into low No Show rates, atleat in this particular case.\n",
    "##### 2)The No show rate for female patients in age group 21-30 is highest among the no show patients that received a SMS"
   ]
  },
  {
   "cell_type": "markdown",
   "metadata": {},
   "source": [
    "## Appointmentday Analysis\n",
    "\n",
    "## Q: Are any appointment days associated with high no show rates?"
   ]
  },
  {
   "cell_type": "code",
   "execution_count": 81,
   "metadata": {
    "scrolled": true
   },
   "outputs": [
    {
     "data": {
      "text/html": [
       "<div>\n",
       "<style scoped>\n",
       "    .dataframe tbody tr th:only-of-type {\n",
       "        vertical-align: middle;\n",
       "    }\n",
       "\n",
       "    .dataframe tbody tr th {\n",
       "        vertical-align: top;\n",
       "    }\n",
       "\n",
       "    .dataframe thead th {\n",
       "        text-align: right;\n",
       "    }\n",
       "</style>\n",
       "<table border=\"1\" class=\"dataframe\">\n",
       "  <thead>\n",
       "    <tr style=\"text-align: right;\">\n",
       "      <th></th>\n",
       "      <th>appointmentid</th>\n",
       "    </tr>\n",
       "    <tr>\n",
       "      <th>app_weekday</th>\n",
       "      <th></th>\n",
       "    </tr>\n",
       "  </thead>\n",
       "  <tbody>\n",
       "    <tr>\n",
       "      <th>Fri</th>\n",
       "      <td>18.087728</td>\n",
       "    </tr>\n",
       "    <tr>\n",
       "      <th>Mon</th>\n",
       "      <td>21.013486</td>\n",
       "    </tr>\n",
       "    <tr>\n",
       "      <th>Sat</th>\n",
       "      <td>0.040324</td>\n",
       "    </tr>\n",
       "    <tr>\n",
       "      <th>Thu</th>\n",
       "      <td>14.955867</td>\n",
       "    </tr>\n",
       "    <tr>\n",
       "      <th>Tue</th>\n",
       "      <td>23.083471</td>\n",
       "    </tr>\n",
       "    <tr>\n",
       "      <th>Wed</th>\n",
       "      <td>22.819123</td>\n",
       "    </tr>\n",
       "  </tbody>\n",
       "</table>\n",
       "</div>"
      ],
      "text/plain": [
       "             appointmentid\n",
       "app_weekday               \n",
       "Fri              18.087728\n",
       "Mon              21.013486\n",
       "Sat               0.040324\n",
       "Thu              14.955867\n",
       "Tue              23.083471\n",
       "Wed              22.819123"
      ]
     },
     "execution_count": 81,
     "metadata": {},
     "output_type": "execute_result"
    },
    {
     "data": {
      "image/png": "[encoded data removed]",
      "text/plain": [
       "<Figure size 432x288 with 1 Axes>"
      ]
     },
     "metadata": {},
     "output_type": "display_data"
    }
   ],
   "source": [
    "weekday=['Mon','Tue','Wed','Thu','Fri','Sat'] #weekday labels\n",
    "#ns_df[['app_weekday','appointmentid']].groupby('app_weekday').count().apply(lambda x:x*100/ns_df['appointmentid'].count())\n",
    "\n",
    "ns_df['app_weekday'].value_counts().apply(lambda x:x*100/ns_df['appointmentid'].count())[weekday].plot(kind='bar');\n",
    "plt.title('No Show Rate by Weekdays',fontsize=16)\n",
    "plt.xlabel('Weekdays',fontsize=14)\n",
    "plt.ylabel('No Show Percentage',fontsize=14)\n",
    "plt.tick_params(rotation=0)\n",
    "plt.xticks(fontsize=12)\n",
    "plt.tight_layout()\n",
    "\n",
    "ns_df[['app_weekday','appointmentid']].groupby('app_weekday').count()*100/ns_df['age'].count()"
   ]
  },
  {
   "cell_type": "markdown",
   "metadata": {},
   "source": [
    "##### Observations: The No Show rate is high on Tuesdays and Wednesdays. Since we do not have the time information for the appointment dates, we cannot identify at what times of the day the no show rate is high"
   ]
  },
  {
   "cell_type": "markdown",
   "metadata": {},
   "source": [
    "## Alcoholism"
   ]
  },
  {
   "cell_type": "markdown",
   "metadata": {},
   "source": [
    "### Q: How alcoholism affects the no show rates of the two gender?"
   ]
  },
  {
   "cell_type": "code",
   "execution_count": 82,
   "metadata": {
    "scrolled": true
   },
   "outputs": [
    {
     "data": {
      "image/png": "[encoded data removed]",
      "text/plain": [
       "<Figure size 432x288 with 1 Axes>"
      ]
     },
     "metadata": {},
     "output_type": "display_data"
    }
   ],
   "source": [
    "#Checking the no show count of alcoholic patients of both genders\n",
    "ns_df[(ns_df['alcoholism']==1) & (ns_df['gender']==\"M\")]['age'].hist(label='Male',alpha=0.5,bins=10);\n",
    "ns_df[(ns_df['alcoholism']==1) & (ns_df['gender']==\"F\")]['age'].hist(label='Female',alpha=0.5,bins=10);\n",
    "plt.title(\"Alcoholism in No Show Patients\",fontsize=16)\n",
    "plt.xlabel(\"Age\",fontsize=14)\n",
    "plt.legend();"
   ]
  },
  {
   "cell_type": "code",
   "execution_count": 83,
   "metadata": {
    "scrolled": true
   },
   "outputs": [
    {
     "data": {
      "image/png": "[encoded data removed]",
      "text/plain": [
       "<Figure size 720x360 with 1 Axes>"
      ]
     },
     "metadata": {},
     "output_type": "display_data"
    }
   ],
   "source": [
    "age_labels=df[['age_grp','appointmentid']].groupby('age_grp',as_index=False).count()['age_grp']\n",
    "\n",
    "m_alch_ns_pct=[]\n",
    "f_alch_ns_pct=[]\n",
    "\n",
    "for age in age_labels:\n",
    "    m=(ns_df[(ns_df['gender']==\"M\") & (ns_df['age_grp']==age) & (ns_df['alcoholism']==1)]['appointmentid'].count()*100)/ns_df['appointmentid'].count()\n",
    "    f=(ns_df[(ns_df['gender']==\"F\") & (ns_df['age_grp']==age) & (ns_df['alcoholism']==1)]['appointmentid'].count()*100)/ns_df['appointmentid'].count()\n",
    "    m_alch_ns_pct.append(m)\n",
    "    f_alch_ns_pct.append(f)\n",
    "    \n",
    "indx=np.arange(len(age_labels))\n",
    "wdth=0.4\n",
    "plt.figure(figsize=(10,5))\n",
    "loc=indx+wdth/2\n",
    "\n",
    "plt.bar(indx,m_alch_ns_pct,width=0.4,label='Male');\n",
    "plt.bar(indx+wdth,f_alch_ns_pct,width=0.4,label='Female');\n",
    "plt.xticks(loc,age_labels,fontsize=12);\n",
    "plt.title('Age Group and Gender wise Alcoholism in No Show patients',fontsize=14);\n",
    "plt.tick_params(axis='x',rotation=0)\n",
    "plt.xlabel('Age Group',fontsize=14)\n",
    "plt.ylabel('No Show Percentage',fontsize=14);\n",
    "plt.legend()\n",
    "plt.tight_layout()"
   ]
  },
  {
   "cell_type": "markdown",
   "metadata": {},
   "source": [
    "##### Observations: Even with less number of males as compared to female patients, we can see that the alcoholism issue is more common among male patients, specially among the patients of age group 51-60 years."
   ]
  },
  {
   "cell_type": "markdown",
   "metadata": {},
   "source": [
    "## Scheduled Day Analysis\n",
    "\n",
    "## Q: Does appointments scheduled at a particular time of the day affect the no show rate?"
   ]
  },
  {
   "cell_type": "markdown",
   "metadata": {},
   "source": [
    "### Scheduled time of the day analysis"
   ]
  },
  {
   "cell_type": "code",
   "execution_count": 84,
   "metadata": {
    "scrolled": false
   },
   "outputs": [
    {
     "data": {
      "text/plain": [
       "7     2911\n",
       "8     2804\n",
       "9     2526\n",
       "10    2440\n",
       "14    2070\n",
       "11    1928\n",
       "13    1891\n",
       "15    1873\n",
       "16    1317\n",
       "12    1104\n",
       "17     722\n",
       "6      303\n",
       "18     285\n",
       "19     114\n",
       "20      30\n",
       "21       1\n",
       "Name: scheduledday, dtype: int64"
      ]
     },
     "execution_count": 84,
     "metadata": {},
     "output_type": "execute_result"
    }
   ],
   "source": [
    "sch_date=ns_df['scheduledday'].apply(lambda x:datetime.datetime.strptime(x,'%Y-%m-%dT%H:%M:%SZ'))\n",
    "rng=np.arange(1,25)\n",
    "sch_date.apply(lambda x:x.hour).value_counts()"
   ]
  },
  {
   "cell_type": "markdown",
   "metadata": {},
   "source": [
    "### No Show rates for appointments scheduled at different times of the day"
   ]
  },
  {
   "cell_type": "code",
   "execution_count": 85,
   "metadata": {},
   "outputs": [
    {
     "data": {
      "text/plain": [
       "Morning    57.852054\n",
       "Noon       31.085622\n",
       "Evening    10.923428\n",
       "Night       0.138895\n",
       "Name: scheduledday, dtype: float64"
      ]
     },
     "execution_count": 85,
     "metadata": {},
     "output_type": "execute_result"
    },
    {
     "data": {
      "image/png": "[encoded data removed]",
      "text/plain": [
       "<Figure size 432x288 with 1 Axes>"
      ]
     },
     "metadata": {},
     "output_type": "display_data"
    }
   ],
   "source": [
    "bins=[0,11,15,19,23]\n",
    "labels=['Morning','Noon','Evening','Night']\n",
    "time_grp=pd.cut(sch_date.apply(lambda x:x.hour),bins=bins,labels=labels,include_lowest=True)\n",
    "\n",
    "(time_grp.value_counts()*100/ns_df['appointmentid'].count()).plot(kind='bar');\n",
    "plt.title('No Show Rate by Scheduletime',fontsize=16)\n",
    "plt.xlabel('Scheduled time of the day',fontsize=14)\n",
    "plt.ylabel('No Show Percentage',fontsize=14)\n",
    "plt.tick_params(rotation=0)\n",
    "plt.xticks(fontsize=12)\n",
    "plt.tight_layout()\n",
    "\n",
    "time_grp.value_counts()*100/ns_df['appointmentid'].count()"
   ]
  },
  {
   "cell_type": "markdown",
   "metadata": {},
   "source": [
    "##### Observations: Almost 60% of the no show appointments were scheduled in the morning time. "
   ]
  },
  {
   "cell_type": "markdown",
   "metadata": {},
   "source": [
    "## Region Analysis\n",
    "\n",
    "## Q: Does certain neighbourhoods are associated with high no show rates?"
   ]
  },
  {
   "cell_type": "markdown",
   "metadata": {},
   "source": [
    "### Checking the top 5 neighborhood where the No Show ratio is higer as compare to other neighborhoods"
   ]
  },
  {
   "cell_type": "code",
   "execution_count": 86,
   "metadata": {},
   "outputs": [],
   "source": [
    "top_5_reg=ns_df[['neighbourhood','appointmentid']].groupby('neighbourhood').count().apply(lambda x:x*100/ns_df['appointmentid'].count()).sort_values('appointmentid',ascending=False).head()"
   ]
  },
  {
   "cell_type": "code",
   "execution_count": 87,
   "metadata": {
    "scrolled": true
   },
   "outputs": [
    {
     "data": {
      "text/html": [
       "<div>\n",
       "<style scoped>\n",
       "    .dataframe tbody tr th:only-of-type {\n",
       "        vertical-align: middle;\n",
       "    }\n",
       "\n",
       "    .dataframe tbody tr th {\n",
       "        vertical-align: top;\n",
       "    }\n",
       "\n",
       "    .dataframe thead th {\n",
       "        text-align: right;\n",
       "    }\n",
       "</style>\n",
       "<table border=\"1\" class=\"dataframe\">\n",
       "  <thead>\n",
       "    <tr style=\"text-align: right;\">\n",
       "      <th></th>\n",
       "      <th>appointmentid</th>\n",
       "    </tr>\n",
       "    <tr>\n",
       "      <th>neighbourhood</th>\n",
       "      <th></th>\n",
       "    </tr>\n",
       "  </thead>\n",
       "  <tbody>\n",
       "    <tr>\n",
       "      <th>JARDIM CAMBURI</th>\n",
       "      <td>6.563914</td>\n",
       "    </tr>\n",
       "    <tr>\n",
       "      <th>MARIA ORTIZ</th>\n",
       "      <td>5.461714</td>\n",
       "    </tr>\n",
       "    <tr>\n",
       "      <th>ITARARÉ</th>\n",
       "      <td>4.135490</td>\n",
       "    </tr>\n",
       "    <tr>\n",
       "      <th>RESISTÊNCIA</th>\n",
       "      <td>4.059322</td>\n",
       "    </tr>\n",
       "    <tr>\n",
       "      <th>CENTRO</th>\n",
       "      <td>3.149783</td>\n",
       "    </tr>\n",
       "  </tbody>\n",
       "</table>\n",
       "</div>"
      ],
      "text/plain": [
       "                appointmentid\n",
       "neighbourhood                \n",
       "JARDIM CAMBURI       6.563914\n",
       "MARIA ORTIZ          5.461714\n",
       "ITARARÉ              4.135490\n",
       "RESISTÊNCIA          4.059322\n",
       "CENTRO               3.149783"
      ]
     },
     "execution_count": 87,
     "metadata": {},
     "output_type": "execute_result"
    }
   ],
   "source": [
    "top_5_reg"
   ]
  },
  {
   "cell_type": "markdown",
   "metadata": {},
   "source": [
    "### Checking the gender wise distrubtion of top 5 regions with high No Show ratios."
   ]
  },
  {
   "cell_type": "code",
   "execution_count": 88,
   "metadata": {
    "scrolled": false
   },
   "outputs": [
    {
     "data": {
      "text/html": [
       "<div>\n",
       "<style scoped>\n",
       "    .dataframe tbody tr th:only-of-type {\n",
       "        vertical-align: middle;\n",
       "    }\n",
       "\n",
       "    .dataframe tbody tr th {\n",
       "        vertical-align: top;\n",
       "    }\n",
       "\n",
       "    .dataframe thead th {\n",
       "        text-align: right;\n",
       "    }\n",
       "</style>\n",
       "<table border=\"1\" class=\"dataframe\">\n",
       "  <thead>\n",
       "    <tr style=\"text-align: right;\">\n",
       "      <th></th>\n",
       "      <th></th>\n",
       "      <th>appointmentid</th>\n",
       "    </tr>\n",
       "    <tr>\n",
       "      <th>neighbourhood</th>\n",
       "      <th>gender</th>\n",
       "      <th></th>\n",
       "    </tr>\n",
       "  </thead>\n",
       "  <tbody>\n",
       "    <tr>\n",
       "      <th rowspan=\"2\" valign=\"top\">CENTRO</th>\n",
       "      <th>F</th>\n",
       "      <td>1.783234</td>\n",
       "    </tr>\n",
       "    <tr>\n",
       "      <th>M</th>\n",
       "      <td>1.366549</td>\n",
       "    </tr>\n",
       "    <tr>\n",
       "      <th rowspan=\"2\" valign=\"top\">ITARARÉ</th>\n",
       "      <th>F</th>\n",
       "      <td>2.706214</td>\n",
       "    </tr>\n",
       "    <tr>\n",
       "      <th>M</th>\n",
       "      <td>1.429276</td>\n",
       "    </tr>\n",
       "    <tr>\n",
       "      <th rowspan=\"2\" valign=\"top\">JARDIM CAMBURI</th>\n",
       "      <th>F</th>\n",
       "      <td>4.467046</td>\n",
       "    </tr>\n",
       "    <tr>\n",
       "      <th>M</th>\n",
       "      <td>2.096868</td>\n",
       "    </tr>\n",
       "    <tr>\n",
       "      <th rowspan=\"2\" valign=\"top\">MARIA ORTIZ</th>\n",
       "      <th>F</th>\n",
       "      <td>3.557507</td>\n",
       "    </tr>\n",
       "    <tr>\n",
       "      <th>M</th>\n",
       "      <td>1.904207</td>\n",
       "    </tr>\n",
       "    <tr>\n",
       "      <th rowspan=\"2\" valign=\"top\">RESISTÊNCIA</th>\n",
       "      <th>F</th>\n",
       "      <td>2.553878</td>\n",
       "    </tr>\n",
       "    <tr>\n",
       "      <th>M</th>\n",
       "      <td>1.505444</td>\n",
       "    </tr>\n",
       "  </tbody>\n",
       "</table>\n",
       "</div>"
      ],
      "text/plain": [
       "                       appointmentid\n",
       "neighbourhood  gender               \n",
       "CENTRO         F            1.783234\n",
       "               M            1.366549\n",
       "ITARARÉ        F            2.706214\n",
       "               M            1.429276\n",
       "JARDIM CAMBURI F            4.467046\n",
       "               M            2.096868\n",
       "MARIA ORTIZ    F            3.557507\n",
       "               M            1.904207\n",
       "RESISTÊNCIA    F            2.553878\n",
       "               M            1.505444"
      ]
     },
     "execution_count": 88,
     "metadata": {},
     "output_type": "execute_result"
    }
   ],
   "source": [
    "ns_df[ns_df['neighbourhood'].isin(top_5_reg.index)][['neighbourhood','gender','appointmentid']].groupby(['neighbourhood','gender']).count().apply(lambda x:x*100/ns_df['appointmentid'].count())"
   ]
  },
  {
   "cell_type": "markdown",
   "metadata": {},
   "source": [
    "##### Observations: The highest No show rate at 6.6% is from JARDIM CAMBURI neighbourhood, where female no show rate is 4.5% and for males it is 2.1%"
   ]
  },
  {
   "cell_type": "markdown",
   "metadata": {},
   "source": [
    "### Considerations:\n",
    "### Also, I've noticed that for some patient ids there are multiple entries for same appointment day and scheduleday but have a very short time difference, I'm considering these appointments as seperate appointments as they have different appointment ids.\n",
    "\n",
    "### Limitations:\n",
    "### 1) The data set contains appointment days data for just over a month (2016-04-29 to 2016-06-08), so the findings from above analysis may be seasonal and may differ from the overall trend of long term.\n",
    "### 2) The data set does not have the appointment time information, which may have helped to provide better insights into this analysis."
   ]
  },
  {
   "cell_type": "markdown",
   "metadata": {},
   "source": [
    "## Conclusion:\n",
    "### Based on the analysis, the chances of No show appointments are high for female patients from age group   21-30 and above with no scholarship and lives in the neighbourhoods like Jardim Camburi, Maria Ortiz, Itarare. Appointment days like Tuesdays and Wednesdays have seen high no show rates whereas, the appointment scheduled during the morning time are also likely to be no show appointments.\n",
    "\n",
    "### As mentioned earlier, please note that this analysis is still 'work in progress'. "
   ]
  }
 ],
 "metadata": {
  "kernelspec": {
   "display_name": "Python 3",
   "language": "python",
   "name": "python3"
  },
  "language_info": {
   "codemirror_mode": {
    "name": "ipython",
    "version": 3
   },
   "file_extension": ".py",
   "mimetype": "text/x-python",
   "name": "python",
   "nbconvert_exporter": "python",
   "pygments_lexer": "ipython3",
   "version": "3.7.2"
  }
 },
 "nbformat": 4,
 "nbformat_minor": 2
}
