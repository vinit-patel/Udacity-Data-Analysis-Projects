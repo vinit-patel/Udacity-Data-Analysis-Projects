{
 "cells": [
  {
   "cell_type": "code",
   "execution_count": 1,
   "metadata": {},
   "outputs": [],
   "source": [
    "import pandas as pd, requests, os, json, re, numpy as np\n",
    "import matplotlib.pyplot as plt\n",
    "import seaborn as sns\n",
    "import datetime\n",
    "#from bs4 import BeautifulSoup\n",
    "pd.set_option('display.max_colwidth', 1000)\n",
    "%matplotlib inline"
   ]
  },
  {
   "cell_type": "markdown",
   "metadata": {},
   "source": [
    "## Gather"
   ]
  },
  {
   "cell_type": "code",
   "execution_count": 2,
   "metadata": {},
   "outputs": [],
   "source": [
    "# Gathering data from a website using requests module\n",
    "\n",
    "url='https://d17h27t6h515a5.cloudfront.net/topher/2017/August/599fd2ad_image-predictions/image-predictions.tsv'\n",
    "response=requests.get(url)\n",
    "\n",
    "with open(url.split('/')[-1],'wb') as file:\n",
    "    file.write(response.content)\n",
    "    \n",
    "    \n",
    "img_pred=pd.read_csv('image-predictions.tsv','\\t')"
   ]
  },
  {
   "cell_type": "code",
   "execution_count": 3,
   "metadata": {},
   "outputs": [],
   "source": [
    "# Gathering data from a csv data source\n",
    "\n",
    "twt_arch=pd.read_csv('twitter-archive-enhanced.csv')"
   ]
  },
  {
   "cell_type": "code",
   "execution_count": 4,
   "metadata": {},
   "outputs": [],
   "source": [
    "# For this project I'm using the available tweet-json.txt file rather than creating a twitter account.\n",
    "\n",
    "url1=r'https://s3.amazonaws.com/video.udacity-data.com/topher/2018/November/5be5fb7d_tweet-json/tweet-json.txt'\n",
    "resp=requests.get(url1)\n",
    "\n",
    "with open('tweet-json.txt') as f_obj:\n",
    "    contents=f_obj.read()\n",
    "    \n",
    "twt_api=pd.read_json(url1,lines=True)"
   ]
  },
  {
   "cell_type": "markdown",
   "metadata": {},
   "source": [
    "## Assess"
   ]
  },
  {
   "cell_type": "code",
   "execution_count": 5,
   "metadata": {
    "scrolled": false
   },
   "outputs": [
    {
     "name": "stdout",
     "output_type": "stream",
     "text": [
      "<class 'pandas.core.frame.DataFrame'>\n",
      "RangeIndex: 2356 entries, 0 to 2355\n",
      "Data columns (total 17 columns):\n",
      "tweet_id                      2356 non-null int64\n",
      "in_reply_to_status_id         78 non-null float64\n",
      "in_reply_to_user_id           78 non-null float64\n",
      "timestamp                     2356 non-null object\n",
      "source                        2356 non-null object\n",
      "text                          2356 non-null object\n",
      "retweeted_status_id           181 non-null float64\n",
      "retweeted_status_user_id      181 non-null float64\n",
      "retweeted_status_timestamp    181 non-null object\n",
      "expanded_urls                 2297 non-null object\n",
      "rating_numerator              2356 non-null int64\n",
      "rating_denominator            2356 non-null int64\n",
      "name                          2356 non-null object\n",
      "doggo                         2356 non-null object\n",
      "floofer                       2356 non-null object\n",
      "pupper                        2356 non-null object\n",
      "puppo                         2356 non-null object\n",
      "dtypes: float64(4), int64(3), object(10)\n",
      "memory usage: 313.0+ KB\n"
     ]
    }
   ],
   "source": [
    "twt_arch.info()"
   ]
  },
  {
   "cell_type": "code",
   "execution_count": 6,
   "metadata": {},
   "outputs": [
    {
     "data": {
      "text/html": [
       "<div>\n",
       "<style scoped>\n",
       "    .dataframe tbody tr th:only-of-type {\n",
       "        vertical-align: middle;\n",
       "    }\n",
       "\n",
       "    .dataframe tbody tr th {\n",
       "        vertical-align: top;\n",
       "    }\n",
       "\n",
       "    .dataframe thead th {\n",
       "        text-align: right;\n",
       "    }\n",
       "</style>\n",
       "<table border=\"1\" class=\"dataframe\">\n",
       "  <thead>\n",
       "    <tr style=\"text-align: right;\">\n",
       "      <th></th>\n",
       "      <th>tweet_id</th>\n",
       "      <th>in_reply_to_status_id</th>\n",
       "      <th>in_reply_to_user_id</th>\n",
       "      <th>retweeted_status_id</th>\n",
       "      <th>retweeted_status_user_id</th>\n",
       "      <th>rating_numerator</th>\n",
       "      <th>rating_denominator</th>\n",
       "    </tr>\n",
       "  </thead>\n",
       "  <tbody>\n",
       "    <tr>\n",
       "      <th>count</th>\n",
       "      <td>2.356000e+03</td>\n",
       "      <td>7.800000e+01</td>\n",
       "      <td>7.800000e+01</td>\n",
       "      <td>1.810000e+02</td>\n",
       "      <td>1.810000e+02</td>\n",
       "      <td>2356.000000</td>\n",
       "      <td>2356.000000</td>\n",
       "    </tr>\n",
       "    <tr>\n",
       "      <th>mean</th>\n",
       "      <td>7.427716e+17</td>\n",
       "      <td>7.455079e+17</td>\n",
       "      <td>2.014171e+16</td>\n",
       "      <td>7.720400e+17</td>\n",
       "      <td>1.241698e+16</td>\n",
       "      <td>13.126486</td>\n",
       "      <td>10.455433</td>\n",
       "    </tr>\n",
       "    <tr>\n",
       "      <th>std</th>\n",
       "      <td>6.856705e+16</td>\n",
       "      <td>7.582492e+16</td>\n",
       "      <td>1.252797e+17</td>\n",
       "      <td>6.236928e+16</td>\n",
       "      <td>9.599254e+16</td>\n",
       "      <td>45.876648</td>\n",
       "      <td>6.745237</td>\n",
       "    </tr>\n",
       "    <tr>\n",
       "      <th>min</th>\n",
       "      <td>6.660209e+17</td>\n",
       "      <td>6.658147e+17</td>\n",
       "      <td>1.185634e+07</td>\n",
       "      <td>6.661041e+17</td>\n",
       "      <td>7.832140e+05</td>\n",
       "      <td>0.000000</td>\n",
       "      <td>0.000000</td>\n",
       "    </tr>\n",
       "    <tr>\n",
       "      <th>25%</th>\n",
       "      <td>6.783989e+17</td>\n",
       "      <td>6.757419e+17</td>\n",
       "      <td>3.086374e+08</td>\n",
       "      <td>7.186315e+17</td>\n",
       "      <td>4.196984e+09</td>\n",
       "      <td>10.000000</td>\n",
       "      <td>10.000000</td>\n",
       "    </tr>\n",
       "    <tr>\n",
       "      <th>50%</th>\n",
       "      <td>7.196279e+17</td>\n",
       "      <td>7.038708e+17</td>\n",
       "      <td>4.196984e+09</td>\n",
       "      <td>7.804657e+17</td>\n",
       "      <td>4.196984e+09</td>\n",
       "      <td>11.000000</td>\n",
       "      <td>10.000000</td>\n",
       "    </tr>\n",
       "    <tr>\n",
       "      <th>75%</th>\n",
       "      <td>7.993373e+17</td>\n",
       "      <td>8.257804e+17</td>\n",
       "      <td>4.196984e+09</td>\n",
       "      <td>8.203146e+17</td>\n",
       "      <td>4.196984e+09</td>\n",
       "      <td>12.000000</td>\n",
       "      <td>10.000000</td>\n",
       "    </tr>\n",
       "    <tr>\n",
       "      <th>max</th>\n",
       "      <td>8.924206e+17</td>\n",
       "      <td>8.862664e+17</td>\n",
       "      <td>8.405479e+17</td>\n",
       "      <td>8.874740e+17</td>\n",
       "      <td>7.874618e+17</td>\n",
       "      <td>1776.000000</td>\n",
       "      <td>170.000000</td>\n",
       "    </tr>\n",
       "  </tbody>\n",
       "</table>\n",
       "</div>"
      ],
      "text/plain": [
       "           tweet_id  in_reply_to_status_id  in_reply_to_user_id  \\\n",
       "count  2.356000e+03           7.800000e+01         7.800000e+01   \n",
       "mean   7.427716e+17           7.455079e+17         2.014171e+16   \n",
       "std    6.856705e+16           7.582492e+16         1.252797e+17   \n",
       "min    6.660209e+17           6.658147e+17         1.185634e+07   \n",
       "25%    6.783989e+17           6.757419e+17         3.086374e+08   \n",
       "50%    7.196279e+17           7.038708e+17         4.196984e+09   \n",
       "75%    7.993373e+17           8.257804e+17         4.196984e+09   \n",
       "max    8.924206e+17           8.862664e+17         8.405479e+17   \n",
       "\n",
       "       retweeted_status_id  retweeted_status_user_id  rating_numerator  \\\n",
       "count         1.810000e+02              1.810000e+02       2356.000000   \n",
       "mean          7.720400e+17              1.241698e+16         13.126486   \n",
       "std           6.236928e+16              9.599254e+16         45.876648   \n",
       "min           6.661041e+17              7.832140e+05          0.000000   \n",
       "25%           7.186315e+17              4.196984e+09         10.000000   \n",
       "50%           7.804657e+17              4.196984e+09         11.000000   \n",
       "75%           8.203146e+17              4.196984e+09         12.000000   \n",
       "max           8.874740e+17              7.874618e+17       1776.000000   \n",
       "\n",
       "       rating_denominator  \n",
       "count         2356.000000  \n",
       "mean            10.455433  \n",
       "std              6.745237  \n",
       "min              0.000000  \n",
       "25%             10.000000  \n",
       "50%             10.000000  \n",
       "75%             10.000000  \n",
       "max            170.000000  "
      ]
     },
     "execution_count": 6,
     "metadata": {},
     "output_type": "execute_result"
    }
   ],
   "source": [
    "twt_arch.describe()"
   ]
  },
  {
   "cell_type": "code",
   "execution_count": 7,
   "metadata": {},
   "outputs": [
    {
     "data": {
      "text/html": [
       "<div>\n",
       "<style scoped>\n",
       "    .dataframe tbody tr th:only-of-type {\n",
       "        vertical-align: middle;\n",
       "    }\n",
       "\n",
       "    .dataframe tbody tr th {\n",
       "        vertical-align: top;\n",
       "    }\n",
       "\n",
       "    .dataframe thead th {\n",
       "        text-align: right;\n",
       "    }\n",
       "</style>\n",
       "<table border=\"1\" class=\"dataframe\">\n",
       "  <thead>\n",
       "    <tr style=\"text-align: right;\">\n",
       "      <th></th>\n",
       "      <th>tweet_id</th>\n",
       "      <th>in_reply_to_status_id</th>\n",
       "      <th>in_reply_to_user_id</th>\n",
       "      <th>timestamp</th>\n",
       "      <th>source</th>\n",
       "      <th>text</th>\n",
       "      <th>retweeted_status_id</th>\n",
       "      <th>retweeted_status_user_id</th>\n",
       "      <th>retweeted_status_timestamp</th>\n",
       "      <th>expanded_urls</th>\n",
       "      <th>rating_numerator</th>\n",
       "      <th>rating_denominator</th>\n",
       "      <th>name</th>\n",
       "      <th>doggo</th>\n",
       "      <th>floofer</th>\n",
       "      <th>pupper</th>\n",
       "      <th>puppo</th>\n",
       "    </tr>\n",
       "  </thead>\n",
       "  <tbody>\n",
       "    <tr>\n",
       "      <th>0</th>\n",
       "      <td>892420643555336193</td>\n",
       "      <td>NaN</td>\n",
       "      <td>NaN</td>\n",
       "      <td>2017-08-01 16:23:56 +0000</td>\n",
       "      <td>&lt;a href=\"http://twitter.com/download/iphone\" rel=\"nofollow\"&gt;Twitter for iPhone&lt;/a&gt;</td>\n",
       "      <td>This is Phineas. He's a mystical boy. Only ever appears in the hole of a donut. 13/10 https://t.co/MgUWQ76dJU</td>\n",
       "      <td>NaN</td>\n",
       "      <td>NaN</td>\n",
       "      <td>NaN</td>\n",
       "      <td>https://twitter.com/dog_rates/status/892420643555336193/photo/1</td>\n",
       "      <td>13</td>\n",
       "      <td>10</td>\n",
       "      <td>Phineas</td>\n",
       "      <td>None</td>\n",
       "      <td>None</td>\n",
       "      <td>None</td>\n",
       "      <td>None</td>\n",
       "    </tr>\n",
       "    <tr>\n",
       "      <th>1</th>\n",
       "      <td>892177421306343426</td>\n",
       "      <td>NaN</td>\n",
       "      <td>NaN</td>\n",
       "      <td>2017-08-01 00:17:27 +0000</td>\n",
       "      <td>&lt;a href=\"http://twitter.com/download/iphone\" rel=\"nofollow\"&gt;Twitter for iPhone&lt;/a&gt;</td>\n",
       "      <td>This is Tilly. She's just checking pup on you. Hopes you're doing ok. If not, she's available for pats, snugs, boops, the whole bit. 13/10 https://t.co/0Xxu71qeIV</td>\n",
       "      <td>NaN</td>\n",
       "      <td>NaN</td>\n",
       "      <td>NaN</td>\n",
       "      <td>https://twitter.com/dog_rates/status/892177421306343426/photo/1</td>\n",
       "      <td>13</td>\n",
       "      <td>10</td>\n",
       "      <td>Tilly</td>\n",
       "      <td>None</td>\n",
       "      <td>None</td>\n",
       "      <td>None</td>\n",
       "      <td>None</td>\n",
       "    </tr>\n",
       "    <tr>\n",
       "      <th>2</th>\n",
       "      <td>891815181378084864</td>\n",
       "      <td>NaN</td>\n",
       "      <td>NaN</td>\n",
       "      <td>2017-07-31 00:18:03 +0000</td>\n",
       "      <td>&lt;a href=\"http://twitter.com/download/iphone\" rel=\"nofollow\"&gt;Twitter for iPhone&lt;/a&gt;</td>\n",
       "      <td>This is Archie. He is a rare Norwegian Pouncing Corgo. Lives in the tall grass. You never know when one may strike. 12/10 https://t.co/wUnZnhtVJB</td>\n",
       "      <td>NaN</td>\n",
       "      <td>NaN</td>\n",
       "      <td>NaN</td>\n",
       "      <td>https://twitter.com/dog_rates/status/891815181378084864/photo/1</td>\n",
       "      <td>12</td>\n",
       "      <td>10</td>\n",
       "      <td>Archie</td>\n",
       "      <td>None</td>\n",
       "      <td>None</td>\n",
       "      <td>None</td>\n",
       "      <td>None</td>\n",
       "    </tr>\n",
       "    <tr>\n",
       "      <th>3</th>\n",
       "      <td>891689557279858688</td>\n",
       "      <td>NaN</td>\n",
       "      <td>NaN</td>\n",
       "      <td>2017-07-30 15:58:51 +0000</td>\n",
       "      <td>&lt;a href=\"http://twitter.com/download/iphone\" rel=\"nofollow\"&gt;Twitter for iPhone&lt;/a&gt;</td>\n",
       "      <td>This is Darla. She commenced a snooze mid meal. 13/10 happens to the best of us https://t.co/tD36da7qLQ</td>\n",
       "      <td>NaN</td>\n",
       "      <td>NaN</td>\n",
       "      <td>NaN</td>\n",
       "      <td>https://twitter.com/dog_rates/status/891689557279858688/photo/1</td>\n",
       "      <td>13</td>\n",
       "      <td>10</td>\n",
       "      <td>Darla</td>\n",
       "      <td>None</td>\n",
       "      <td>None</td>\n",
       "      <td>None</td>\n",
       "      <td>None</td>\n",
       "    </tr>\n",
       "    <tr>\n",
       "      <th>4</th>\n",
       "      <td>891327558926688256</td>\n",
       "      <td>NaN</td>\n",
       "      <td>NaN</td>\n",
       "      <td>2017-07-29 16:00:24 +0000</td>\n",
       "      <td>&lt;a href=\"http://twitter.com/download/iphone\" rel=\"nofollow\"&gt;Twitter for iPhone&lt;/a&gt;</td>\n",
       "      <td>This is Franklin. He would like you to stop calling him \"cute.\" He is a very fierce shark and should be respected as such. 12/10 #BarkWeek https://t.co/AtUZn91f7f</td>\n",
       "      <td>NaN</td>\n",
       "      <td>NaN</td>\n",
       "      <td>NaN</td>\n",
       "      <td>https://twitter.com/dog_rates/status/891327558926688256/photo/1,https://twitter.com/dog_rates/status/891327558926688256/photo/1</td>\n",
       "      <td>12</td>\n",
       "      <td>10</td>\n",
       "      <td>Franklin</td>\n",
       "      <td>None</td>\n",
       "      <td>None</td>\n",
       "      <td>None</td>\n",
       "      <td>None</td>\n",
       "    </tr>\n",
       "  </tbody>\n",
       "</table>\n",
       "</div>"
      ],
      "text/plain": [
       "             tweet_id  in_reply_to_status_id  in_reply_to_user_id  \\\n",
       "0  892420643555336193                    NaN                  NaN   \n",
       "1  892177421306343426                    NaN                  NaN   \n",
       "2  891815181378084864                    NaN                  NaN   \n",
       "3  891689557279858688                    NaN                  NaN   \n",
       "4  891327558926688256                    NaN                  NaN   \n",
       "\n",
       "                   timestamp  \\\n",
       "0  2017-08-01 16:23:56 +0000   \n",
       "1  2017-08-01 00:17:27 +0000   \n",
       "2  2017-07-31 00:18:03 +0000   \n",
       "3  2017-07-30 15:58:51 +0000   \n",
       "4  2017-07-29 16:00:24 +0000   \n",
       "\n",
       "                                                                               source  \\\n",
       "0  <a href=\"http://twitter.com/download/iphone\" rel=\"nofollow\">Twitter for iPhone</a>   \n",
       "1  <a href=\"http://twitter.com/download/iphone\" rel=\"nofollow\">Twitter for iPhone</a>   \n",
       "2  <a href=\"http://twitter.com/download/iphone\" rel=\"nofollow\">Twitter for iPhone</a>   \n",
       "3  <a href=\"http://twitter.com/download/iphone\" rel=\"nofollow\">Twitter for iPhone</a>   \n",
       "4  <a href=\"http://twitter.com/download/iphone\" rel=\"nofollow\">Twitter for iPhone</a>   \n",
       "\n",
       "                                                                                                                                                                 text  \\\n",
       "0                                                       This is Phineas. He's a mystical boy. Only ever appears in the hole of a donut. 13/10 https://t.co/MgUWQ76dJU   \n",
       "1  This is Tilly. She's just checking pup on you. Hopes you're doing ok. If not, she's available for pats, snugs, boops, the whole bit. 13/10 https://t.co/0Xxu71qeIV   \n",
       "2                   This is Archie. He is a rare Norwegian Pouncing Corgo. Lives in the tall grass. You never know when one may strike. 12/10 https://t.co/wUnZnhtVJB   \n",
       "3                                                             This is Darla. She commenced a snooze mid meal. 13/10 happens to the best of us https://t.co/tD36da7qLQ   \n",
       "4  This is Franklin. He would like you to stop calling him \"cute.\" He is a very fierce shark and should be respected as such. 12/10 #BarkWeek https://t.co/AtUZn91f7f   \n",
       "\n",
       "   retweeted_status_id  retweeted_status_user_id retweeted_status_timestamp  \\\n",
       "0                  NaN                       NaN                        NaN   \n",
       "1                  NaN                       NaN                        NaN   \n",
       "2                  NaN                       NaN                        NaN   \n",
       "3                  NaN                       NaN                        NaN   \n",
       "4                  NaN                       NaN                        NaN   \n",
       "\n",
       "                                                                                                                     expanded_urls  \\\n",
       "0                                                                  https://twitter.com/dog_rates/status/892420643555336193/photo/1   \n",
       "1                                                                  https://twitter.com/dog_rates/status/892177421306343426/photo/1   \n",
       "2                                                                  https://twitter.com/dog_rates/status/891815181378084864/photo/1   \n",
       "3                                                                  https://twitter.com/dog_rates/status/891689557279858688/photo/1   \n",
       "4  https://twitter.com/dog_rates/status/891327558926688256/photo/1,https://twitter.com/dog_rates/status/891327558926688256/photo/1   \n",
       "\n",
       "   rating_numerator  rating_denominator      name doggo floofer pupper puppo  \n",
       "0                13                  10   Phineas  None    None   None  None  \n",
       "1                13                  10     Tilly  None    None   None  None  \n",
       "2                12                  10    Archie  None    None   None  None  \n",
       "3                13                  10     Darla  None    None   None  None  \n",
       "4                12                  10  Franklin  None    None   None  None  "
      ]
     },
     "execution_count": 7,
     "metadata": {},
     "output_type": "execute_result"
    }
   ],
   "source": [
    "twt_arch.head()"
   ]
  },
  {
   "cell_type": "code",
   "execution_count": 8,
   "metadata": {
    "scrolled": false
   },
   "outputs": [
    {
     "name": "stdout",
     "output_type": "stream",
     "text": [
      "<class 'pandas.core.frame.DataFrame'>\n",
      "RangeIndex: 2075 entries, 0 to 2074\n",
      "Data columns (total 12 columns):\n",
      "tweet_id    2075 non-null int64\n",
      "jpg_url     2075 non-null object\n",
      "img_num     2075 non-null int64\n",
      "p1          2075 non-null object\n",
      "p1_conf     2075 non-null float64\n",
      "p1_dog      2075 non-null bool\n",
      "p2          2075 non-null object\n",
      "p2_conf     2075 non-null float64\n",
      "p2_dog      2075 non-null bool\n",
      "p3          2075 non-null object\n",
      "p3_conf     2075 non-null float64\n",
      "p3_dog      2075 non-null bool\n",
      "dtypes: bool(3), float64(3), int64(2), object(4)\n",
      "memory usage: 152.1+ KB\n"
     ]
    }
   ],
   "source": [
    "img_pred.info()"
   ]
  },
  {
   "cell_type": "code",
   "execution_count": 9,
   "metadata": {},
   "outputs": [
    {
     "data": {
      "text/html": [
       "<div>\n",
       "<style scoped>\n",
       "    .dataframe tbody tr th:only-of-type {\n",
       "        vertical-align: middle;\n",
       "    }\n",
       "\n",
       "    .dataframe tbody tr th {\n",
       "        vertical-align: top;\n",
       "    }\n",
       "\n",
       "    .dataframe thead th {\n",
       "        text-align: right;\n",
       "    }\n",
       "</style>\n",
       "<table border=\"1\" class=\"dataframe\">\n",
       "  <thead>\n",
       "    <tr style=\"text-align: right;\">\n",
       "      <th></th>\n",
       "      <th>tweet_id</th>\n",
       "      <th>jpg_url</th>\n",
       "      <th>img_num</th>\n",
       "      <th>p1</th>\n",
       "      <th>p1_conf</th>\n",
       "      <th>p1_dog</th>\n",
       "      <th>p2</th>\n",
       "      <th>p2_conf</th>\n",
       "      <th>p2_dog</th>\n",
       "      <th>p3</th>\n",
       "      <th>p3_conf</th>\n",
       "      <th>p3_dog</th>\n",
       "    </tr>\n",
       "  </thead>\n",
       "  <tbody>\n",
       "    <tr>\n",
       "      <th>0</th>\n",
       "      <td>666020888022790149</td>\n",
       "      <td>https://pbs.twimg.com/media/CT4udn0WwAA0aMy.jpg</td>\n",
       "      <td>1</td>\n",
       "      <td>Welsh_springer_spaniel</td>\n",
       "      <td>0.465074</td>\n",
       "      <td>True</td>\n",
       "      <td>collie</td>\n",
       "      <td>0.156665</td>\n",
       "      <td>True</td>\n",
       "      <td>Shetland_sheepdog</td>\n",
       "      <td>0.061428</td>\n",
       "      <td>True</td>\n",
       "    </tr>\n",
       "    <tr>\n",
       "      <th>1</th>\n",
       "      <td>666029285002620928</td>\n",
       "      <td>https://pbs.twimg.com/media/CT42GRgUYAA5iDo.jpg</td>\n",
       "      <td>1</td>\n",
       "      <td>redbone</td>\n",
       "      <td>0.506826</td>\n",
       "      <td>True</td>\n",
       "      <td>miniature_pinscher</td>\n",
       "      <td>0.074192</td>\n",
       "      <td>True</td>\n",
       "      <td>Rhodesian_ridgeback</td>\n",
       "      <td>0.072010</td>\n",
       "      <td>True</td>\n",
       "    </tr>\n",
       "    <tr>\n",
       "      <th>2</th>\n",
       "      <td>666033412701032449</td>\n",
       "      <td>https://pbs.twimg.com/media/CT4521TWwAEvMyu.jpg</td>\n",
       "      <td>1</td>\n",
       "      <td>German_shepherd</td>\n",
       "      <td>0.596461</td>\n",
       "      <td>True</td>\n",
       "      <td>malinois</td>\n",
       "      <td>0.138584</td>\n",
       "      <td>True</td>\n",
       "      <td>bloodhound</td>\n",
       "      <td>0.116197</td>\n",
       "      <td>True</td>\n",
       "    </tr>\n",
       "    <tr>\n",
       "      <th>3</th>\n",
       "      <td>666044226329800704</td>\n",
       "      <td>https://pbs.twimg.com/media/CT5Dr8HUEAA-lEu.jpg</td>\n",
       "      <td>1</td>\n",
       "      <td>Rhodesian_ridgeback</td>\n",
       "      <td>0.408143</td>\n",
       "      <td>True</td>\n",
       "      <td>redbone</td>\n",
       "      <td>0.360687</td>\n",
       "      <td>True</td>\n",
       "      <td>miniature_pinscher</td>\n",
       "      <td>0.222752</td>\n",
       "      <td>True</td>\n",
       "    </tr>\n",
       "    <tr>\n",
       "      <th>4</th>\n",
       "      <td>666049248165822465</td>\n",
       "      <td>https://pbs.twimg.com/media/CT5IQmsXIAAKY4A.jpg</td>\n",
       "      <td>1</td>\n",
       "      <td>miniature_pinscher</td>\n",
       "      <td>0.560311</td>\n",
       "      <td>True</td>\n",
       "      <td>Rottweiler</td>\n",
       "      <td>0.243682</td>\n",
       "      <td>True</td>\n",
       "      <td>Doberman</td>\n",
       "      <td>0.154629</td>\n",
       "      <td>True</td>\n",
       "    </tr>\n",
       "  </tbody>\n",
       "</table>\n",
       "</div>"
      ],
      "text/plain": [
       "             tweet_id                                          jpg_url  \\\n",
       "0  666020888022790149  https://pbs.twimg.com/media/CT4udn0WwAA0aMy.jpg   \n",
       "1  666029285002620928  https://pbs.twimg.com/media/CT42GRgUYAA5iDo.jpg   \n",
       "2  666033412701032449  https://pbs.twimg.com/media/CT4521TWwAEvMyu.jpg   \n",
       "3  666044226329800704  https://pbs.twimg.com/media/CT5Dr8HUEAA-lEu.jpg   \n",
       "4  666049248165822465  https://pbs.twimg.com/media/CT5IQmsXIAAKY4A.jpg   \n",
       "\n",
       "   img_num                      p1   p1_conf  p1_dog                  p2  \\\n",
       "0        1  Welsh_springer_spaniel  0.465074    True              collie   \n",
       "1        1                 redbone  0.506826    True  miniature_pinscher   \n",
       "2        1         German_shepherd  0.596461    True            malinois   \n",
       "3        1     Rhodesian_ridgeback  0.408143    True             redbone   \n",
       "4        1      miniature_pinscher  0.560311    True          Rottweiler   \n",
       "\n",
       "    p2_conf  p2_dog                   p3   p3_conf  p3_dog  \n",
       "0  0.156665    True    Shetland_sheepdog  0.061428    True  \n",
       "1  0.074192    True  Rhodesian_ridgeback  0.072010    True  \n",
       "2  0.138584    True           bloodhound  0.116197    True  \n",
       "3  0.360687    True   miniature_pinscher  0.222752    True  \n",
       "4  0.243682    True             Doberman  0.154629    True  "
      ]
     },
     "execution_count": 9,
     "metadata": {},
     "output_type": "execute_result"
    }
   ],
   "source": [
    "img_pred.head()"
   ]
  },
  {
   "cell_type": "code",
   "execution_count": 10,
   "metadata": {},
   "outputs": [
    {
     "data": {
      "text/html": [
       "<div>\n",
       "<style scoped>\n",
       "    .dataframe tbody tr th:only-of-type {\n",
       "        vertical-align: middle;\n",
       "    }\n",
       "\n",
       "    .dataframe tbody tr th {\n",
       "        vertical-align: top;\n",
       "    }\n",
       "\n",
       "    .dataframe thead th {\n",
       "        text-align: right;\n",
       "    }\n",
       "</style>\n",
       "<table border=\"1\" class=\"dataframe\">\n",
       "  <thead>\n",
       "    <tr style=\"text-align: right;\">\n",
       "      <th></th>\n",
       "      <th>tweet_id</th>\n",
       "      <th>jpg_url</th>\n",
       "      <th>img_num</th>\n",
       "      <th>p1</th>\n",
       "      <th>p1_conf</th>\n",
       "      <th>p1_dog</th>\n",
       "      <th>p2</th>\n",
       "      <th>p2_conf</th>\n",
       "      <th>p2_dog</th>\n",
       "      <th>p3</th>\n",
       "      <th>p3_conf</th>\n",
       "      <th>p3_dog</th>\n",
       "    </tr>\n",
       "  </thead>\n",
       "  <tbody>\n",
       "    <tr>\n",
       "      <th>1542</th>\n",
       "      <td>791312159183634433</td>\n",
       "      <td>https://pbs.twimg.com/media/CvtONV4WAAAQ3Rn.jpg</td>\n",
       "      <td>4</td>\n",
       "      <td>miniature_pinscher</td>\n",
       "      <td>0.892925</td>\n",
       "      <td>True</td>\n",
       "      <td>toy_terrier</td>\n",
       "      <td>0.095524</td>\n",
       "      <td>True</td>\n",
       "      <td>Doberman</td>\n",
       "      <td>0.003544</td>\n",
       "      <td>True</td>\n",
       "    </tr>\n",
       "    <tr>\n",
       "      <th>1523</th>\n",
       "      <td>788150585577050112</td>\n",
       "      <td>https://pbs.twimg.com/media/CvASw6dWcAQmo3X.jpg</td>\n",
       "      <td>3</td>\n",
       "      <td>chow</td>\n",
       "      <td>0.814145</td>\n",
       "      <td>True</td>\n",
       "      <td>Pomeranian</td>\n",
       "      <td>0.112704</td>\n",
       "      <td>True</td>\n",
       "      <td>Chihuahua</td>\n",
       "      <td>0.015883</td>\n",
       "      <td>True</td>\n",
       "    </tr>\n",
       "    <tr>\n",
       "      <th>1045</th>\n",
       "      <td>712809025985978368</td>\n",
       "      <td>https://pbs.twimg.com/media/CeRoBaxWEAABi0X.jpg</td>\n",
       "      <td>1</td>\n",
       "      <td>Labrador_retriever</td>\n",
       "      <td>0.868671</td>\n",
       "      <td>True</td>\n",
       "      <td>carton</td>\n",
       "      <td>0.095095</td>\n",
       "      <td>False</td>\n",
       "      <td>pug</td>\n",
       "      <td>0.007651</td>\n",
       "      <td>True</td>\n",
       "    </tr>\n",
       "    <tr>\n",
       "      <th>1375</th>\n",
       "      <td>763103485927849985</td>\n",
       "      <td>https://pbs.twimg.com/media/CpcWknPXYAAeLP9.jpg</td>\n",
       "      <td>2</td>\n",
       "      <td>seat_belt</td>\n",
       "      <td>0.685821</td>\n",
       "      <td>False</td>\n",
       "      <td>ice_bear</td>\n",
       "      <td>0.081597</td>\n",
       "      <td>False</td>\n",
       "      <td>chow</td>\n",
       "      <td>0.039085</td>\n",
       "      <td>True</td>\n",
       "    </tr>\n",
       "    <tr>\n",
       "      <th>1941</th>\n",
       "      <td>861005113778896900</td>\n",
       "      <td>https://pbs.twimg.com/media/C_LnlF5VoAEsL1K.jpg</td>\n",
       "      <td>1</td>\n",
       "      <td>German_shepherd</td>\n",
       "      <td>0.507951</td>\n",
       "      <td>True</td>\n",
       "      <td>Pembroke</td>\n",
       "      <td>0.136113</td>\n",
       "      <td>True</td>\n",
       "      <td>muzzle</td>\n",
       "      <td>0.075764</td>\n",
       "      <td>False</td>\n",
       "    </tr>\n",
       "  </tbody>\n",
       "</table>\n",
       "</div>"
      ],
      "text/plain": [
       "                tweet_id                                          jpg_url  \\\n",
       "1542  791312159183634433  https://pbs.twimg.com/media/CvtONV4WAAAQ3Rn.jpg   \n",
       "1523  788150585577050112  https://pbs.twimg.com/media/CvASw6dWcAQmo3X.jpg   \n",
       "1045  712809025985978368  https://pbs.twimg.com/media/CeRoBaxWEAABi0X.jpg   \n",
       "1375  763103485927849985  https://pbs.twimg.com/media/CpcWknPXYAAeLP9.jpg   \n",
       "1941  861005113778896900  https://pbs.twimg.com/media/C_LnlF5VoAEsL1K.jpg   \n",
       "\n",
       "      img_num                  p1   p1_conf  p1_dog           p2   p2_conf  \\\n",
       "1542        4  miniature_pinscher  0.892925    True  toy_terrier  0.095524   \n",
       "1523        3                chow  0.814145    True   Pomeranian  0.112704   \n",
       "1045        1  Labrador_retriever  0.868671    True       carton  0.095095   \n",
       "1375        2           seat_belt  0.685821   False     ice_bear  0.081597   \n",
       "1941        1     German_shepherd  0.507951    True     Pembroke  0.136113   \n",
       "\n",
       "      p2_dog         p3   p3_conf  p3_dog  \n",
       "1542    True   Doberman  0.003544    True  \n",
       "1523    True  Chihuahua  0.015883    True  \n",
       "1045   False        pug  0.007651    True  \n",
       "1375   False       chow  0.039085    True  \n",
       "1941    True     muzzle  0.075764   False  "
      ]
     },
     "execution_count": 10,
     "metadata": {},
     "output_type": "execute_result"
    }
   ],
   "source": [
    "img_pred.sample(5)"
   ]
  },
  {
   "cell_type": "code",
   "execution_count": 11,
   "metadata": {},
   "outputs": [
    {
     "name": "stdout",
     "output_type": "stream",
     "text": [
      "<class 'pandas.core.frame.DataFrame'>\n",
      "RangeIndex: 2354 entries, 0 to 2353\n",
      "Data columns (total 31 columns):\n",
      "contributors                     0 non-null float64\n",
      "coordinates                      0 non-null float64\n",
      "created_at                       2354 non-null datetime64[ns]\n",
      "display_text_range               2354 non-null object\n",
      "entities                         2354 non-null object\n",
      "extended_entities                2073 non-null object\n",
      "favorite_count                   2354 non-null int64\n",
      "favorited                        2354 non-null bool\n",
      "full_text                        2354 non-null object\n",
      "geo                              0 non-null float64\n",
      "id                               2354 non-null int64\n",
      "id_str                           2354 non-null int64\n",
      "in_reply_to_screen_name          78 non-null object\n",
      "in_reply_to_status_id            78 non-null float64\n",
      "in_reply_to_status_id_str        78 non-null float64\n",
      "in_reply_to_user_id              78 non-null float64\n",
      "in_reply_to_user_id_str          78 non-null float64\n",
      "is_quote_status                  2354 non-null bool\n",
      "lang                             2354 non-null object\n",
      "place                            1 non-null object\n",
      "possibly_sensitive               2211 non-null float64\n",
      "possibly_sensitive_appealable    2211 non-null float64\n",
      "quoted_status                    28 non-null object\n",
      "quoted_status_id                 29 non-null float64\n",
      "quoted_status_id_str             29 non-null float64\n",
      "retweet_count                    2354 non-null int64\n",
      "retweeted                        2354 non-null bool\n",
      "retweeted_status                 179 non-null object\n",
      "source                           2354 non-null object\n",
      "truncated                        2354 non-null bool\n",
      "user                             2354 non-null object\n",
      "dtypes: bool(4), datetime64[ns](1), float64(11), int64(4), object(11)\n",
      "memory usage: 505.8+ KB\n"
     ]
    }
   ],
   "source": [
    "twt_api.info()"
   ]
  },
  {
   "cell_type": "code",
   "execution_count": 12,
   "metadata": {
    "scrolled": true
   },
   "outputs": [
    {
     "data": {
      "text/html": [
       "<div>\n",
       "<style scoped>\n",
       "    .dataframe tbody tr th:only-of-type {\n",
       "        vertical-align: middle;\n",
       "    }\n",
       "\n",
       "    .dataframe tbody tr th {\n",
       "        vertical-align: top;\n",
       "    }\n",
       "\n",
       "    .dataframe thead th {\n",
       "        text-align: right;\n",
       "    }\n",
       "</style>\n",
       "<table border=\"1\" class=\"dataframe\">\n",
       "  <thead>\n",
       "    <tr style=\"text-align: right;\">\n",
       "      <th></th>\n",
       "      <th>contributors</th>\n",
       "      <th>coordinates</th>\n",
       "      <th>created_at</th>\n",
       "      <th>display_text_range</th>\n",
       "      <th>entities</th>\n",
       "      <th>extended_entities</th>\n",
       "      <th>favorite_count</th>\n",
       "      <th>favorited</th>\n",
       "      <th>full_text</th>\n",
       "      <th>geo</th>\n",
       "      <th>...</th>\n",
       "      <th>possibly_sensitive_appealable</th>\n",
       "      <th>quoted_status</th>\n",
       "      <th>quoted_status_id</th>\n",
       "      <th>quoted_status_id_str</th>\n",
       "      <th>retweet_count</th>\n",
       "      <th>retweeted</th>\n",
       "      <th>retweeted_status</th>\n",
       "      <th>source</th>\n",
       "      <th>truncated</th>\n",
       "      <th>user</th>\n",
       "    </tr>\n",
       "  </thead>\n",
       "  <tbody>\n",
       "    <tr>\n",
       "      <th>0</th>\n",
       "      <td>NaN</td>\n",
       "      <td>NaN</td>\n",
       "      <td>2017-08-01 16:23:56</td>\n",
       "      <td>[0, 85]</td>\n",
       "      <td>{'hashtags': [], 'symbols': [], 'user_mentions': [], 'urls': [], 'media': [{'id': 892420639486877696, 'id_str': '892420639486877696', 'indices': [86, 109], 'media_url': 'http://pbs.twimg.com/media/DGKD1-bXoAAIAUK.jpg', 'media_url_https': 'https://pbs.twimg.com/media/DGKD1-bXoAAIAUK.jpg', 'url': 'https://t.co/MgUWQ76dJU', 'display_url': 'pic.twitter.com/MgUWQ76dJU', 'expanded_url': 'https://twitter.com/dog_rates/status/892420643555336193/photo/1', 'type': 'photo', 'sizes': {'large': {'w': 540, 'h': 528, 'resize': 'fit'}, 'thumb': {'w': 150, 'h': 150, 'resize': 'crop'}, 'small': {'w': 540, 'h': 528, 'resize': 'fit'}, 'medium': {'w': 540, 'h': 528, 'resize': 'fit'}}}]}</td>\n",
       "      <td>{'media': [{'id': 892420639486877696, 'id_str': '892420639486877696', 'indices': [86, 109], 'media_url': 'http://pbs.twimg.com/media/DGKD1-bXoAAIAUK.jpg', 'media_url_https': 'https://pbs.twimg.com/media/DGKD1-bXoAAIAUK.jpg', 'url': 'https://t.co/MgUWQ76dJU', 'display_url': 'pic.twitter.com/MgUWQ76dJU', 'expanded_url': 'https://twitter.com/dog_rates/status/892420643555336193/photo/1', 'type': 'photo', 'sizes': {'large': {'w': 540, 'h': 528, 'resize': 'fit'}, 'thumb': {'w': 150, 'h': 150, 'resize': 'crop'}, 'small': {'w': 540, 'h': 528, 'resize': 'fit'}, 'medium': {'w': 540, 'h': 528, 'resize': 'fit'}}}]}</td>\n",
       "      <td>39467</td>\n",
       "      <td>False</td>\n",
       "      <td>This is Phineas. He's a mystical boy. Only ever appears in the hole of a donut. 13/10 https://t.co/MgUWQ76dJU</td>\n",
       "      <td>NaN</td>\n",
       "      <td>...</td>\n",
       "      <td>0.0</td>\n",
       "      <td>NaN</td>\n",
       "      <td>NaN</td>\n",
       "      <td>NaN</td>\n",
       "      <td>8853</td>\n",
       "      <td>False</td>\n",
       "      <td>NaN</td>\n",
       "      <td>&lt;a href=\"http://twitter.com/download/iphone\" rel=\"nofollow\"&gt;Twitter for iPhone&lt;/a&gt;</td>\n",
       "      <td>False</td>\n",
       "      <td>{'id': 4196983835, 'id_str': '4196983835', 'name': 'WeRateDogs™ (author)', 'screen_name': 'dog_rates', 'location': 'DM YOUR DOGS, WE WILL RATE', 'description': '#1 Source for Professional Dog Ratings | STORE: @ShopWeRateDogs | IG, FB &amp; SC: WeRateDogs MOBILE APP: @GoodDogsGame | Business: dogratingtwitter@gmail.com', 'url': 'https://t.co/N7sNNHAEXS', 'entities': {'url': {'urls': [{'url': 'https://t.co/N7sNNHAEXS', 'expanded_url': 'http://weratedogs.com', 'display_url': 'weratedogs.com', 'indices': [0, 23]}]}, 'description': {'urls': []}}, 'protected': False, 'followers_count': 3200889, 'friends_count': 104, 'listed_count': 2784, 'created_at': 'Sun Nov 15 21:41:29 +0000 2015', 'favourites_count': 114031, 'utc_offset': None, 'time_zone': None, 'geo_enabled': True, 'verified': True, 'statuses_count': 5288, 'lang': 'en', 'contributors_enabled': False, 'is_translator': False, 'is_translation_enabled': False, 'profile_background_color': '000000', 'profile_background_image_url': 'http://ab...</td>\n",
       "    </tr>\n",
       "    <tr>\n",
       "      <th>1</th>\n",
       "      <td>NaN</td>\n",
       "      <td>NaN</td>\n",
       "      <td>2017-08-01 00:17:27</td>\n",
       "      <td>[0, 138]</td>\n",
       "      <td>{'hashtags': [], 'symbols': [], 'user_mentions': [], 'urls': [], 'media': [{'id': 892177413194625024, 'id_str': '892177413194625024', 'indices': [139, 162], 'media_url': 'http://pbs.twimg.com/media/DGGmoV4XsAAUL6n.jpg', 'media_url_https': 'https://pbs.twimg.com/media/DGGmoV4XsAAUL6n.jpg', 'url': 'https://t.co/0Xxu71qeIV', 'display_url': 'pic.twitter.com/0Xxu71qeIV', 'expanded_url': 'https://twitter.com/dog_rates/status/892177421306343426/photo/1', 'type': 'photo', 'sizes': {'large': {'w': 1407, 'h': 1600, 'resize': 'fit'}, 'thumb': {'w': 150, 'h': 150, 'resize': 'crop'}, 'small': {'w': 598, 'h': 680, 'resize': 'fit'}, 'medium': {'w': 1055, 'h': 1200, 'resize': 'fit'}}}]}</td>\n",
       "      <td>{'media': [{'id': 892177413194625024, 'id_str': '892177413194625024', 'indices': [139, 162], 'media_url': 'http://pbs.twimg.com/media/DGGmoV4XsAAUL6n.jpg', 'media_url_https': 'https://pbs.twimg.com/media/DGGmoV4XsAAUL6n.jpg', 'url': 'https://t.co/0Xxu71qeIV', 'display_url': 'pic.twitter.com/0Xxu71qeIV', 'expanded_url': 'https://twitter.com/dog_rates/status/892177421306343426/photo/1', 'type': 'photo', 'sizes': {'large': {'w': 1407, 'h': 1600, 'resize': 'fit'}, 'thumb': {'w': 150, 'h': 150, 'resize': 'crop'}, 'small': {'w': 598, 'h': 680, 'resize': 'fit'}, 'medium': {'w': 1055, 'h': 1200, 'resize': 'fit'}}}]}</td>\n",
       "      <td>33819</td>\n",
       "      <td>False</td>\n",
       "      <td>This is Tilly. She's just checking pup on you. Hopes you're doing ok. If not, she's available for pats, snugs, boops, the whole bit. 13/10 https://t.co/0Xxu71qeIV</td>\n",
       "      <td>NaN</td>\n",
       "      <td>...</td>\n",
       "      <td>0.0</td>\n",
       "      <td>NaN</td>\n",
       "      <td>NaN</td>\n",
       "      <td>NaN</td>\n",
       "      <td>6514</td>\n",
       "      <td>False</td>\n",
       "      <td>NaN</td>\n",
       "      <td>&lt;a href=\"http://twitter.com/download/iphone\" rel=\"nofollow\"&gt;Twitter for iPhone&lt;/a&gt;</td>\n",
       "      <td>False</td>\n",
       "      <td>{'id': 4196983835, 'id_str': '4196983835', 'name': 'WeRateDogs™ (author)', 'screen_name': 'dog_rates', 'location': 'DM YOUR DOGS, WE WILL RATE', 'description': '#1 Source for Professional Dog Ratings | STORE: @ShopWeRateDogs | IG, FB &amp; SC: WeRateDogs MOBILE APP: @GoodDogsGame | Business: dogratingtwitter@gmail.com', 'url': 'https://t.co/N7sNNHAEXS', 'entities': {'url': {'urls': [{'url': 'https://t.co/N7sNNHAEXS', 'expanded_url': 'http://weratedogs.com', 'display_url': 'weratedogs.com', 'indices': [0, 23]}]}, 'description': {'urls': []}}, 'protected': False, 'followers_count': 3200889, 'friends_count': 104, 'listed_count': 2784, 'created_at': 'Sun Nov 15 21:41:29 +0000 2015', 'favourites_count': 114031, 'utc_offset': None, 'time_zone': None, 'geo_enabled': True, 'verified': True, 'statuses_count': 5288, 'lang': 'en', 'contributors_enabled': False, 'is_translator': False, 'is_translation_enabled': False, 'profile_background_color': '000000', 'profile_background_image_url': 'http://ab...</td>\n",
       "    </tr>\n",
       "    <tr>\n",
       "      <th>2</th>\n",
       "      <td>NaN</td>\n",
       "      <td>NaN</td>\n",
       "      <td>2017-07-31 00:18:03</td>\n",
       "      <td>[0, 121]</td>\n",
       "      <td>{'hashtags': [], 'symbols': [], 'user_mentions': [], 'urls': [], 'media': [{'id': 891815175371796480, 'id_str': '891815175371796480', 'indices': [122, 145], 'media_url': 'http://pbs.twimg.com/media/DGBdLU1WsAANxJ9.jpg', 'media_url_https': 'https://pbs.twimg.com/media/DGBdLU1WsAANxJ9.jpg', 'url': 'https://t.co/wUnZnhtVJB', 'display_url': 'pic.twitter.com/wUnZnhtVJB', 'expanded_url': 'https://twitter.com/dog_rates/status/891815181378084864/photo/1', 'type': 'photo', 'sizes': {'medium': {'w': 901, 'h': 1200, 'resize': 'fit'}, 'thumb': {'w': 150, 'h': 150, 'resize': 'crop'}, 'large': {'w': 1201, 'h': 1600, 'resize': 'fit'}, 'small': {'w': 510, 'h': 680, 'resize': 'fit'}}}]}</td>\n",
       "      <td>{'media': [{'id': 891815175371796480, 'id_str': '891815175371796480', 'indices': [122, 145], 'media_url': 'http://pbs.twimg.com/media/DGBdLU1WsAANxJ9.jpg', 'media_url_https': 'https://pbs.twimg.com/media/DGBdLU1WsAANxJ9.jpg', 'url': 'https://t.co/wUnZnhtVJB', 'display_url': 'pic.twitter.com/wUnZnhtVJB', 'expanded_url': 'https://twitter.com/dog_rates/status/891815181378084864/photo/1', 'type': 'photo', 'sizes': {'medium': {'w': 901, 'h': 1200, 'resize': 'fit'}, 'thumb': {'w': 150, 'h': 150, 'resize': 'crop'}, 'large': {'w': 1201, 'h': 1600, 'resize': 'fit'}, 'small': {'w': 510, 'h': 680, 'resize': 'fit'}}}]}</td>\n",
       "      <td>25461</td>\n",
       "      <td>False</td>\n",
       "      <td>This is Archie. He is a rare Norwegian Pouncing Corgo. Lives in the tall grass. You never know when one may strike. 12/10 https://t.co/wUnZnhtVJB</td>\n",
       "      <td>NaN</td>\n",
       "      <td>...</td>\n",
       "      <td>0.0</td>\n",
       "      <td>NaN</td>\n",
       "      <td>NaN</td>\n",
       "      <td>NaN</td>\n",
       "      <td>4328</td>\n",
       "      <td>False</td>\n",
       "      <td>NaN</td>\n",
       "      <td>&lt;a href=\"http://twitter.com/download/iphone\" rel=\"nofollow\"&gt;Twitter for iPhone&lt;/a&gt;</td>\n",
       "      <td>False</td>\n",
       "      <td>{'id': 4196983835, 'id_str': '4196983835', 'name': 'WeRateDogs™ (author)', 'screen_name': 'dog_rates', 'location': 'DM YOUR DOGS, WE WILL RATE', 'description': '#1 Source for Professional Dog Ratings | STORE: @ShopWeRateDogs | IG, FB &amp; SC: WeRateDogs MOBILE APP: @GoodDogsGame | Business: dogratingtwitter@gmail.com', 'url': 'https://t.co/N7sNNHAEXS', 'entities': {'url': {'urls': [{'url': 'https://t.co/N7sNNHAEXS', 'expanded_url': 'http://weratedogs.com', 'display_url': 'weratedogs.com', 'indices': [0, 23]}]}, 'description': {'urls': []}}, 'protected': False, 'followers_count': 3200889, 'friends_count': 104, 'listed_count': 2784, 'created_at': 'Sun Nov 15 21:41:29 +0000 2015', 'favourites_count': 114031, 'utc_offset': None, 'time_zone': None, 'geo_enabled': True, 'verified': True, 'statuses_count': 5288, 'lang': 'en', 'contributors_enabled': False, 'is_translator': False, 'is_translation_enabled': False, 'profile_background_color': '000000', 'profile_background_image_url': 'http://ab...</td>\n",
       "    </tr>\n",
       "    <tr>\n",
       "      <th>3</th>\n",
       "      <td>NaN</td>\n",
       "      <td>NaN</td>\n",
       "      <td>2017-07-30 15:58:51</td>\n",
       "      <td>[0, 79]</td>\n",
       "      <td>{'hashtags': [], 'symbols': [], 'user_mentions': [], 'urls': [], 'media': [{'id': 891689552724799489, 'id_str': '891689552724799489', 'indices': [80, 103], 'media_url': 'http://pbs.twimg.com/media/DF_q7IAWsAEuuN8.jpg', 'media_url_https': 'https://pbs.twimg.com/media/DF_q7IAWsAEuuN8.jpg', 'url': 'https://t.co/tD36da7qLQ', 'display_url': 'pic.twitter.com/tD36da7qLQ', 'expanded_url': 'https://twitter.com/dog_rates/status/891689557279858688/photo/1', 'type': 'photo', 'sizes': {'medium': {'w': 901, 'h': 1200, 'resize': 'fit'}, 'thumb': {'w': 150, 'h': 150, 'resize': 'crop'}, 'large': {'w': 1201, 'h': 1600, 'resize': 'fit'}, 'small': {'w': 510, 'h': 680, 'resize': 'fit'}}}]}</td>\n",
       "      <td>{'media': [{'id': 891689552724799489, 'id_str': '891689552724799489', 'indices': [80, 103], 'media_url': 'http://pbs.twimg.com/media/DF_q7IAWsAEuuN8.jpg', 'media_url_https': 'https://pbs.twimg.com/media/DF_q7IAWsAEuuN8.jpg', 'url': 'https://t.co/tD36da7qLQ', 'display_url': 'pic.twitter.com/tD36da7qLQ', 'expanded_url': 'https://twitter.com/dog_rates/status/891689557279858688/photo/1', 'type': 'photo', 'sizes': {'medium': {'w': 901, 'h': 1200, 'resize': 'fit'}, 'thumb': {'w': 150, 'h': 150, 'resize': 'crop'}, 'large': {'w': 1201, 'h': 1600, 'resize': 'fit'}, 'small': {'w': 510, 'h': 680, 'resize': 'fit'}}}]}</td>\n",
       "      <td>42908</td>\n",
       "      <td>False</td>\n",
       "      <td>This is Darla. She commenced a snooze mid meal. 13/10 happens to the best of us https://t.co/tD36da7qLQ</td>\n",
       "      <td>NaN</td>\n",
       "      <td>...</td>\n",
       "      <td>0.0</td>\n",
       "      <td>NaN</td>\n",
       "      <td>NaN</td>\n",
       "      <td>NaN</td>\n",
       "      <td>8964</td>\n",
       "      <td>False</td>\n",
       "      <td>NaN</td>\n",
       "      <td>&lt;a href=\"http://twitter.com/download/iphone\" rel=\"nofollow\"&gt;Twitter for iPhone&lt;/a&gt;</td>\n",
       "      <td>False</td>\n",
       "      <td>{'id': 4196983835, 'id_str': '4196983835', 'name': 'WeRateDogs™ (author)', 'screen_name': 'dog_rates', 'location': 'DM YOUR DOGS, WE WILL RATE', 'description': '#1 Source for Professional Dog Ratings | STORE: @ShopWeRateDogs | IG, FB &amp; SC: WeRateDogs MOBILE APP: @GoodDogsGame | Business: dogratingtwitter@gmail.com', 'url': 'https://t.co/N7sNNHAEXS', 'entities': {'url': {'urls': [{'url': 'https://t.co/N7sNNHAEXS', 'expanded_url': 'http://weratedogs.com', 'display_url': 'weratedogs.com', 'indices': [0, 23]}]}, 'description': {'urls': []}}, 'protected': False, 'followers_count': 3200889, 'friends_count': 104, 'listed_count': 2784, 'created_at': 'Sun Nov 15 21:41:29 +0000 2015', 'favourites_count': 114031, 'utc_offset': None, 'time_zone': None, 'geo_enabled': True, 'verified': True, 'statuses_count': 5288, 'lang': 'en', 'contributors_enabled': False, 'is_translator': False, 'is_translation_enabled': False, 'profile_background_color': '000000', 'profile_background_image_url': 'http://ab...</td>\n",
       "    </tr>\n",
       "    <tr>\n",
       "      <th>4</th>\n",
       "      <td>NaN</td>\n",
       "      <td>NaN</td>\n",
       "      <td>2017-07-29 16:00:24</td>\n",
       "      <td>[0, 138]</td>\n",
       "      <td>{'hashtags': [{'text': 'BarkWeek', 'indices': [129, 138]}], 'symbols': [], 'user_mentions': [], 'urls': [], 'media': [{'id': 891327551943041024, 'id_str': '891327551943041024', 'indices': [139, 162], 'media_url': 'http://pbs.twimg.com/media/DF6hr6AVYAAZ8G8.jpg', 'media_url_https': 'https://pbs.twimg.com/media/DF6hr6AVYAAZ8G8.jpg', 'url': 'https://t.co/AtUZn91f7f', 'display_url': 'pic.twitter.com/AtUZn91f7f', 'expanded_url': 'https://twitter.com/dog_rates/status/891327558926688256/photo/1', 'type': 'photo', 'sizes': {'small': {'w': 680, 'h': 510, 'resize': 'fit'}, 'large': {'w': 720, 'h': 540, 'resize': 'fit'}, 'thumb': {'w': 150, 'h': 150, 'resize': 'crop'}, 'medium': {'w': 720, 'h': 540, 'resize': 'fit'}}}]}</td>\n",
       "      <td>{'media': [{'id': 891327551943041024, 'id_str': '891327551943041024', 'indices': [139, 162], 'media_url': 'http://pbs.twimg.com/media/DF6hr6AVYAAZ8G8.jpg', 'media_url_https': 'https://pbs.twimg.com/media/DF6hr6AVYAAZ8G8.jpg', 'url': 'https://t.co/AtUZn91f7f', 'display_url': 'pic.twitter.com/AtUZn91f7f', 'expanded_url': 'https://twitter.com/dog_rates/status/891327558926688256/photo/1', 'type': 'photo', 'sizes': {'small': {'w': 680, 'h': 510, 'resize': 'fit'}, 'large': {'w': 720, 'h': 540, 'resize': 'fit'}, 'thumb': {'w': 150, 'h': 150, 'resize': 'crop'}, 'medium': {'w': 720, 'h': 540, 'resize': 'fit'}}}, {'id': 891327551947157504, 'id_str': '891327551947157504', 'indices': [139, 162], 'media_url': 'http://pbs.twimg.com/media/DF6hr6BUMAAzZgT.jpg', 'media_url_https': 'https://pbs.twimg.com/media/DF6hr6BUMAAzZgT.jpg', 'url': 'https://t.co/AtUZn91f7f', 'display_url': 'pic.twitter.com/AtUZn91f7f', 'expanded_url': 'https://twitter.com/dog_rates/status/891327558926688256/photo/1', 'type': ...</td>\n",
       "      <td>41048</td>\n",
       "      <td>False</td>\n",
       "      <td>This is Franklin. He would like you to stop calling him \"cute.\" He is a very fierce shark and should be respected as such. 12/10 #BarkWeek https://t.co/AtUZn91f7f</td>\n",
       "      <td>NaN</td>\n",
       "      <td>...</td>\n",
       "      <td>0.0</td>\n",
       "      <td>NaN</td>\n",
       "      <td>NaN</td>\n",
       "      <td>NaN</td>\n",
       "      <td>9774</td>\n",
       "      <td>False</td>\n",
       "      <td>NaN</td>\n",
       "      <td>&lt;a href=\"http://twitter.com/download/iphone\" rel=\"nofollow\"&gt;Twitter for iPhone&lt;/a&gt;</td>\n",
       "      <td>False</td>\n",
       "      <td>{'id': 4196983835, 'id_str': '4196983835', 'name': 'WeRateDogs™ (author)', 'screen_name': 'dog_rates', 'location': 'DM YOUR DOGS, WE WILL RATE', 'description': '#1 Source for Professional Dog Ratings | STORE: @ShopWeRateDogs | IG, FB &amp; SC: WeRateDogs MOBILE APP: @GoodDogsGame | Business: dogratingtwitter@gmail.com', 'url': 'https://t.co/N7sNNHAEXS', 'entities': {'url': {'urls': [{'url': 'https://t.co/N7sNNHAEXS', 'expanded_url': 'http://weratedogs.com', 'display_url': 'weratedogs.com', 'indices': [0, 23]}]}, 'description': {'urls': []}}, 'protected': False, 'followers_count': 3200889, 'friends_count': 104, 'listed_count': 2784, 'created_at': 'Sun Nov 15 21:41:29 +0000 2015', 'favourites_count': 114031, 'utc_offset': None, 'time_zone': None, 'geo_enabled': True, 'verified': True, 'statuses_count': 5288, 'lang': 'en', 'contributors_enabled': False, 'is_translator': False, 'is_translation_enabled': False, 'profile_background_color': '000000', 'profile_background_image_url': 'http://ab...</td>\n",
       "    </tr>\n",
       "  </tbody>\n",
       "</table>\n",
       "<p>5 rows × 31 columns</p>\n",
       "</div>"
      ],
      "text/plain": [
       "   contributors  coordinates          created_at display_text_range  \\\n",
       "0           NaN          NaN 2017-08-01 16:23:56            [0, 85]   \n",
       "1           NaN          NaN 2017-08-01 00:17:27           [0, 138]   \n",
       "2           NaN          NaN 2017-07-31 00:18:03           [0, 121]   \n",
       "3           NaN          NaN 2017-07-30 15:58:51            [0, 79]   \n",
       "4           NaN          NaN 2017-07-29 16:00:24           [0, 138]   \n",
       "\n",
       "                                                                                                                                                                                                                                                                                                                                                                                                                                                                                                                                                                                                                                                                                                                                         entities  \\\n",
       "0                                              {'hashtags': [], 'symbols': [], 'user_mentions': [], 'urls': [], 'media': [{'id': 892420639486877696, 'id_str': '892420639486877696', 'indices': [86, 109], 'media_url': 'http://pbs.twimg.com/media/DGKD1-bXoAAIAUK.jpg', 'media_url_https': 'https://pbs.twimg.com/media/DGKD1-bXoAAIAUK.jpg', 'url': 'https://t.co/MgUWQ76dJU', 'display_url': 'pic.twitter.com/MgUWQ76dJU', 'expanded_url': 'https://twitter.com/dog_rates/status/892420643555336193/photo/1', 'type': 'photo', 'sizes': {'large': {'w': 540, 'h': 528, 'resize': 'fit'}, 'thumb': {'w': 150, 'h': 150, 'resize': 'crop'}, 'small': {'w': 540, 'h': 528, 'resize': 'fit'}, 'medium': {'w': 540, 'h': 528, 'resize': 'fit'}}}]}   \n",
       "1                                         {'hashtags': [], 'symbols': [], 'user_mentions': [], 'urls': [], 'media': [{'id': 892177413194625024, 'id_str': '892177413194625024', 'indices': [139, 162], 'media_url': 'http://pbs.twimg.com/media/DGGmoV4XsAAUL6n.jpg', 'media_url_https': 'https://pbs.twimg.com/media/DGGmoV4XsAAUL6n.jpg', 'url': 'https://t.co/0Xxu71qeIV', 'display_url': 'pic.twitter.com/0Xxu71qeIV', 'expanded_url': 'https://twitter.com/dog_rates/status/892177421306343426/photo/1', 'type': 'photo', 'sizes': {'large': {'w': 1407, 'h': 1600, 'resize': 'fit'}, 'thumb': {'w': 150, 'h': 150, 'resize': 'crop'}, 'small': {'w': 598, 'h': 680, 'resize': 'fit'}, 'medium': {'w': 1055, 'h': 1200, 'resize': 'fit'}}}]}   \n",
       "2                                          {'hashtags': [], 'symbols': [], 'user_mentions': [], 'urls': [], 'media': [{'id': 891815175371796480, 'id_str': '891815175371796480', 'indices': [122, 145], 'media_url': 'http://pbs.twimg.com/media/DGBdLU1WsAANxJ9.jpg', 'media_url_https': 'https://pbs.twimg.com/media/DGBdLU1WsAANxJ9.jpg', 'url': 'https://t.co/wUnZnhtVJB', 'display_url': 'pic.twitter.com/wUnZnhtVJB', 'expanded_url': 'https://twitter.com/dog_rates/status/891815181378084864/photo/1', 'type': 'photo', 'sizes': {'medium': {'w': 901, 'h': 1200, 'resize': 'fit'}, 'thumb': {'w': 150, 'h': 150, 'resize': 'crop'}, 'large': {'w': 1201, 'h': 1600, 'resize': 'fit'}, 'small': {'w': 510, 'h': 680, 'resize': 'fit'}}}]}   \n",
       "3                                           {'hashtags': [], 'symbols': [], 'user_mentions': [], 'urls': [], 'media': [{'id': 891689552724799489, 'id_str': '891689552724799489', 'indices': [80, 103], 'media_url': 'http://pbs.twimg.com/media/DF_q7IAWsAEuuN8.jpg', 'media_url_https': 'https://pbs.twimg.com/media/DF_q7IAWsAEuuN8.jpg', 'url': 'https://t.co/tD36da7qLQ', 'display_url': 'pic.twitter.com/tD36da7qLQ', 'expanded_url': 'https://twitter.com/dog_rates/status/891689557279858688/photo/1', 'type': 'photo', 'sizes': {'medium': {'w': 901, 'h': 1200, 'resize': 'fit'}, 'thumb': {'w': 150, 'h': 150, 'resize': 'crop'}, 'large': {'w': 1201, 'h': 1600, 'resize': 'fit'}, 'small': {'w': 510, 'h': 680, 'resize': 'fit'}}}]}   \n",
       "4  {'hashtags': [{'text': 'BarkWeek', 'indices': [129, 138]}], 'symbols': [], 'user_mentions': [], 'urls': [], 'media': [{'id': 891327551943041024, 'id_str': '891327551943041024', 'indices': [139, 162], 'media_url': 'http://pbs.twimg.com/media/DF6hr6AVYAAZ8G8.jpg', 'media_url_https': 'https://pbs.twimg.com/media/DF6hr6AVYAAZ8G8.jpg', 'url': 'https://t.co/AtUZn91f7f', 'display_url': 'pic.twitter.com/AtUZn91f7f', 'expanded_url': 'https://twitter.com/dog_rates/status/891327558926688256/photo/1', 'type': 'photo', 'sizes': {'small': {'w': 680, 'h': 510, 'resize': 'fit'}, 'large': {'w': 720, 'h': 540, 'resize': 'fit'}, 'thumb': {'w': 150, 'h': 150, 'resize': 'crop'}, 'medium': {'w': 720, 'h': 540, 'resize': 'fit'}}}]}   \n",
       "\n",
       "                                                                                                                                                                                                                                                                                                                                                                                                                                                                                                                                                                                                                                                                                                                                                                                                                                                                                                                                                                                                                         extended_entities  \\\n",
       "0                                                                                                                                                                                                                                                                                                                                                                                                       {'media': [{'id': 892420639486877696, 'id_str': '892420639486877696', 'indices': [86, 109], 'media_url': 'http://pbs.twimg.com/media/DGKD1-bXoAAIAUK.jpg', 'media_url_https': 'https://pbs.twimg.com/media/DGKD1-bXoAAIAUK.jpg', 'url': 'https://t.co/MgUWQ76dJU', 'display_url': 'pic.twitter.com/MgUWQ76dJU', 'expanded_url': 'https://twitter.com/dog_rates/status/892420643555336193/photo/1', 'type': 'photo', 'sizes': {'large': {'w': 540, 'h': 528, 'resize': 'fit'}, 'thumb': {'w': 150, 'h': 150, 'resize': 'crop'}, 'small': {'w': 540, 'h': 528, 'resize': 'fit'}, 'medium': {'w': 540, 'h': 528, 'resize': 'fit'}}}]}   \n",
       "1                                                                                                                                                                                                                                                                                                                                                                                                  {'media': [{'id': 892177413194625024, 'id_str': '892177413194625024', 'indices': [139, 162], 'media_url': 'http://pbs.twimg.com/media/DGGmoV4XsAAUL6n.jpg', 'media_url_https': 'https://pbs.twimg.com/media/DGGmoV4XsAAUL6n.jpg', 'url': 'https://t.co/0Xxu71qeIV', 'display_url': 'pic.twitter.com/0Xxu71qeIV', 'expanded_url': 'https://twitter.com/dog_rates/status/892177421306343426/photo/1', 'type': 'photo', 'sizes': {'large': {'w': 1407, 'h': 1600, 'resize': 'fit'}, 'thumb': {'w': 150, 'h': 150, 'resize': 'crop'}, 'small': {'w': 598, 'h': 680, 'resize': 'fit'}, 'medium': {'w': 1055, 'h': 1200, 'resize': 'fit'}}}]}   \n",
       "2                                                                                                                                                                                                                                                                                                                                                                                                   {'media': [{'id': 891815175371796480, 'id_str': '891815175371796480', 'indices': [122, 145], 'media_url': 'http://pbs.twimg.com/media/DGBdLU1WsAANxJ9.jpg', 'media_url_https': 'https://pbs.twimg.com/media/DGBdLU1WsAANxJ9.jpg', 'url': 'https://t.co/wUnZnhtVJB', 'display_url': 'pic.twitter.com/wUnZnhtVJB', 'expanded_url': 'https://twitter.com/dog_rates/status/891815181378084864/photo/1', 'type': 'photo', 'sizes': {'medium': {'w': 901, 'h': 1200, 'resize': 'fit'}, 'thumb': {'w': 150, 'h': 150, 'resize': 'crop'}, 'large': {'w': 1201, 'h': 1600, 'resize': 'fit'}, 'small': {'w': 510, 'h': 680, 'resize': 'fit'}}}]}   \n",
       "3                                                                                                                                                                                                                                                                                                                                                                                                    {'media': [{'id': 891689552724799489, 'id_str': '891689552724799489', 'indices': [80, 103], 'media_url': 'http://pbs.twimg.com/media/DF_q7IAWsAEuuN8.jpg', 'media_url_https': 'https://pbs.twimg.com/media/DF_q7IAWsAEuuN8.jpg', 'url': 'https://t.co/tD36da7qLQ', 'display_url': 'pic.twitter.com/tD36da7qLQ', 'expanded_url': 'https://twitter.com/dog_rates/status/891689557279858688/photo/1', 'type': 'photo', 'sizes': {'medium': {'w': 901, 'h': 1200, 'resize': 'fit'}, 'thumb': {'w': 150, 'h': 150, 'resize': 'crop'}, 'large': {'w': 1201, 'h': 1600, 'resize': 'fit'}, 'small': {'w': 510, 'h': 680, 'resize': 'fit'}}}]}   \n",
       "4  {'media': [{'id': 891327551943041024, 'id_str': '891327551943041024', 'indices': [139, 162], 'media_url': 'http://pbs.twimg.com/media/DF6hr6AVYAAZ8G8.jpg', 'media_url_https': 'https://pbs.twimg.com/media/DF6hr6AVYAAZ8G8.jpg', 'url': 'https://t.co/AtUZn91f7f', 'display_url': 'pic.twitter.com/AtUZn91f7f', 'expanded_url': 'https://twitter.com/dog_rates/status/891327558926688256/photo/1', 'type': 'photo', 'sizes': {'small': {'w': 680, 'h': 510, 'resize': 'fit'}, 'large': {'w': 720, 'h': 540, 'resize': 'fit'}, 'thumb': {'w': 150, 'h': 150, 'resize': 'crop'}, 'medium': {'w': 720, 'h': 540, 'resize': 'fit'}}}, {'id': 891327551947157504, 'id_str': '891327551947157504', 'indices': [139, 162], 'media_url': 'http://pbs.twimg.com/media/DF6hr6BUMAAzZgT.jpg', 'media_url_https': 'https://pbs.twimg.com/media/DF6hr6BUMAAzZgT.jpg', 'url': 'https://t.co/AtUZn91f7f', 'display_url': 'pic.twitter.com/AtUZn91f7f', 'expanded_url': 'https://twitter.com/dog_rates/status/891327558926688256/photo/1', 'type': ...   \n",
       "\n",
       "   favorite_count  favorited  \\\n",
       "0           39467      False   \n",
       "1           33819      False   \n",
       "2           25461      False   \n",
       "3           42908      False   \n",
       "4           41048      False   \n",
       "\n",
       "                                                                                                                                                            full_text  \\\n",
       "0                                                       This is Phineas. He's a mystical boy. Only ever appears in the hole of a donut. 13/10 https://t.co/MgUWQ76dJU   \n",
       "1  This is Tilly. She's just checking pup on you. Hopes you're doing ok. If not, she's available for pats, snugs, boops, the whole bit. 13/10 https://t.co/0Xxu71qeIV   \n",
       "2                   This is Archie. He is a rare Norwegian Pouncing Corgo. Lives in the tall grass. You never know when one may strike. 12/10 https://t.co/wUnZnhtVJB   \n",
       "3                                                             This is Darla. She commenced a snooze mid meal. 13/10 happens to the best of us https://t.co/tD36da7qLQ   \n",
       "4  This is Franklin. He would like you to stop calling him \"cute.\" He is a very fierce shark and should be respected as such. 12/10 #BarkWeek https://t.co/AtUZn91f7f   \n",
       "\n",
       "   geo  ...  possibly_sensitive_appealable  quoted_status quoted_status_id  \\\n",
       "0  NaN  ...                            0.0            NaN              NaN   \n",
       "1  NaN  ...                            0.0            NaN              NaN   \n",
       "2  NaN  ...                            0.0            NaN              NaN   \n",
       "3  NaN  ...                            0.0            NaN              NaN   \n",
       "4  NaN  ...                            0.0            NaN              NaN   \n",
       "\n",
       "   quoted_status_id_str  retweet_count  retweeted  retweeted_status  \\\n",
       "0                   NaN           8853      False               NaN   \n",
       "1                   NaN           6514      False               NaN   \n",
       "2                   NaN           4328      False               NaN   \n",
       "3                   NaN           8964      False               NaN   \n",
       "4                   NaN           9774      False               NaN   \n",
       "\n",
       "                                                                               source  \\\n",
       "0  <a href=\"http://twitter.com/download/iphone\" rel=\"nofollow\">Twitter for iPhone</a>   \n",
       "1  <a href=\"http://twitter.com/download/iphone\" rel=\"nofollow\">Twitter for iPhone</a>   \n",
       "2  <a href=\"http://twitter.com/download/iphone\" rel=\"nofollow\">Twitter for iPhone</a>   \n",
       "3  <a href=\"http://twitter.com/download/iphone\" rel=\"nofollow\">Twitter for iPhone</a>   \n",
       "4  <a href=\"http://twitter.com/download/iphone\" rel=\"nofollow\">Twitter for iPhone</a>   \n",
       "\n",
       "  truncated  \\\n",
       "0     False   \n",
       "1     False   \n",
       "2     False   \n",
       "3     False   \n",
       "4     False   \n",
       "\n",
       "                                                                                                                                                                                                                                                                                                                                                                                                                                                                                                                                                                                                                                                                                                                                                                                                                                                                                                                                                                                                                                      user  \n",
       "0  {'id': 4196983835, 'id_str': '4196983835', 'name': 'WeRateDogs™ (author)', 'screen_name': 'dog_rates', 'location': 'DM YOUR DOGS, WE WILL RATE', 'description': '#1 Source for Professional Dog Ratings | STORE: @ShopWeRateDogs | IG, FB & SC: WeRateDogs MOBILE APP: @GoodDogsGame | Business: dogratingtwitter@gmail.com', 'url': 'https://t.co/N7sNNHAEXS', 'entities': {'url': {'urls': [{'url': 'https://t.co/N7sNNHAEXS', 'expanded_url': 'http://weratedogs.com', 'display_url': 'weratedogs.com', 'indices': [0, 23]}]}, 'description': {'urls': []}}, 'protected': False, 'followers_count': 3200889, 'friends_count': 104, 'listed_count': 2784, 'created_at': 'Sun Nov 15 21:41:29 +0000 2015', 'favourites_count': 114031, 'utc_offset': None, 'time_zone': None, 'geo_enabled': True, 'verified': True, 'statuses_count': 5288, 'lang': 'en', 'contributors_enabled': False, 'is_translator': False, 'is_translation_enabled': False, 'profile_background_color': '000000', 'profile_background_image_url': 'http://ab...  \n",
       "1  {'id': 4196983835, 'id_str': '4196983835', 'name': 'WeRateDogs™ (author)', 'screen_name': 'dog_rates', 'location': 'DM YOUR DOGS, WE WILL RATE', 'description': '#1 Source for Professional Dog Ratings | STORE: @ShopWeRateDogs | IG, FB & SC: WeRateDogs MOBILE APP: @GoodDogsGame | Business: dogratingtwitter@gmail.com', 'url': 'https://t.co/N7sNNHAEXS', 'entities': {'url': {'urls': [{'url': 'https://t.co/N7sNNHAEXS', 'expanded_url': 'http://weratedogs.com', 'display_url': 'weratedogs.com', 'indices': [0, 23]}]}, 'description': {'urls': []}}, 'protected': False, 'followers_count': 3200889, 'friends_count': 104, 'listed_count': 2784, 'created_at': 'Sun Nov 15 21:41:29 +0000 2015', 'favourites_count': 114031, 'utc_offset': None, 'time_zone': None, 'geo_enabled': True, 'verified': True, 'statuses_count': 5288, 'lang': 'en', 'contributors_enabled': False, 'is_translator': False, 'is_translation_enabled': False, 'profile_background_color': '000000', 'profile_background_image_url': 'http://ab...  \n",
       "2  {'id': 4196983835, 'id_str': '4196983835', 'name': 'WeRateDogs™ (author)', 'screen_name': 'dog_rates', 'location': 'DM YOUR DOGS, WE WILL RATE', 'description': '#1 Source for Professional Dog Ratings | STORE: @ShopWeRateDogs | IG, FB & SC: WeRateDogs MOBILE APP: @GoodDogsGame | Business: dogratingtwitter@gmail.com', 'url': 'https://t.co/N7sNNHAEXS', 'entities': {'url': {'urls': [{'url': 'https://t.co/N7sNNHAEXS', 'expanded_url': 'http://weratedogs.com', 'display_url': 'weratedogs.com', 'indices': [0, 23]}]}, 'description': {'urls': []}}, 'protected': False, 'followers_count': 3200889, 'friends_count': 104, 'listed_count': 2784, 'created_at': 'Sun Nov 15 21:41:29 +0000 2015', 'favourites_count': 114031, 'utc_offset': None, 'time_zone': None, 'geo_enabled': True, 'verified': True, 'statuses_count': 5288, 'lang': 'en', 'contributors_enabled': False, 'is_translator': False, 'is_translation_enabled': False, 'profile_background_color': '000000', 'profile_background_image_url': 'http://ab...  \n",
       "3  {'id': 4196983835, 'id_str': '4196983835', 'name': 'WeRateDogs™ (author)', 'screen_name': 'dog_rates', 'location': 'DM YOUR DOGS, WE WILL RATE', 'description': '#1 Source for Professional Dog Ratings | STORE: @ShopWeRateDogs | IG, FB & SC: WeRateDogs MOBILE APP: @GoodDogsGame | Business: dogratingtwitter@gmail.com', 'url': 'https://t.co/N7sNNHAEXS', 'entities': {'url': {'urls': [{'url': 'https://t.co/N7sNNHAEXS', 'expanded_url': 'http://weratedogs.com', 'display_url': 'weratedogs.com', 'indices': [0, 23]}]}, 'description': {'urls': []}}, 'protected': False, 'followers_count': 3200889, 'friends_count': 104, 'listed_count': 2784, 'created_at': 'Sun Nov 15 21:41:29 +0000 2015', 'favourites_count': 114031, 'utc_offset': None, 'time_zone': None, 'geo_enabled': True, 'verified': True, 'statuses_count': 5288, 'lang': 'en', 'contributors_enabled': False, 'is_translator': False, 'is_translation_enabled': False, 'profile_background_color': '000000', 'profile_background_image_url': 'http://ab...  \n",
       "4  {'id': 4196983835, 'id_str': '4196983835', 'name': 'WeRateDogs™ (author)', 'screen_name': 'dog_rates', 'location': 'DM YOUR DOGS, WE WILL RATE', 'description': '#1 Source for Professional Dog Ratings | STORE: @ShopWeRateDogs | IG, FB & SC: WeRateDogs MOBILE APP: @GoodDogsGame | Business: dogratingtwitter@gmail.com', 'url': 'https://t.co/N7sNNHAEXS', 'entities': {'url': {'urls': [{'url': 'https://t.co/N7sNNHAEXS', 'expanded_url': 'http://weratedogs.com', 'display_url': 'weratedogs.com', 'indices': [0, 23]}]}, 'description': {'urls': []}}, 'protected': False, 'followers_count': 3200889, 'friends_count': 104, 'listed_count': 2784, 'created_at': 'Sun Nov 15 21:41:29 +0000 2015', 'favourites_count': 114031, 'utc_offset': None, 'time_zone': None, 'geo_enabled': True, 'verified': True, 'statuses_count': 5288, 'lang': 'en', 'contributors_enabled': False, 'is_translator': False, 'is_translation_enabled': False, 'profile_background_color': '000000', 'profile_background_image_url': 'http://ab...  \n",
       "\n",
       "[5 rows x 31 columns]"
      ]
     },
     "execution_count": 12,
     "metadata": {},
     "output_type": "execute_result"
    }
   ],
   "source": [
    "twt_api.head()"
   ]
  },
  {
   "cell_type": "code",
   "execution_count": 13,
   "metadata": {
    "scrolled": true
   },
   "outputs": [
    {
     "data": {
      "text/html": [
       "<div>\n",
       "<style scoped>\n",
       "    .dataframe tbody tr th:only-of-type {\n",
       "        vertical-align: middle;\n",
       "    }\n",
       "\n",
       "    .dataframe tbody tr th {\n",
       "        vertical-align: top;\n",
       "    }\n",
       "\n",
       "    .dataframe thead th {\n",
       "        text-align: right;\n",
       "    }\n",
       "</style>\n",
       "<table border=\"1\" class=\"dataframe\">\n",
       "  <thead>\n",
       "    <tr style=\"text-align: right;\">\n",
       "      <th></th>\n",
       "      <th>name</th>\n",
       "      <th>text</th>\n",
       "    </tr>\n",
       "  </thead>\n",
       "  <tbody>\n",
       "    <tr>\n",
       "      <th>35</th>\n",
       "      <td>None</td>\n",
       "      <td>I have a new hero and his name is Howard. 14/10 https://t.co/gzLHboL7Sk</td>\n",
       "    </tr>\n",
       "    <tr>\n",
       "      <th>168</th>\n",
       "      <td>None</td>\n",
       "      <td>Sorry for the lack of posts today. I came home from school and had to spend quality time with my puppo. Her name is Zoey and she's 13/10 https://t.co/BArWupFAn0</td>\n",
       "    </tr>\n",
       "    <tr>\n",
       "      <th>603</th>\n",
       "      <td>None</td>\n",
       "      <td>RT @dog_rates: This a Norwegian Pewterschmidt named Tickles. Ears for days. 12/10 I care deeply for Tickles https://t.co/0aDF62KVP7</td>\n",
       "    </tr>\n",
       "    <tr>\n",
       "      <th>843</th>\n",
       "      <td>None</td>\n",
       "      <td>His name is Charley and he already has a new set of wheels thanks to donations. I heard his top speed was also increased. 13/10 for Charley</td>\n",
       "    </tr>\n",
       "    <tr>\n",
       "      <th>852</th>\n",
       "      <td>my</td>\n",
       "      <td>This is my dog. Her name is Zoey. She knows I've been rating other dogs. She's not happy. 13/10 no bias at all https://t.co/ep1NkYoiwB</td>\n",
       "    </tr>\n",
       "    <tr>\n",
       "      <th>1678</th>\n",
       "      <td>None</td>\n",
       "      <td>We normally don't rate bears but this one seems nice. Her name is Thea. Appears rather fluffy. 10/10 good bear https://t.co/fZc7MixeeT</td>\n",
       "    </tr>\n",
       "    <tr>\n",
       "      <th>1734</th>\n",
       "      <td>None</td>\n",
       "      <td>This pup's name is Sabertooth (parents must be cool). Ears for days. Jumps unannounced. 9/10 would pet diligently https://t.co/iazoiNUviP</td>\n",
       "    </tr>\n",
       "    <tr>\n",
       "      <th>1853</th>\n",
       "      <td>a</td>\n",
       "      <td>This is a Sizzlin Menorah spaniel from Brooklyn named Wylie. Lovable eyes. Chiller as hell. 10/10 and I'm out.. poof https://t.co/7E0AiJXPmI</td>\n",
       "    </tr>\n",
       "    <tr>\n",
       "      <th>1955</th>\n",
       "      <td>a</td>\n",
       "      <td>This is a Lofted Aphrodisiac Terrier named Kip. Big fan of bed n breakfasts. Fits perfectly. 10/10 would pet firmly https://t.co/gKlLpNzIl3</td>\n",
       "    </tr>\n",
       "    <tr>\n",
       "      <th>2034</th>\n",
       "      <td>a</td>\n",
       "      <td>This is a Tuscaloosa Alcatraz named Jacob (Yacōb). Loves to sit in swing. Stellar tongue. 11/10 look at his feet https://t.co/2IslQ8ZSc7</td>\n",
       "    </tr>\n",
       "    <tr>\n",
       "      <th>2066</th>\n",
       "      <td>a</td>\n",
       "      <td>This is a Helvetica Listerine named Rufus. This time Rufus will be ready for the UPS guy. He'll never expect it 9/10 https://t.co/34OhVhMkVr</td>\n",
       "    </tr>\n",
       "    <tr>\n",
       "      <th>2116</th>\n",
       "      <td>a</td>\n",
       "      <td>This is a Deciduous Trimester mix named Spork. Only 1 ear works. No seat belt. Incredibly reckless. 9/10 still cute https://t.co/CtuJoLHiDo</td>\n",
       "    </tr>\n",
       "    <tr>\n",
       "      <th>2125</th>\n",
       "      <td>a</td>\n",
       "      <td>This is a Rich Mahogany Seltzer named Cherokee. Just got destroyed by a snowball. Isn't very happy about it. 9/10 https://t.co/98ZBi6o4dj</td>\n",
       "    </tr>\n",
       "    <tr>\n",
       "      <th>2128</th>\n",
       "      <td>a</td>\n",
       "      <td>This is a Speckled Cauliflower Yosemite named Hemry. He's terrified of intruder dog. Not one bit comfortable. 9/10 https://t.co/yV3Qgjh8iN</td>\n",
       "    </tr>\n",
       "    <tr>\n",
       "      <th>2146</th>\n",
       "      <td>a</td>\n",
       "      <td>This is a spotted Lipitor Rumpelstiltskin named Alphred. He can't wait for the Turkey. 10/10 would pet really well https://t.co/6GUGO7azNX</td>\n",
       "    </tr>\n",
       "    <tr>\n",
       "      <th>2161</th>\n",
       "      <td>a</td>\n",
       "      <td>This is a Coriander Baton Rouge named Alfredo. Loves to cuddle with smaller well-dressed dog. 10/10 would hug lots https://t.co/eCRdwouKCl</td>\n",
       "    </tr>\n",
       "    <tr>\n",
       "      <th>2166</th>\n",
       "      <td>None</td>\n",
       "      <td>Here we have a Gingivitis Pumpernickel named Zeus. Unmatched tennis ball capacity. 10/10 would highly recommend https://t.co/jPkd7hhX7m</td>\n",
       "    </tr>\n",
       "    <tr>\n",
       "      <th>2191</th>\n",
       "      <td>a</td>\n",
       "      <td>This is a Slovakian Helter Skelter Feta named Leroi. Likes to skip on roofs. Good traction. Much balance. 10/10 wow! https://t.co/Dmy2mY2Qj5</td>\n",
       "    </tr>\n",
       "    <tr>\n",
       "      <th>2204</th>\n",
       "      <td>an</td>\n",
       "      <td>This is an Irish Rigatoni terrier named Berta. Completely made of rope. No eyes. Quite large. Loves to dance. 10/10 https://t.co/EM5fDykrJg</td>\n",
       "    </tr>\n",
       "    <tr>\n",
       "      <th>2218</th>\n",
       "      <td>a</td>\n",
       "      <td>This is a Birmingham Quagmire named Chuk. Loves to relax and watch the game while sippin on that iced mocha. 10/10 https://t.co/HvNg9JWxFt</td>\n",
       "    </tr>\n",
       "    <tr>\n",
       "      <th>2227</th>\n",
       "      <td>None</td>\n",
       "      <td>Here we have an Azerbaijani Buttermilk named Guss. He sees a demon baby Hitler behind his owner. 10/10 stays alert https://t.co/aeZykWwiJN</td>\n",
       "    </tr>\n",
       "    <tr>\n",
       "      <th>2235</th>\n",
       "      <td>a</td>\n",
       "      <td>This is a Trans Siberian Kellogg named Alfonso. Huge ass eyeballs. Actually Dobby from Harry Potter. 7/10 https://t.co/XpseHBlAAb</td>\n",
       "    </tr>\n",
       "    <tr>\n",
       "      <th>2249</th>\n",
       "      <td>a</td>\n",
       "      <td>This is a Shotokon Macadamia mix named Cheryl. Sophisticated af. Looks like a disappointed librarian. Shh (lol) 9/10 https://t.co/J4GnJ5Swba</td>\n",
       "    </tr>\n",
       "    <tr>\n",
       "      <th>2255</th>\n",
       "      <td>a</td>\n",
       "      <td>This is a rare Hungarian Pinot named Jessiga. She is either mid-stroke or got stuck in the washing machine. 8/10 https://t.co/ZU0i0KJyqD</td>\n",
       "    </tr>\n",
       "    <tr>\n",
       "      <th>2264</th>\n",
       "      <td>a</td>\n",
       "      <td>This is a southwest Coriander named Klint. Hat looks expensive. Still on house arrest :(\\n9/10 https://t.co/IQTOMqDUIe</td>\n",
       "    </tr>\n",
       "    <tr>\n",
       "      <th>2267</th>\n",
       "      <td>None</td>\n",
       "      <td>Another topnotch dog. His name is Big Jumpy Rat. Massive ass feet. Superior tail. Jumps high af. 12/10 great pup https://t.co/seESNzgsdm</td>\n",
       "    </tr>\n",
       "    <tr>\n",
       "      <th>2269</th>\n",
       "      <td>None</td>\n",
       "      <td>This a Norwegian Pewterschmidt named Tickles. Ears for days. 12/10 I care deeply for Tickles https://t.co/0aDF62KVP7</td>\n",
       "    </tr>\n",
       "    <tr>\n",
       "      <th>2273</th>\n",
       "      <td>a</td>\n",
       "      <td>This is a northern Wahoo named Kohl. He runs this town. Chases tumbleweeds. Draws gun wicked fast. 11/10 legendary https://t.co/J4vn2rOYFk</td>\n",
       "    </tr>\n",
       "    <tr>\n",
       "      <th>2287</th>\n",
       "      <td>a</td>\n",
       "      <td>This is a Dasani Kingfisher from Maine. His name is Daryl. Daryl doesn't like being swallowed by a panda. 8/10 https://t.co/jpaeu6LNmW</td>\n",
       "    </tr>\n",
       "    <tr>\n",
       "      <th>2304</th>\n",
       "      <td>a</td>\n",
       "      <td>This is a curly Ticonderoga named Pepe. No feet. Loves to jet ski. 11/10 would hug until forever https://t.co/cyDfaK8NBc</td>\n",
       "    </tr>\n",
       "    <tr>\n",
       "      <th>2311</th>\n",
       "      <td>a</td>\n",
       "      <td>This is a purebred Bacardi named Octaviath. Can shoot spaghetti out of mouth. 10/10 https://t.co/uEvsGLOFHa</td>\n",
       "    </tr>\n",
       "    <tr>\n",
       "      <th>2314</th>\n",
       "      <td>a</td>\n",
       "      <td>This is a golden Buckminsterfullerene named Johm. Drives trucks. Lumberjack (?). Enjoys wall. 8/10 would hug softly https://t.co/uQbZJM2DQB</td>\n",
       "    </tr>\n",
       "  </tbody>\n",
       "</table>\n",
       "</div>"
      ],
      "text/plain": [
       "      name  \\\n",
       "35    None   \n",
       "168   None   \n",
       "603   None   \n",
       "843   None   \n",
       "852     my   \n",
       "1678  None   \n",
       "1734  None   \n",
       "1853     a   \n",
       "1955     a   \n",
       "2034     a   \n",
       "2066     a   \n",
       "2116     a   \n",
       "2125     a   \n",
       "2128     a   \n",
       "2146     a   \n",
       "2161     a   \n",
       "2166  None   \n",
       "2191     a   \n",
       "2204    an   \n",
       "2218     a   \n",
       "2227  None   \n",
       "2235     a   \n",
       "2249     a   \n",
       "2255     a   \n",
       "2264     a   \n",
       "2267  None   \n",
       "2269  None   \n",
       "2273     a   \n",
       "2287     a   \n",
       "2304     a   \n",
       "2311     a   \n",
       "2314     a   \n",
       "\n",
       "                                                                                                                                                                  text  \n",
       "35                                                                                             I have a new hero and his name is Howard. 14/10 https://t.co/gzLHboL7Sk  \n",
       "168   Sorry for the lack of posts today. I came home from school and had to spend quality time with my puppo. Her name is Zoey and she's 13/10 https://t.co/BArWupFAn0  \n",
       "603                                RT @dog_rates: This a Norwegian Pewterschmidt named Tickles. Ears for days. 12/10 I care deeply for Tickles https://t.co/0aDF62KVP7  \n",
       "843                        His name is Charley and he already has a new set of wheels thanks to donations. I heard his top speed was also increased. 13/10 for Charley  \n",
       "852                             This is my dog. Her name is Zoey. She knows I've been rating other dogs. She's not happy. 13/10 no bias at all https://t.co/ep1NkYoiwB  \n",
       "1678                            We normally don't rate bears but this one seems nice. Her name is Thea. Appears rather fluffy. 10/10 good bear https://t.co/fZc7MixeeT  \n",
       "1734                         This pup's name is Sabertooth (parents must be cool). Ears for days. Jumps unannounced. 9/10 would pet diligently https://t.co/iazoiNUviP  \n",
       "1853                      This is a Sizzlin Menorah spaniel from Brooklyn named Wylie. Lovable eyes. Chiller as hell. 10/10 and I'm out.. poof https://t.co/7E0AiJXPmI  \n",
       "1955                       This is a Lofted Aphrodisiac Terrier named Kip. Big fan of bed n breakfasts. Fits perfectly. 10/10 would pet firmly https://t.co/gKlLpNzIl3  \n",
       "2034                          This is a Tuscaloosa Alcatraz named Jacob (Yacōb). Loves to sit in swing. Stellar tongue. 11/10 look at his feet https://t.co/2IslQ8ZSc7  \n",
       "2066                      This is a Helvetica Listerine named Rufus. This time Rufus will be ready for the UPS guy. He'll never expect it 9/10 https://t.co/34OhVhMkVr  \n",
       "2116                       This is a Deciduous Trimester mix named Spork. Only 1 ear works. No seat belt. Incredibly reckless. 9/10 still cute https://t.co/CtuJoLHiDo  \n",
       "2125                         This is a Rich Mahogany Seltzer named Cherokee. Just got destroyed by a snowball. Isn't very happy about it. 9/10 https://t.co/98ZBi6o4dj  \n",
       "2128                        This is a Speckled Cauliflower Yosemite named Hemry. He's terrified of intruder dog. Not one bit comfortable. 9/10 https://t.co/yV3Qgjh8iN  \n",
       "2146                        This is a spotted Lipitor Rumpelstiltskin named Alphred. He can't wait for the Turkey. 10/10 would pet really well https://t.co/6GUGO7azNX  \n",
       "2161                        This is a Coriander Baton Rouge named Alfredo. Loves to cuddle with smaller well-dressed dog. 10/10 would hug lots https://t.co/eCRdwouKCl  \n",
       "2166                           Here we have a Gingivitis Pumpernickel named Zeus. Unmatched tennis ball capacity. 10/10 would highly recommend https://t.co/jPkd7hhX7m  \n",
       "2191                      This is a Slovakian Helter Skelter Feta named Leroi. Likes to skip on roofs. Good traction. Much balance. 10/10 wow! https://t.co/Dmy2mY2Qj5  \n",
       "2204                       This is an Irish Rigatoni terrier named Berta. Completely made of rope. No eyes. Quite large. Loves to dance. 10/10 https://t.co/EM5fDykrJg  \n",
       "2218                        This is a Birmingham Quagmire named Chuk. Loves to relax and watch the game while sippin on that iced mocha. 10/10 https://t.co/HvNg9JWxFt  \n",
       "2227                        Here we have an Azerbaijani Buttermilk named Guss. He sees a demon baby Hitler behind his owner. 10/10 stays alert https://t.co/aeZykWwiJN  \n",
       "2235                                 This is a Trans Siberian Kellogg named Alfonso. Huge ass eyeballs. Actually Dobby from Harry Potter. 7/10 https://t.co/XpseHBlAAb  \n",
       "2249                      This is a Shotokon Macadamia mix named Cheryl. Sophisticated af. Looks like a disappointed librarian. Shh (lol) 9/10 https://t.co/J4GnJ5Swba  \n",
       "2255                          This is a rare Hungarian Pinot named Jessiga. She is either mid-stroke or got stuck in the washing machine. 8/10 https://t.co/ZU0i0KJyqD  \n",
       "2264                                            This is a southwest Coriander named Klint. Hat looks expensive. Still on house arrest :(\\n9/10 https://t.co/IQTOMqDUIe  \n",
       "2267                          Another topnotch dog. His name is Big Jumpy Rat. Massive ass feet. Superior tail. Jumps high af. 12/10 great pup https://t.co/seESNzgsdm  \n",
       "2269                                              This a Norwegian Pewterschmidt named Tickles. Ears for days. 12/10 I care deeply for Tickles https://t.co/0aDF62KVP7  \n",
       "2273                        This is a northern Wahoo named Kohl. He runs this town. Chases tumbleweeds. Draws gun wicked fast. 11/10 legendary https://t.co/J4vn2rOYFk  \n",
       "2287                            This is a Dasani Kingfisher from Maine. His name is Daryl. Daryl doesn't like being swallowed by a panda. 8/10 https://t.co/jpaeu6LNmW  \n",
       "2304                                          This is a curly Ticonderoga named Pepe. No feet. Loves to jet ski. 11/10 would hug until forever https://t.co/cyDfaK8NBc  \n",
       "2311                                                       This is a purebred Bacardi named Octaviath. Can shoot spaghetti out of mouth. 10/10 https://t.co/uEvsGLOFHa  \n",
       "2314                       This is a golden Buckminsterfullerene named Johm. Drives trucks. Lumberjack (?). Enjoys wall. 8/10 would hug softly https://t.co/uQbZJM2DQB  "
      ]
     },
     "execution_count": 13,
     "metadata": {},
     "output_type": "execute_result"
    }
   ],
   "source": [
    "# Incorrect names in name column with names available in text column\n",
    "\n",
    "twt_arch[((twt_arch['name'].str.islower())| (twt_arch['name']=='None'))&((twt_arch['text'].str.contains('named'))|(twt_arch['text'].str.contains('name is')))][['name','text']]"
   ]
  },
  {
   "cell_type": "code",
   "execution_count": 14,
   "metadata": {
    "scrolled": true
   },
   "outputs": [
    {
     "name": "stderr",
     "output_type": "stream",
     "text": [
      "C:\\Users\\Vinit\\Anaconda3\\lib\\site-packages\\ipykernel_launcher.py:3: UserWarning: This pattern has match groups. To actually get the groups, use str.extract.\n",
      "  This is separate from the ipykernel package so we can avoid doing imports until\n"
     ]
    },
    {
     "data": {
      "text/html": [
       "<div>\n",
       "<style scoped>\n",
       "    .dataframe tbody tr th:only-of-type {\n",
       "        vertical-align: middle;\n",
       "    }\n",
       "\n",
       "    .dataframe tbody tr th {\n",
       "        vertical-align: top;\n",
       "    }\n",
       "\n",
       "    .dataframe thead th {\n",
       "        text-align: right;\n",
       "    }\n",
       "</style>\n",
       "<table border=\"1\" class=\"dataframe\">\n",
       "  <thead>\n",
       "    <tr style=\"text-align: right;\">\n",
       "      <th></th>\n",
       "      <th>rating_numerator</th>\n",
       "      <th>text</th>\n",
       "    </tr>\n",
       "  </thead>\n",
       "  <tbody>\n",
       "    <tr>\n",
       "      <th>45</th>\n",
       "      <td>5</td>\n",
       "      <td>This is Bella. She hopes her smile made you smile. If not, she is also offering you her favorite monkey. 13.5/10 https://t.co/qjrljjt948</td>\n",
       "    </tr>\n",
       "    <tr>\n",
       "      <th>340</th>\n",
       "      <td>75</td>\n",
       "      <td>RT @dog_rates: This is Logan, the Chow who lived. He solemnly swears he's up to lots of good. H*ckin magical af 9.75/10 https://t.co/yBO5wu…</td>\n",
       "    </tr>\n",
       "    <tr>\n",
       "      <th>695</th>\n",
       "      <td>75</td>\n",
       "      <td>This is Logan, the Chow who lived. He solemnly swears he's up to lots of good. H*ckin magical af 9.75/10 https://t.co/yBO5wuqaPS</td>\n",
       "    </tr>\n",
       "    <tr>\n",
       "      <th>763</th>\n",
       "      <td>27</td>\n",
       "      <td>This is Sophie. She's a Jubilant Bush Pupper. Super h*ckin rare. Appears at random just to smile at the locals. 11.27/10 would smile back https://t.co/QFaUiIHxHq</td>\n",
       "    </tr>\n",
       "    <tr>\n",
       "      <th>1689</th>\n",
       "      <td>5</td>\n",
       "      <td>I've been told there's a slight possibility he's checking his mirror. We'll bump to 9.5/10. Still a menace</td>\n",
       "    </tr>\n",
       "    <tr>\n",
       "      <th>1712</th>\n",
       "      <td>26</td>\n",
       "      <td>Here we have uncovered an entire battalion of holiday puppers. Average of 11.26/10 https://t.co/eNm2S6p9BD</td>\n",
       "    </tr>\n",
       "  </tbody>\n",
       "</table>\n",
       "</div>"
      ],
      "text/plain": [
       "      rating_numerator  \\\n",
       "45                   5   \n",
       "340                 75   \n",
       "695                 75   \n",
       "763                 27   \n",
       "1689                 5   \n",
       "1712                26   \n",
       "\n",
       "                                                                                                                                                                   text  \n",
       "45                             This is Bella. She hopes her smile made you smile. If not, she is also offering you her favorite monkey. 13.5/10 https://t.co/qjrljjt948  \n",
       "340                        RT @dog_rates: This is Logan, the Chow who lived. He solemnly swears he's up to lots of good. H*ckin magical af 9.75/10 https://t.co/yBO5wu…  \n",
       "695                                    This is Logan, the Chow who lived. He solemnly swears he's up to lots of good. H*ckin magical af 9.75/10 https://t.co/yBO5wuqaPS  \n",
       "763   This is Sophie. She's a Jubilant Bush Pupper. Super h*ckin rare. Appears at random just to smile at the locals. 11.27/10 would smile back https://t.co/QFaUiIHxHq  \n",
       "1689                                                         I've been told there's a slight possibility he's checking his mirror. We'll bump to 9.5/10. Still a menace  \n",
       "1712                                                         Here we have uncovered an entire battalion of holiday puppers. Average of 11.26/10 https://t.co/eNm2S6p9BD  "
      ]
     },
     "execution_count": 14,
     "metadata": {},
     "output_type": "execute_result"
    }
   ],
   "source": [
    "# Incorrect rating in rating_numerator column with float type rating in text column\n",
    "\n",
    "twt_arch[twt_arch['text'].str.contains(r'(\\d+\\.\\d*\\/\\d+)')][['rating_numerator','text']]"
   ]
  },
  {
   "cell_type": "code",
   "execution_count": 15,
   "metadata": {
    "scrolled": true
   },
   "outputs": [
    {
     "data": {
      "text/plain": [
       "array(['<a href=\"http://twitter.com/download/iphone\" rel=\"nofollow\">Twitter for iPhone</a>',\n",
       "       '<a href=\"http://twitter.com\" rel=\"nofollow\">Twitter Web Client</a>',\n",
       "       '<a href=\"http://vine.co\" rel=\"nofollow\">Vine - Make a Scene</a>',\n",
       "       '<a href=\"https://about.twitter.com/products/tweetdeck\" rel=\"nofollow\">TweetDeck</a>'],\n",
       "      dtype=object)"
      ]
     },
     "execution_count": 15,
     "metadata": {},
     "output_type": "execute_result"
    }
   ],
   "source": [
    "# The source column consists of the url showing the source of the tweets, the data type is incorrect. \n",
    "#Also, we can extract the source info for analysis\n",
    "\n",
    "twt_api['source'].unique()"
   ]
  },
  {
   "cell_type": "code",
   "execution_count": 16,
   "metadata": {
    "scrolled": true
   },
   "outputs": [
    {
     "name": "stdout",
     "output_type": "stream",
     "text": [
      "                                                                                                            text  \\\n",
      "0  This is Phineas. He's a mystical boy. Only ever appears in the hole of a donut. 13/10 https://t.co/MgUWQ76dJU   \n",
      "\n",
      "  doggo floofer pupper puppo  \n",
      "0  None    None   None  None  \n",
      "                                                                                                                                                                 text  \\\n",
      "1  This is Tilly. She's just checking pup on you. Hopes you're doing ok. If not, she's available for pats, snugs, boops, the whole bit. 13/10 https://t.co/0Xxu71qeIV   \n",
      "\n",
      "  doggo floofer pupper puppo  \n",
      "1  None    None   None  None  \n",
      "                                                                                                                                                text  \\\n",
      "2  This is Archie. He is a rare Norwegian Pouncing Corgo. Lives in the tall grass. You never know when one may strike. 12/10 https://t.co/wUnZnhtVJB   \n",
      "\n",
      "  doggo floofer pupper puppo  \n",
      "2  None    None   None  None  \n",
      "                                                                                                      text  \\\n",
      "3  This is Darla. She commenced a snooze mid meal. 13/10 happens to the best of us https://t.co/tD36da7qLQ   \n",
      "\n",
      "  doggo floofer pupper puppo  \n",
      "3  None    None   None  None  \n",
      "                                                                                                                                                                 text  \\\n",
      "4  This is Franklin. He would like you to stop calling him \"cute.\" He is a very fierce shark and should be respected as such. 12/10 #BarkWeek https://t.co/AtUZn91f7f   \n",
      "\n",
      "  doggo floofer pupper puppo  \n",
      "4  None    None   None  None  \n"
     ]
    }
   ],
   "source": [
    "# Missing dog stage values. For some the stage value is available in the text field\n",
    "\n",
    "test_list=twt_arch[(twt_arch['doggo']=='None')&(twt_arch['floofer']=='None')&(twt_arch['pupper']=='None')&(twt_arch['puppo']=='None')]['tweet_id']\n",
    "\n",
    "for tw in test_list[:5]:\n",
    "    print(twt_arch[twt_arch['tweet_id']==tw][['text','doggo','floofer','pupper','puppo']].head())"
   ]
  },
  {
   "cell_type": "markdown",
   "metadata": {},
   "source": [
    "### Quality Issues:"
   ]
  },
  {
   "cell_type": "markdown",
   "metadata": {},
   "source": [
    "- Missing expanded_urls which are images\n",
    "- Data contains retweeted tweets\n",
    "- Incorrect dog names\n",
    "- Missing values in 'doggo','floofer','pupper','puppo' columns\n",
    "- Missing values in dog names column\n",
    "- Incorrect datatype for timestamp column\n",
    "- Source column contains link\n",
    "- Incorrect data type for source column\n",
    "- Float ratings interpreted incorrectly\n",
    "- Incorrect ratings_numerator datatype"
   ]
  },
  {
   "cell_type": "markdown",
   "metadata": {},
   "source": [
    "### Tidiness Issues:"
   ]
  },
  {
   "cell_type": "markdown",
   "metadata": {},
   "source": [
    "- Combining tweeter_archieve_clean and image_predication_clean tables\n",
    "- Creating a single column 'dog_stages' for values doggo, floofer, pupper, puppo"
   ]
  },
  {
   "cell_type": "markdown",
   "metadata": {},
   "source": [
    "## Clean"
   ]
  },
  {
   "cell_type": "code",
   "execution_count": 17,
   "metadata": {},
   "outputs": [],
   "source": [
    "#Create copies of the original DataFrames\n",
    "\n",
    "tweeter_archieve_clean=twt_arch.copy()\n",
    "image_predications_clean=img_pred.copy()\n",
    "tweeter_api_clean=twt_api.copy()"
   ]
  },
  {
   "cell_type": "markdown",
   "metadata": {},
   "source": [
    "### Define:\n",
    "\n",
    "1- Remove incorrect dog names and update correct dog names where ever possible. Identify names in lowercase or the ones that contains None"
   ]
  },
  {
   "cell_type": "markdown",
   "metadata": {},
   "source": [
    "### Code:\n",
    "\n",
    "Code to clean the names in lowercase or None values"
   ]
  },
  {
   "cell_type": "code",
   "execution_count": 18,
   "metadata": {},
   "outputs": [],
   "source": [
    "# Some names are avilable in the text field after the string 'named'\n",
    "def extract_named(text,twt_id):\n",
    "    nm=text[text.find(' ',text.find('named')+len('named')):text.find(' ',text.find('named')+len('named')+1)].strip().title().replace('.','')\n",
    "    tweeter_archieve_clean.loc[tweeter_archieve_clean['tweet_id']==twt_id,['name']]=nm\n",
    "\n",
    "    \n",
    "    \n",
    "# Some names are avilable in the text field after the string 'name is'    \n",
    "def extract_name_is(text,twt_id):\n",
    "    nm1=text[text.find(' ',text.find('name is')+len('name is')):text.find(' ',text.find('name is')+len('name is')+1)].strip().title().replace('.','')\n",
    "    tweeter_archieve_clean.loc[tweeter_archieve_clean['tweet_id']==twt_id,['name']]=nm1"
   ]
  },
  {
   "cell_type": "code",
   "execution_count": 19,
   "metadata": {},
   "outputs": [],
   "source": [
    "# Get the tweet ids for text columns that contains strings 'named' and 'name is'\n",
    "\n",
    "nm1=tweeter_archieve_clean[((tweeter_archieve_clean['name'].str.islower() | (tweeter_archieve_clean['name']=='None')) & (tweeter_archieve_clean['text'].str.contains('named')))]['tweet_id'].tolist()\n",
    "nm2=tweeter_archieve_clean[((tweeter_archieve_clean['name'].str.islower() | (tweeter_archieve_clean['name']=='None')) & (tweeter_archieve_clean['text'].str.contains('name is')))]['tweet_id'].tolist()"
   ]
  },
  {
   "cell_type": "code",
   "execution_count": 20,
   "metadata": {
    "scrolled": true
   },
   "outputs": [],
   "source": [
    "# for loops to update the name column with the extracted names from the text field\n",
    "for t1_id in nm1:\n",
    "    tweeter_archieve_clean[tweeter_archieve_clean['tweet_id']==t1_id]['text'].apply(lambda text:extract_named(str(text),t1_id))\n",
    "    \n",
    "for t2_id in nm2:\n",
    "    tweeter_archieve_clean[tweeter_archieve_clean['tweet_id']==t2_id]['text'].apply(lambda text:extract_name_is(str(text),t2_id))"
   ]
  },
  {
   "cell_type": "code",
   "execution_count": 21,
   "metadata": {},
   "outputs": [],
   "source": [
    "# For tweets with no names in text field and has lowercase values in name column, we are updating the name to None\n",
    "tweeter_archieve_clean.loc[tweeter_archieve_clean['name'].str.islower(),['name']]='None'"
   ]
  },
  {
   "cell_type": "markdown",
   "metadata": {},
   "source": [
    "### Test:\n",
    "\n",
    "Code to check the name column for the updated tweet_ids"
   ]
  },
  {
   "cell_type": "code",
   "execution_count": 22,
   "metadata": {},
   "outputs": [
    {
     "data": {
      "text/plain": [
       "1035            Abby\n",
       "1021            Abby\n",
       "938              Ace\n",
       "1933            Acro\n",
       "1327           Adele\n",
       "1934           Aiden\n",
       "77               Aja\n",
       "480            Akumi\n",
       "820               Al\n",
       "875           Albert\n",
       "1954          Albert\n",
       "412            Albus\n",
       "144            Albus\n",
       "1115         Aldrick\n",
       "2046       Alejandro\n",
       "374        Alexander\n",
       "1189    Alexanderson\n",
       "486              Alf\n",
       "367            Alfie\n",
       "858            Alfie\n",
       "1616           Alfie\n",
       "2238           Alfie\n",
       "661            Alfie\n",
       "2235         Alfonso\n",
       "2161         Alfredo\n",
       "51              Alfy\n",
       "201            Alice\n",
       "1701           Alice\n",
       "2146         Alphred\n",
       "1495           Amber\n",
       "            ...     \n",
       "986          Winston\n",
       "280          Winston\n",
       "816          Winston\n",
       "407          Winston\n",
       "1243         Winston\n",
       "877           Wishes\n",
       "1451           Wyatt\n",
       "174            Wyatt\n",
       "410            Wyatt\n",
       "1853           Wylie\n",
       "1378            Yoda\n",
       "43              Yogi\n",
       "622             Yogi\n",
       "1409           Yukon\n",
       "1332            Zara\n",
       "2206            Zeek\n",
       "547             Zeke\n",
       "17              Zeke\n",
       "181             Zeke\n",
       "2166            Zeus\n",
       "1210            Zeus\n",
       "1124            Ziva\n",
       "966              Zoe\n",
       "8               Zoey\n",
       "168             Zoey\n",
       "2141            Zoey\n",
       "852             Zoey\n",
       "115             Zoey\n",
       "151            Zooey\n",
       "1875            Zuzu\n",
       "Name: name, Length: 2356, dtype: object"
      ]
     },
     "execution_count": 22,
     "metadata": {},
     "output_type": "execute_result"
    }
   ],
   "source": [
    "tweeter_archieve_clean['name'].sort_values()"
   ]
  },
  {
   "cell_type": "code",
   "execution_count": 23,
   "metadata": {},
   "outputs": [
    {
     "data": {
      "text/plain": [
       "0"
      ]
     },
     "execution_count": 23,
     "metadata": {},
     "output_type": "execute_result"
    }
   ],
   "source": [
    "# To check for any lowercase values in name column\n",
    "sum(tweeter_archieve_clean['name'].str.islower())"
   ]
  },
  {
   "cell_type": "code",
   "execution_count": 24,
   "metadata": {
    "scrolled": true
   },
   "outputs": [
    {
     "name": "stdout",
     "output_type": "stream",
     "text": [
      "603    Tickles\n",
      "Name: name, dtype: object\n",
      "1853    Wylie\n",
      "Name: name, dtype: object\n",
      "1955    Kip\n",
      "Name: name, dtype: object\n",
      "2034    Jacob\n",
      "Name: name, dtype: object\n",
      "2066    Rufus\n",
      "Name: name, dtype: object\n",
      "2116    Spork\n",
      "Name: name, dtype: object\n",
      "2125    Cherokee\n",
      "Name: name, dtype: object\n",
      "2128    Hemry\n",
      "Name: name, dtype: object\n",
      "2146    Alphred\n",
      "Name: name, dtype: object\n",
      "2161    Alfredo\n",
      "Name: name, dtype: object\n",
      "2166    Zeus\n",
      "Name: name, dtype: object\n",
      "2191    Leroi\n",
      "Name: name, dtype: object\n",
      "2204    Berta\n",
      "Name: name, dtype: object\n",
      "2218    Chuk\n",
      "Name: name, dtype: object\n",
      "2227    Guss\n",
      "Name: name, dtype: object\n",
      "2235    Alfonso\n",
      "Name: name, dtype: object\n",
      "2249    Cheryl\n",
      "Name: name, dtype: object\n",
      "2255    Jessiga\n",
      "Name: name, dtype: object\n",
      "2264    Klint\n",
      "Name: name, dtype: object\n",
      "2269    Tickles\n",
      "Name: name, dtype: object\n",
      "2273    Kohl\n",
      "Name: name, dtype: object\n",
      "2304    Pepe\n",
      "Name: name, dtype: object\n",
      "2311    Octaviath\n",
      "Name: name, dtype: object\n",
      "2314    Johm\n",
      "Name: name, dtype: object\n",
      "35    Howard\n",
      "Name: name, dtype: object\n",
      "168    Zoey\n",
      "Name: name, dtype: object\n",
      "843    Charley\n",
      "Name: name, dtype: object\n",
      "852    Zoey\n",
      "Name: name, dtype: object\n",
      "1678    Thea\n",
      "Name: name, dtype: object\n",
      "1734    Sabertooth\n",
      "Name: name, dtype: object\n",
      "2267    Big\n",
      "Name: name, dtype: object\n",
      "2287    Daryl\n",
      "Name: name, dtype: object\n"
     ]
    }
   ],
   "source": [
    "# Names updated with code\n",
    "for e in [nm1,nm2]:\n",
    "    for j in e:\n",
    "        print(tweeter_archieve_clean[tweeter_archieve_clean['tweet_id']==j]['name'])"
   ]
  },
  {
   "cell_type": "markdown",
   "metadata": {},
   "source": [
    "### Define:\n",
    "\n",
    "2- Update the rating_nuerator column as float and update the column with values where rating is available in text column"
   ]
  },
  {
   "cell_type": "markdown",
   "metadata": {},
   "source": [
    "### Code:"
   ]
  },
  {
   "cell_type": "code",
   "execution_count": 25,
   "metadata": {},
   "outputs": [],
   "source": [
    "# Converting and updating the rating numerator as float data type\n",
    "\n",
    "tweeter_archieve_clean['rating_numerator']=tweeter_archieve_clean['rating_numerator'].astype('float')\n",
    "\n",
    "def update_rating_nm(text,tweet_id):\n",
    "    fl=float(re.findall(r'(\\d*\\.\\d*\\/\\d+)',text)[0].split('/')[0])\n",
    "    tweeter_archieve_clean.loc[tweeter_archieve_clean['tweet_id']==tweet_id,['rating_numerator']]=fl"
   ]
  },
  {
   "cell_type": "code",
   "execution_count": 26,
   "metadata": {},
   "outputs": [
    {
     "name": "stderr",
     "output_type": "stream",
     "text": [
      "C:\\Users\\Vinit\\Anaconda3\\lib\\site-packages\\ipykernel_launcher.py:3: UserWarning: This pattern has match groups. To actually get the groups, use str.extract.\n",
      "  This is separate from the ipykernel package so we can avoid doing imports until\n"
     ]
    }
   ],
   "source": [
    "# Checking for text with float type rating\n",
    "\n",
    "fl_ids=tweeter_archieve_clean[tweeter_archieve_clean['text'].str.contains(r'(\\d+\\.\\d*\\/\\d+)')]['tweet_id']\n",
    "for ids in fl_ids:\n",
    "    tweeter_archieve_clean[tweeter_archieve_clean['tweet_id']==ids]['text'].apply(lambda text:update_rating_nm(text,ids))"
   ]
  },
  {
   "cell_type": "markdown",
   "metadata": {},
   "source": [
    "### Test:"
   ]
  },
  {
   "cell_type": "code",
   "execution_count": 27,
   "metadata": {},
   "outputs": [
    {
     "name": "stdout",
     "output_type": "stream",
     "text": [
      "45    13.5\n",
      "Name: rating_numerator, dtype: float64\n",
      "340    9.75\n",
      "Name: rating_numerator, dtype: float64\n",
      "695    9.75\n",
      "Name: rating_numerator, dtype: float64\n",
      "763    11.27\n",
      "Name: rating_numerator, dtype: float64\n",
      "1689    9.5\n",
      "Name: rating_numerator, dtype: float64\n",
      "1712    11.26\n",
      "Name: rating_numerator, dtype: float64\n"
     ]
    }
   ],
   "source": [
    "#Checking the updated ratings\n",
    "\n",
    "for ids in fl_ids:\n",
    "    print(tweeter_archieve_clean[tweeter_archieve_clean['tweet_id']==ids]['rating_numerator'])"
   ]
  },
  {
   "cell_type": "markdown",
   "metadata": {},
   "source": [
    "### Define:\n",
    "3- Change the datatype of column `source` to category"
   ]
  },
  {
   "cell_type": "markdown",
   "metadata": {},
   "source": [
    "### Code:"
   ]
  },
  {
   "cell_type": "code",
   "execution_count": 28,
   "metadata": {},
   "outputs": [],
   "source": [
    "tweeter_archieve_clean['source']=tweeter_archieve_clean['source'].astype('category')"
   ]
  },
  {
   "cell_type": "markdown",
   "metadata": {},
   "source": [
    "### Define:"
   ]
  },
  {
   "cell_type": "markdown",
   "metadata": {},
   "source": [
    "4- Change the data type of column timestamp to timestamp"
   ]
  },
  {
   "cell_type": "markdown",
   "metadata": {},
   "source": [
    "### Code:\n"
   ]
  },
  {
   "cell_type": "code",
   "execution_count": 29,
   "metadata": {},
   "outputs": [],
   "source": [
    "tweeter_archieve_clean['timestamp']=pd.to_datetime(tweeter_archieve_clean['timestamp'])"
   ]
  },
  {
   "cell_type": "markdown",
   "metadata": {},
   "source": [
    "### Test:"
   ]
  },
  {
   "cell_type": "code",
   "execution_count": 30,
   "metadata": {
    "scrolled": false
   },
   "outputs": [
    {
     "name": "stdout",
     "output_type": "stream",
     "text": [
      "<class 'pandas.core.frame.DataFrame'>\n",
      "RangeIndex: 2356 entries, 0 to 2355\n",
      "Data columns (total 17 columns):\n",
      "tweet_id                      2356 non-null int64\n",
      "in_reply_to_status_id         78 non-null float64\n",
      "in_reply_to_user_id           78 non-null float64\n",
      "timestamp                     2356 non-null datetime64[ns, UTC]\n",
      "source                        2356 non-null category\n",
      "text                          2356 non-null object\n",
      "retweeted_status_id           181 non-null float64\n",
      "retweeted_status_user_id      181 non-null float64\n",
      "retweeted_status_timestamp    181 non-null object\n",
      "expanded_urls                 2297 non-null object\n",
      "rating_numerator              2356 non-null float64\n",
      "rating_denominator            2356 non-null int64\n",
      "name                          2356 non-null object\n",
      "doggo                         2356 non-null object\n",
      "floofer                       2356 non-null object\n",
      "pupper                        2356 non-null object\n",
      "puppo                         2356 non-null object\n",
      "dtypes: category(1), datetime64[ns, UTC](1), float64(5), int64(2), object(8)\n",
      "memory usage: 297.1+ KB\n"
     ]
    }
   ],
   "source": [
    "tweeter_archieve_clean.info()"
   ]
  },
  {
   "cell_type": "markdown",
   "metadata": {},
   "source": [
    "### Define:\n",
    "\n",
    "5- Update dog stage columns where ever possible"
   ]
  },
  {
   "cell_type": "markdown",
   "metadata": {},
   "source": [
    "### Code:"
   ]
  },
  {
   "cell_type": "code",
   "execution_count": 31,
   "metadata": {},
   "outputs": [],
   "source": [
    "# Check and update the dog stage\n",
    "stg_list_id=[]\n",
    "def chk_stage(text,i):\n",
    "    for stage in ['doggo','floofer','pupper','puppo']:\n",
    "        if stage in text.lower():\n",
    "            if stage=='doggo':\n",
    "                tweeter_archieve_clean.loc[tweeter_archieve_clean['tweet_id']==i,['doggo']]=stage\n",
    "            elif stage=='floofer':\n",
    "                tweeter_archieve_clean.loc[tweeter_archieve_clean['tweet_id']==i,['floofer']]=stage\n",
    "            elif stage=='pupper':\n",
    "                tweeter_archieve_clean.loc[tweeter_archieve_clean['tweet_id']==i,['pupper']]=stage\n",
    "            else:\n",
    "                tweeter_archieve_clean.loc[tweeter_archieve_clean['tweet_id']==i,['puppo']]=stage\n",
    "            stg_list_id.append(i)"
   ]
  },
  {
   "cell_type": "code",
   "execution_count": 32,
   "metadata": {},
   "outputs": [],
   "source": [
    "# dog stage columns as None\n",
    "\n",
    "test_list=tweeter_archieve_clean[(tweeter_archieve_clean['doggo']=='None')&(tweeter_archieve_clean['floofer']=='None')&(tweeter_archieve_clean['pupper']=='None')&(tweeter_archieve_clean['puppo']=='None')]['tweet_id'].tolist()\n",
    "\n",
    "for i in test_list:\n",
    "    tweeter_archieve_clean[tweeter_archieve_clean['tweet_id']==i]['text'].apply(lambda x:chk_stage(str(x),i))\n"
   ]
  },
  {
   "cell_type": "markdown",
   "metadata": {},
   "source": [
    "### Test:"
   ]
  },
  {
   "cell_type": "code",
   "execution_count": 33,
   "metadata": {
    "scrolled": true
   },
   "outputs": [
    {
     "name": "stdout",
     "output_type": "stream",
     "text": [
      "                                                                                                                                           text  \\\n",
      "54  This is Gary. He couldn't miss this puppertunity for a selfie. Flawless focusing skills. 13/10 would boop intensely https://t.co/7CSWCl8I6s   \n",
      "\n",
      "    name doggo floofer  pupper puppo  \n",
      "54  Gary  None    None  pupper  None  \n",
      "                                                                                                                                             text  \\\n",
      "83  I can say with the pupmost confidence that the doggos who assisted with this search are heroic as h*ck. 14/10 for all https://t.co/8yoc1CNTsu   \n",
      "\n",
      "    name  doggo floofer pupper puppo  \n",
      "83  None  doggo    None   None  None  \n",
      "                                                                                                                                                                    text  \\\n",
      "85  Meet Venti, a seemingly caffeinated puppoccino. She was just informed the weekend would include walks, pats and scritches. 13/10 much excite https://t.co/ejExJFq3ek   \n",
      "\n",
      "     name doggo floofer pupper  puppo  \n",
      "85  Venti  None    None   None  puppo  \n",
      "                                                                                                                                                                 text  \\\n",
      "106  Say hello to Lassie. She's celebrating #PrideMonth by being a splendid mix of astute and adorable. Proudly supupporting her owner. 13/10 https://t.co/uK6PNyeh9w   \n",
      "\n",
      "       name doggo floofer pupper  puppo  \n",
      "106  Lassie  None    None   None  puppo  \n",
      "                                                                                                                                                               text  \\\n",
      "134  This is Lili. She can't believe you betrayed her with bath time. Never looking you in the eye again. 12/10 would puppologize profusely https://t.co/9b9J46E86Z   \n",
      "\n",
      "     name doggo floofer pupper  puppo  \n",
      "134  Lili  None    None   None  puppo  \n",
      "                                                                                                                                        text  \\\n",
      "228  Jerry just apuppologized to me. He said there was no ill-intent to the slippage. I overreacted I admit. Pupgraded to an 11/10 would pet   \n",
      "\n",
      "     name doggo floofer pupper  puppo  \n",
      "228  None  None    None   None  puppo  \n",
      "                                                                                                                                                text  \\\n",
      "268  Here we have some incredible doggos for #K9VeteransDay. All brave as h*ck. Salute your dog in solidarity. 14/10 for all https://t.co/SVNMdFqKDL   \n",
      "\n",
      "     name  doggo floofer pupper puppo  \n",
      "268  None  doggo    None   None  None  \n",
      "                                                         text  name doggo  \\\n",
      "274  @0_kelvin_0 &gt;10/10 is reserved for puppos sorry Kevin  None  None   \n",
      "\n",
      "    floofer pupper  puppo  \n",
      "274    None   None  puppo  \n",
      "                                                                                                                                           text  \\\n",
      "296  This is Lucy. She has a portrait of herself on her ear. Excellent for identification pupposes. 13/10 innovative af https://t.co/uNmxbL2lns   \n",
      "\n",
      "     name doggo floofer pupper  puppo  \n",
      "296  Lucy  None    None   None  puppo  \n",
      "                                                                                                                                             text  \\\n",
      "302  RT @SchafeBacon2016: @dog_rates Slightly disturbed by the outright profanity, but confident doggos were involved. 11/10, would tailgate aga…   \n",
      "\n",
      "     name  doggo floofer pupper puppo  \n",
      "302  None  doggo    None   None  None  \n",
      "                                                                                                                                               text  \\\n",
      "475  RT @dog_rates: Meet Jack. He's one of the rare doggos that doesn't mind baths. 11/10 click the link to see how you can help Jack!\\n\\nhttps://…   \n",
      "\n",
      "     name  doggo floofer pupper puppo  \n",
      "475  Jack  doggo    None   None  None  \n",
      "                                                                                                                                                                      text  \\\n",
      "477  Meet Jack. He's one of the rare doggos that doesn't mind baths. 11/10 click the link to see how you can help Jack!\\n\\nhttps://t.co/r4W111FzAq https://t.co/fQpYuMKG3p   \n",
      "\n",
      "     name  doggo floofer pupper puppo  \n",
      "477  Jack  doggo    None   None  None  \n",
      "                                                                                                                                                    text  \\\n",
      "536  This is Lennon. He's a Boopershnoop Pupperdoop. Quite rare. Exceptionally pettable. 12/10 would definitely boop that shnoop https://t.co/fhgP6vSfhX   \n",
      "\n",
      "       name doggo floofer  pupper puppo  \n",
      "536  Lennon  None    None  pupper  None  \n",
      "                                                                               text  \\\n",
      "545  This is Duke. He is not a fan of the pupporazzi. 12/10 https://t.co/SgpBVYIL18   \n",
      "\n",
      "     name doggo floofer pupper  puppo  \n",
      "545  Duke  None    None   None  puppo  \n",
      "                                                                                                text  \\\n",
      "798  You need to watch these two doggos argue through a cat door. Both 11/10 https://t.co/qEP31epKEV   \n",
      "\n",
      "     name  doggo floofer pupper puppo  \n",
      "798  None  doggo    None   None  None  \n",
      "                                                                                                                                            text  \\\n",
      "934  Here we are witnessing an isolated squad of bouncing doggos. Unbelievably rare for this time of year. 11/10 for all https://t.co/CCdlwiTwQf   \n",
      "\n",
      "     name  doggo floofer pupper puppo  \n",
      "934  None  doggo    None   None  None  \n",
      "                                                                                                                    text  \\\n",
      "946  Here are three doggos completely misjudging an airborne stick. Decent efforts tho. All 9/10 https://t.co/HCXQL4fGVZ   \n",
      "\n",
      "     name  doggo floofer pupper puppo  \n",
      "946  None  doggo    None   None  None  \n",
      "                                                                                                                                          text  \\\n",
      "987  This is Dietrich. He hops at random. Other doggos don't understand him. It upsets him greatly. 8/10 would comfort https://t.co/U8cSRz8wzC   \n",
      "\n",
      "         name  doggo floofer pupper puppo  \n",
      "987  Dietrich  doggo    None   None  None  \n",
      "                                                                                                                                             text  \\\n",
      "993  This is one of the most reckless puppers I've ever seen. How she got a license in the first place is beyond me. 6/10 https://t.co/z5bAdtn9kd   \n",
      "\n",
      "     name doggo floofer  pupper puppo  \n",
      "993  None  None    None  pupper  None  \n",
      "                                                                                                             text  \\\n",
      "1027  This is Arlen and Thumpelina. They are best pals. Cuddly af. 11/10 for both puppers https://t.co/VJgbgIzIHx   \n",
      "\n",
      "       name doggo floofer  pupper puppo  \n",
      "1027  Arlen  None    None  pupper  None  \n",
      "                                                                                                           text  \\\n",
      "1093  Everybody stop what you're doing and watch these puppers enjoy summer. Both 13/10 https://t.co/wvjqSCN6iC   \n",
      "\n",
      "      name doggo floofer  pupper puppo  \n",
      "1093  None  None    None  pupper  None  \n",
      "                                                                                                                           text  \\\n",
      "1120  Say hello to this unbelievably well behaved squad of doggos. 204/170 would try to pet all at once https://t.co/yGQI3He3xv   \n",
      "\n",
      "      name  doggo floofer pupper puppo  \n",
      "1120  None  doggo    None   None  None  \n",
      "                                                                                             text  \\\n",
      "1220  Here are two lil cuddly puppers. Both 12/10 would snug like so much https://t.co/zO4eb7C4tG   \n",
      "\n",
      "      name doggo floofer  pupper puppo  \n",
      "1220  None  None    None  pupper  None  \n",
      "                                                                                               text  \\\n",
      "1228  Happy Saturday here's 9 puppers on a bench. 99/90 good work everybody https://t.co/mpvaVxKmc1   \n",
      "\n",
      "      name doggo floofer  pupper puppo  \n",
      "1228  None  None    None  pupper  None  \n",
      "                                                                                                              text  \\\n",
      "1254  Here's a brigade of puppers. All look very prepared for whatever happens next. 80/80 https://t.co/0eb7R1Om12   \n",
      "\n",
      "      name doggo floofer  pupper puppo  \n",
      "1254  None  None    None  pupper  None  \n",
      "                                                                                                                                                text  \\\n",
      "1265  WeRateDogs stickers are here and they're 12/10! Use code \"puppers\" at checkout 🐶🐾\\n\\nShop now: https://t.co/k5xsufRKYm https://t.co/ShXk46V13r   \n",
      "\n",
      "      name doggo floofer  pupper puppo  \n",
      "1265  None  None    None  pupper  None  \n",
      "                                                                                    text  \\\n",
      "1351  Here is a whole flock of puppers.  60/50 I'll take the lot https://t.co/9dpcw6MdWa   \n",
      "\n",
      "      name doggo floofer  pupper puppo  \n",
      "1351  None  None    None  pupper  None  \n",
      "                                                                                                                                             text  \\\n",
      "1516  This golden is happy to refute the soft mouth egg test. Not a fan of sweeping generalizations. 11/10 #notallpuppers https://t.co/DgXYBDMM3E   \n",
      "\n",
      "      name doggo floofer  pupper puppo  \n",
      "1516  None  None    None  pupper  None  \n",
      "                                                                                                                                text  \\\n",
      "1634  Two sneaky puppers were not initially seen, moving the rating to 143/130. Please forgive us. Thank you https://t.co/kRK51Y5ac3   \n",
      "\n",
      "      name doggo floofer  pupper puppo  \n",
      "1634  None  None    None  pupper  None  \n",
      "                                                                                                                                              text  \\\n",
      "1635  Someone help the girl is being mugged. Several are distracting her while two steal her shoes. Clever puppers 121/110 https://t.co/1zfnTJLt55   \n",
      "\n",
      "      name doggo floofer  pupper puppo  \n",
      "1635  None  None    None  pupper  None  \n",
      "                                                                                                                                              text  \\\n",
      "1636  Gang of fearless hoofed puppers here. Straight savages. Elevated for extra terror. Front one has killed before 6/10s https://t.co/jkCb25OWfh   \n",
      "\n",
      "      name doggo floofer  pupper puppo  \n",
      "1636  None  None    None  pupper  None  \n",
      "                                                                                                                                          text  \\\n",
      "1643  Meet Sadie. She fell asleep on the beach and her friends buried her. 10/10 can't trust fellow puppers these days https://t.co/LoKVvc1xAW   \n",
      "\n",
      "       name doggo floofer  pupper puppo  \n",
      "1643  Sadie  None    None  pupper  None  \n",
      "                                                                                                                                              text  \\\n",
      "1710  This is Penny. Her tennis ball slowly rolled down her cone and into the pool. 8/10 bad things happen to good puppers https://t.co/YNWU7LeFgg   \n",
      "\n",
      "       name doggo floofer  pupper puppo  \n",
      "1710  Penny  None    None  pupper  None  \n"
     ]
    },
    {
     "name": "stdout",
     "output_type": "stream",
     "text": [
      "                                                                                                            text  \\\n",
      "1712  Here we have uncovered an entire battalion of holiday puppers. Average of 11.26/10 https://t.co/eNm2S6p9BD   \n",
      "\n",
      "      name doggo floofer  pupper puppo  \n",
      "1712  None  None    None  pupper  None  \n",
      "                                                                                                  text  \\\n",
      "1743  Crazy unseen footage from Jurassic Park. 10/10 for both dinosaur puppers https://t.co/L8wt2IpwxO   \n",
      "\n",
      "      name doggo floofer  pupper puppo  \n",
      "1743  None  None    None  pupper  None  \n",
      "                                                                        text  \\\n",
      "1779  IT'S PUPPERGEDDON. Total of 144/120 ...I think https://t.co/ZanVtAtvIq   \n",
      "\n",
      "      name doggo floofer  pupper puppo  \n",
      "1779  None  None    None  pupper  None  \n",
      "                                                                                                       text  \\\n",
      "1826  Hope your Monday isn't too awful. Here's two baseball puppers. 11/10 for each https://t.co/dB0H9hdZai   \n",
      "\n",
      "      name doggo floofer  pupper puppo  \n",
      "1826  None  None    None  pupper  None  \n",
      "                                                                                                             text  \\\n",
      "1843  Here we have an entire platoon of puppers. Total score: 88/80 would pet all at once https://t.co/y93p6FLvVw   \n",
      "\n",
      "      name doggo floofer  pupper puppo  \n",
      "1843  None  None    None  pupper  None  \n",
      "                                                                                                                                             text  \\\n",
      "1847  Here's a handful of sleepy puppers. All look unaware of their surroundings. Lousy guard dogs. Still cute tho 11/10s https://t.co/lyXX3v5j4s   \n",
      "\n",
      "      name doggo floofer  pupper puppo  \n",
      "1847  None  None    None  pupper  None  \n",
      "                                                                                 text  \\\n",
      "1862  Happy Friday. Here's some golden puppers. 12/10 for all https://t.co/wNkqAED6lG   \n",
      "\n",
      "      name doggo floofer  pupper puppo  \n",
      "1862  None  None    None  pupper  None  \n",
      "                                                                                                                                             text  \\\n",
      "1900  This is Rodman. He's getting destroyed by the surfs. Valiant effort though. 10/10 better than most puppers probably https://t.co/S8wCLemrNb   \n",
      "\n",
      "        name doggo floofer  pupper puppo  \n",
      "1900  Rodman  None    None  pupper  None  \n",
      "                                                                                                                                           text  \\\n",
      "1928  Herd of wild dogs here. Not sure what they're trying to do. No real goals in life. 3/10 find your purpose puppers https://t.co/t5ih0VrK02   \n",
      "\n",
      "      name doggo floofer  pupper puppo  \n",
      "1928  None  None    None  pupper  None  \n",
      "                                                                                                                               text  \\\n",
      "2141  This is Zoey. Her dreams of becoming a hippo ballerina don't look promising. 9/10 it'll be ok puppers https://t.co/kR1fqy4NKK   \n",
      "\n",
      "      name doggo floofer  pupper puppo  \n",
      "2141  Zoey  None    None  pupper  None  \n"
     ]
    }
   ],
   "source": [
    "# Check the columns that are updated\n",
    "\n",
    "for i in stg_list_id:\n",
    "    print(tweeter_archieve_clean[tweeter_archieve_clean['tweet_id']==i][['text','name','doggo','floofer','pupper','puppo']])"
   ]
  },
  {
   "cell_type": "markdown",
   "metadata": {},
   "source": [
    "#### Joining tables to make a single tweeter_archieve_clean table"
   ]
  },
  {
   "cell_type": "code",
   "execution_count": 34,
   "metadata": {},
   "outputs": [],
   "source": [
    "# Joining the tables tweeter_archieve_clean and image_predications_clean\n",
    "\n",
    "tweeter_archieve_clean=tweeter_archieve_clean.merge(image_predications_clean,how='inner',left_on='tweet_id',right_on='tweet_id')"
   ]
  },
  {
   "cell_type": "code",
   "execution_count": 35,
   "metadata": {},
   "outputs": [],
   "source": [
    "# Selecting only the required columns from tweeter_api_clean\n",
    "\n",
    "tweeter_api_clean=tweeter_api_clean[['id','favorite_count','favorited','retweet_count','retweeted']]"
   ]
  },
  {
   "cell_type": "code",
   "execution_count": 36,
   "metadata": {},
   "outputs": [],
   "source": [
    "# Joining the tweeter_archieve_clean table with tweeter_api_clean table\n",
    "tweeter_archieve_clean=tweeter_archieve_clean.merge(tweeter_api_clean,how='inner',left_on='tweet_id',right_on='id')"
   ]
  },
  {
   "cell_type": "code",
   "execution_count": 37,
   "metadata": {
    "scrolled": true
   },
   "outputs": [
    {
     "name": "stdout",
     "output_type": "stream",
     "text": [
      "<class 'pandas.core.frame.DataFrame'>\n",
      "Int64Index: 2073 entries, 0 to 2072\n",
      "Data columns (total 32 columns):\n",
      "tweet_id                      2073 non-null int64\n",
      "in_reply_to_status_id         23 non-null float64\n",
      "in_reply_to_user_id           23 non-null float64\n",
      "timestamp                     2073 non-null datetime64[ns, UTC]\n",
      "source                        2073 non-null category\n",
      "text                          2073 non-null object\n",
      "retweeted_status_id           79 non-null float64\n",
      "retweeted_status_user_id      79 non-null float64\n",
      "retweeted_status_timestamp    79 non-null object\n",
      "expanded_urls                 2073 non-null object\n",
      "rating_numerator              2073 non-null float64\n",
      "rating_denominator            2073 non-null int64\n",
      "name                          2073 non-null object\n",
      "doggo                         2073 non-null object\n",
      "floofer                       2073 non-null object\n",
      "pupper                        2073 non-null object\n",
      "puppo                         2073 non-null object\n",
      "jpg_url                       2073 non-null object\n",
      "img_num                       2073 non-null int64\n",
      "p1                            2073 non-null object\n",
      "p1_conf                       2073 non-null float64\n",
      "p1_dog                        2073 non-null bool\n",
      "p2                            2073 non-null object\n",
      "p2_conf                       2073 non-null float64\n",
      "p2_dog                        2073 non-null bool\n",
      "p3                            2073 non-null object\n",
      "p3_conf                       2073 non-null float64\n",
      "p3_dog                        2073 non-null bool\n",
      "favorite_count                2073 non-null int64\n",
      "favorited                     2073 non-null bool\n",
      "retweet_count                 2073 non-null int64\n",
      "retweeted                     2073 non-null bool\n",
      "dtypes: bool(5), category(1), datetime64[ns, UTC](1), float64(8), int64(5), object(12)\n",
      "memory usage: 449.6+ KB\n"
     ]
    }
   ],
   "source": [
    "# Droping the extra id column resuting from joining tables\n",
    "tweeter_archieve_clean.drop(columns='id',axis=1,inplace=True)\n",
    "tweeter_archieve_clean.info()"
   ]
  },
  {
   "cell_type": "markdown",
   "metadata": {},
   "source": [
    "### Define:\n",
    "6- Remove retweeted tweets from data"
   ]
  },
  {
   "cell_type": "markdown",
   "metadata": {},
   "source": [
    "### Code:"
   ]
  },
  {
   "cell_type": "code",
   "execution_count": 38,
   "metadata": {},
   "outputs": [],
   "source": [
    "tweeter_archieve_clean=tweeter_archieve_clean[tweeter_archieve_clean['retweeted_status_id'].isna()]"
   ]
  },
  {
   "cell_type": "markdown",
   "metadata": {},
   "source": [
    "### Define:\n",
    "7- Remove retweeted columns"
   ]
  },
  {
   "cell_type": "markdown",
   "metadata": {},
   "source": [
    "### Code:"
   ]
  },
  {
   "cell_type": "code",
   "execution_count": 39,
   "metadata": {},
   "outputs": [],
   "source": [
    "tweeter_archieve_clean.drop(columns=['retweeted_status_id','retweeted_status_user_id','retweeted_status_timestamp'],axis=1,inplace=True)"
   ]
  },
  {
   "cell_type": "code",
   "execution_count": 40,
   "metadata": {
    "scrolled": false
   },
   "outputs": [
    {
     "name": "stdout",
     "output_type": "stream",
     "text": [
      "<class 'pandas.core.frame.DataFrame'>\n",
      "Int64Index: 1994 entries, 0 to 2072\n",
      "Data columns (total 29 columns):\n",
      "tweet_id                 1994 non-null int64\n",
      "in_reply_to_status_id    23 non-null float64\n",
      "in_reply_to_user_id      23 non-null float64\n",
      "timestamp                1994 non-null datetime64[ns, UTC]\n",
      "source                   1994 non-null category\n",
      "text                     1994 non-null object\n",
      "expanded_urls            1994 non-null object\n",
      "rating_numerator         1994 non-null float64\n",
      "rating_denominator       1994 non-null int64\n",
      "name                     1994 non-null object\n",
      "doggo                    1994 non-null object\n",
      "floofer                  1994 non-null object\n",
      "pupper                   1994 non-null object\n",
      "puppo                    1994 non-null object\n",
      "jpg_url                  1994 non-null object\n",
      "img_num                  1994 non-null int64\n",
      "p1                       1994 non-null object\n",
      "p1_conf                  1994 non-null float64\n",
      "p1_dog                   1994 non-null bool\n",
      "p2                       1994 non-null object\n",
      "p2_conf                  1994 non-null float64\n",
      "p2_dog                   1994 non-null bool\n",
      "p3                       1994 non-null object\n",
      "p3_conf                  1994 non-null float64\n",
      "p3_dog                   1994 non-null bool\n",
      "favorite_count           1994 non-null int64\n",
      "favorited                1994 non-null bool\n",
      "retweet_count            1994 non-null int64\n",
      "retweeted                1994 non-null bool\n",
      "dtypes: bool(5), category(1), datetime64[ns, UTC](1), float64(6), int64(5), object(11)\n",
      "memory usage: 385.7+ KB\n"
     ]
    }
   ],
   "source": [
    "tweeter_archieve_clean.info()"
   ]
  },
  {
   "cell_type": "markdown",
   "metadata": {},
   "source": [
    "### Define:\n",
    "8- Combine columns doggo, floofer, pupper, puppo into single column called dog_stages"
   ]
  },
  {
   "cell_type": "markdown",
   "metadata": {},
   "source": [
    "### Code:"
   ]
  },
  {
   "cell_type": "code",
   "execution_count": 41,
   "metadata": {},
   "outputs": [],
   "source": [
    "def chk_dog_stg(twt_id):\n",
    "    for x in ['doggo','floofer','pupper','puppo']:\n",
    "        if (tweeter_archieve_clean[tweeter_archieve_clean['tweet_id']==twt_id][x]!='None').bool():\n",
    "            return x\n",
    "    return 'None'"
   ]
  },
  {
   "cell_type": "code",
   "execution_count": 42,
   "metadata": {},
   "outputs": [],
   "source": [
    "tweeter_archieve_clean['dog_stage']=tweeter_archieve_clean['tweet_id'].apply(lambda x:chk_dog_stg(x))"
   ]
  },
  {
   "cell_type": "markdown",
   "metadata": {},
   "source": [
    "### Define:\n",
    "\n",
    "9- Change the data type of dog stage column to category"
   ]
  },
  {
   "cell_type": "markdown",
   "metadata": {},
   "source": [
    "### Code"
   ]
  },
  {
   "cell_type": "code",
   "execution_count": 43,
   "metadata": {},
   "outputs": [],
   "source": [
    "tweeter_archieve_clean['dog_stage']=tweeter_archieve_clean['dog_stage'].astype('category')"
   ]
  },
  {
   "cell_type": "code",
   "execution_count": 44,
   "metadata": {},
   "outputs": [],
   "source": [
    "# drop columns in_reply_to_status_id, in_reply_to_user_id\n",
    "tweeter_archieve_clean.drop(columns=['in_reply_to_status_id','in_reply_to_user_id'],axis=1,inplace=True)"
   ]
  },
  {
   "cell_type": "markdown",
   "metadata": {},
   "source": [
    "### Test:"
   ]
  },
  {
   "cell_type": "code",
   "execution_count": 45,
   "metadata": {
    "scrolled": true
   },
   "outputs": [
    {
     "name": "stdout",
     "output_type": "stream",
     "text": [
      "<class 'pandas.core.frame.DataFrame'>\n",
      "Int64Index: 1994 entries, 0 to 2072\n",
      "Data columns (total 28 columns):\n",
      "tweet_id              1994 non-null int64\n",
      "timestamp             1994 non-null datetime64[ns, UTC]\n",
      "source                1994 non-null category\n",
      "text                  1994 non-null object\n",
      "expanded_urls         1994 non-null object\n",
      "rating_numerator      1994 non-null float64\n",
      "rating_denominator    1994 non-null int64\n",
      "name                  1994 non-null object\n",
      "doggo                 1994 non-null object\n",
      "floofer               1994 non-null object\n",
      "pupper                1994 non-null object\n",
      "puppo                 1994 non-null object\n",
      "jpg_url               1994 non-null object\n",
      "img_num               1994 non-null int64\n",
      "p1                    1994 non-null object\n",
      "p1_conf               1994 non-null float64\n",
      "p1_dog                1994 non-null bool\n",
      "p2                    1994 non-null object\n",
      "p2_conf               1994 non-null float64\n",
      "p2_dog                1994 non-null bool\n",
      "p3                    1994 non-null object\n",
      "p3_conf               1994 non-null float64\n",
      "p3_dog                1994 non-null bool\n",
      "favorite_count        1994 non-null int64\n",
      "favorited             1994 non-null bool\n",
      "retweet_count         1994 non-null int64\n",
      "retweeted             1994 non-null bool\n",
      "dog_stage             1994 non-null category\n",
      "dtypes: bool(5), category(2), datetime64[ns, UTC](1), float64(4), int64(5), object(11)\n",
      "memory usage: 356.7+ KB\n"
     ]
    }
   ],
   "source": [
    "tweeter_archieve_clean.info()"
   ]
  },
  {
   "cell_type": "code",
   "execution_count": 46,
   "metadata": {},
   "outputs": [
    {
     "data": {
      "text/html": [
       "<div>\n",
       "<style scoped>\n",
       "    .dataframe tbody tr th:only-of-type {\n",
       "        vertical-align: middle;\n",
       "    }\n",
       "\n",
       "    .dataframe tbody tr th {\n",
       "        vertical-align: top;\n",
       "    }\n",
       "\n",
       "    .dataframe thead th {\n",
       "        text-align: right;\n",
       "    }\n",
       "</style>\n",
       "<table border=\"1\" class=\"dataframe\">\n",
       "  <thead>\n",
       "    <tr style=\"text-align: right;\">\n",
       "      <th></th>\n",
       "      <th>tweet_id</th>\n",
       "      <th>timestamp</th>\n",
       "      <th>source</th>\n",
       "      <th>text</th>\n",
       "      <th>expanded_urls</th>\n",
       "      <th>rating_numerator</th>\n",
       "      <th>rating_denominator</th>\n",
       "      <th>name</th>\n",
       "      <th>doggo</th>\n",
       "      <th>floofer</th>\n",
       "      <th>...</th>\n",
       "      <th>p2_conf</th>\n",
       "      <th>p2_dog</th>\n",
       "      <th>p3</th>\n",
       "      <th>p3_conf</th>\n",
       "      <th>p3_dog</th>\n",
       "      <th>favorite_count</th>\n",
       "      <th>favorited</th>\n",
       "      <th>retweet_count</th>\n",
       "      <th>retweeted</th>\n",
       "      <th>dog_stage</th>\n",
       "    </tr>\n",
       "  </thead>\n",
       "  <tbody>\n",
       "    <tr>\n",
       "      <th>591</th>\n",
       "      <td>781163403222056960</td>\n",
       "      <td>2016-09-28 16:07:23+00:00</td>\n",
       "      <td>&lt;a href=\"http://twitter.com/download/iphone\" rel=\"nofollow\"&gt;Twitter for iPhone&lt;/a&gt;</td>\n",
       "      <td>We normally don't rate lobsters, but this one appears to be a really good lobster. 10/10 would pet with caution https://t.co/YkHc7U7uUy</td>\n",
       "      <td>https://twitter.com/dog_rates/status/781163403222056960/photo/1</td>\n",
       "      <td>10.0</td>\n",
       "      <td>10</td>\n",
       "      <td>None</td>\n",
       "      <td>None</td>\n",
       "      <td>None</td>\n",
       "      <td>...</td>\n",
       "      <td>0.025188</td>\n",
       "      <td>True</td>\n",
       "      <td>Border_collie</td>\n",
       "      <td>0.000297</td>\n",
       "      <td>True</td>\n",
       "      <td>10895</td>\n",
       "      <td>False</td>\n",
       "      <td>3168</td>\n",
       "      <td>False</td>\n",
       "      <td>None</td>\n",
       "    </tr>\n",
       "  </tbody>\n",
       "</table>\n",
       "<p>1 rows × 28 columns</p>\n",
       "</div>"
      ],
      "text/plain": [
       "               tweet_id                 timestamp  \\\n",
       "591  781163403222056960 2016-09-28 16:07:23+00:00   \n",
       "\n",
       "                                                                                 source  \\\n",
       "591  <a href=\"http://twitter.com/download/iphone\" rel=\"nofollow\">Twitter for iPhone</a>   \n",
       "\n",
       "                                                                                                                                        text  \\\n",
       "591  We normally don't rate lobsters, but this one appears to be a really good lobster. 10/10 would pet with caution https://t.co/YkHc7U7uUy   \n",
       "\n",
       "                                                       expanded_urls  \\\n",
       "591  https://twitter.com/dog_rates/status/781163403222056960/photo/1   \n",
       "\n",
       "     rating_numerator  rating_denominator  name doggo floofer  ...   p2_conf  \\\n",
       "591              10.0                  10  None  None    None  ...  0.025188   \n",
       "\n",
       "    p2_dog             p3   p3_conf p3_dog  favorite_count  favorited  \\\n",
       "591   True  Border_collie  0.000297   True           10895      False   \n",
       "\n",
       "    retweet_count  retweeted  dog_stage  \n",
       "591          3168      False       None  \n",
       "\n",
       "[1 rows x 28 columns]"
      ]
     },
     "execution_count": 46,
     "metadata": {},
     "output_type": "execute_result"
    }
   ],
   "source": [
    "tweeter_archieve_clean[tweeter_archieve_clean['tweet_id']==781163403222056960]"
   ]
  },
  {
   "cell_type": "markdown",
   "metadata": {},
   "source": [
    "## Store"
   ]
  },
  {
   "cell_type": "code",
   "execution_count": 47,
   "metadata": {},
   "outputs": [],
   "source": [
    "# Store the tweeter_archieve_clean table as tweeter_archieve_master.csv \n",
    "tweeter_archieve_clean.to_csv('tweeter_archieve_master.csv')"
   ]
  },
  {
   "cell_type": "markdown",
   "metadata": {},
   "source": [
    "## Analysis"
   ]
  },
  {
   "cell_type": "markdown",
   "metadata": {},
   "source": [
    "### Tweets from different sources"
   ]
  },
  {
   "cell_type": "code",
   "execution_count": 48,
   "metadata": {},
   "outputs": [],
   "source": [
    "# Can be used for analysis\n",
    "twt_src=tweeter_archieve_clean['source'].apply(lambda x:x[x.find('>')+1:x.find('</a>')]).value_counts()"
   ]
  },
  {
   "cell_type": "code",
   "execution_count": 49,
   "metadata": {
    "scrolled": true
   },
   "outputs": [
    {
     "data": {
      "text/html": [
       "<div>\n",
       "<style scoped>\n",
       "    .dataframe tbody tr th:only-of-type {\n",
       "        vertical-align: middle;\n",
       "    }\n",
       "\n",
       "    .dataframe tbody tr th {\n",
       "        vertical-align: top;\n",
       "    }\n",
       "\n",
       "    .dataframe thead th {\n",
       "        text-align: right;\n",
       "    }\n",
       "</style>\n",
       "<table border=\"1\" class=\"dataframe\">\n",
       "  <thead>\n",
       "    <tr style=\"text-align: right;\">\n",
       "      <th></th>\n",
       "      <th>tweet_id</th>\n",
       "      <th>timestamp</th>\n",
       "      <th>source</th>\n",
       "      <th>text</th>\n",
       "      <th>expanded_urls</th>\n",
       "      <th>rating_numerator</th>\n",
       "      <th>rating_denominator</th>\n",
       "      <th>name</th>\n",
       "      <th>doggo</th>\n",
       "      <th>floofer</th>\n",
       "      <th>...</th>\n",
       "      <th>p2_conf</th>\n",
       "      <th>p2_dog</th>\n",
       "      <th>p3</th>\n",
       "      <th>p3_conf</th>\n",
       "      <th>p3_dog</th>\n",
       "      <th>favorite_count</th>\n",
       "      <th>favorited</th>\n",
       "      <th>retweet_count</th>\n",
       "      <th>retweeted</th>\n",
       "      <th>dog_stage</th>\n",
       "    </tr>\n",
       "  </thead>\n",
       "  <tbody>\n",
       "  </tbody>\n",
       "</table>\n",
       "<p>0 rows × 28 columns</p>\n",
       "</div>"
      ],
      "text/plain": [
       "Empty DataFrame\n",
       "Columns: [tweet_id, timestamp, source, text, expanded_urls, rating_numerator, rating_denominator, name, doggo, floofer, pupper, puppo, jpg_url, img_num, p1, p1_conf, p1_dog, p2, p2_conf, p2_dog, p3, p3_conf, p3_dog, favorite_count, favorited, retweet_count, retweeted, dog_stage]\n",
       "Index: []\n",
       "\n",
       "[0 rows x 28 columns]"
      ]
     },
     "execution_count": 49,
     "metadata": {},
     "output_type": "execute_result"
    }
   ],
   "source": [
    "tweeter_archieve_clean[tweeter_archieve_clean['source']=='Vine - Make a Scene']"
   ]
  },
  {
   "cell_type": "code",
   "execution_count": 50,
   "metadata": {},
   "outputs": [],
   "source": [
    "# Prepring a dataframe for analyzing tweeter sources\n",
    "\n",
    "df=pd.DataFrame(twt_src).reset_index()\n",
    "df1=df[df['source']>0].copy()\n",
    "df1.rename(columns={'index':'source','source':'count'},inplace=True)"
   ]
  },
  {
   "cell_type": "code",
   "execution_count": 51,
   "metadata": {
    "scrolled": true
   },
   "outputs": [
    {
     "data": {
      "image/png": "[encoded data removed]",
      "text/plain": [
       "<Figure size 720x360 with 1 Axes>"
      ]
     },
     "metadata": {
      "needs_background": "light"
     },
     "output_type": "display_data"
    }
   ],
   "source": [
    "#Plotting the tweets by sources\n",
    "\n",
    "plt.figure(figsize=(10,5))\n",
    "plt.bar(df1['source'],df1['count'])\n",
    "plt.grid(b=None)\n",
    "plt.title('Tweets by Source', fontsize=16)\n",
    "plt.yticks(fontsize=12)\n",
    "plt.ylabel('Tweets Count',fontsize=14)\n",
    "plt.xticks(fontsize=14)\n",
    "plt.savefig('twt_source.png');"
   ]
  },
  {
   "cell_type": "markdown",
   "metadata": {},
   "source": [
    "### Tweets generated by hours of the day"
   ]
  },
  {
   "cell_type": "code",
   "execution_count": 52,
   "metadata": {},
   "outputs": [],
   "source": [
    "# Preparing a dataframe for analysis of tweets generated by hours of the day\n",
    "\n",
    "time_data=tweeter_archieve_clean.copy()\n",
    "time_data['twt_time']=time_data['timestamp'].apply(lambda x:datetime.datetime.strftime(x,\"%H:%M:%S\"))\n",
    "time_data['twt_hr']=pd.to_datetime(time_data['twt_time']).dt.round('H').dt.hour\n",
    "tm=time_data[['twt_hr','tweet_id']].groupby(['twt_hr'],as_index=False).count()"
   ]
  },
  {
   "cell_type": "code",
   "execution_count": 53,
   "metadata": {},
   "outputs": [],
   "source": [
    "# A list of all 24 hours of the day for performing left join\n",
    "hr_lbl=[]\n",
    "\n",
    "for i in range(24):\n",
    "    hr_lbl.append(i)\n",
    "    \n",
    "hr_df=pd.DataFrame(hr_lbl,columns=['hr_lbl'])"
   ]
  },
  {
   "cell_type": "code",
   "execution_count": 54,
   "metadata": {},
   "outputs": [],
   "source": [
    "# Joining the 2 dataframes to get the counts of tweets for all 24 hrs of the day\n",
    "\n",
    "tm=tm.merge(hr_df,how='right',left_on='twt_hr',right_on='hr_lbl')\n",
    "tm['hr_lbl']=tm['hr_lbl'].apply(lambda x:'0'+str(x) if len(str(x))==1 else str(x))\n",
    "tm['tweet_id']=tm['tweet_id'].apply(lambda x:0 if np.isnan(x) else int(x))\n",
    "tm.rename(columns={'tweet_id':'tweet_cnt'},inplace=True)\n",
    "tm=tm.sort_values('hr_lbl').reset_index()\n",
    "tm=tm.drop(columns=['index'],axis=1)"
   ]
  },
  {
   "cell_type": "code",
   "execution_count": 55,
   "metadata": {
    "scrolled": false
   },
   "outputs": [
    {
     "data": {
      "image/png": "[encoded data removed]",
      "text/plain": [
       "<Figure size 720x360 with 1 Axes>"
      ]
     },
     "metadata": {
      "needs_background": "light"
     },
     "output_type": "display_data"
    }
   ],
   "source": [
    "#Plotting the tweets generated during the hours of a day\n",
    "\n",
    "plt.figure(figsize=(10,5))\n",
    "plt.bar(tm['hr_lbl'],tm['tweet_cnt'])\n",
    "plt.xlabel('Time of the day in Hours',fontsize=14)\n",
    "plt.ylabel('Tweet Count',fontsize=14)\n",
    "plt.title('Tweets generated by Hours of the day', fontsize=16)\n",
    "plt.xticks(fontsize=12)\n",
    "plt.yticks(fontsize=12)\n",
    "plt.grid(b=None)\n",
    "plt.tight_layout()\n",
    "plt.savefig('tweets_by_hrs.png');"
   ]
  },
  {
   "cell_type": "markdown",
   "metadata": {},
   "source": [
    "### Analysis of Retweets and Favorites pattern"
   ]
  },
  {
   "cell_type": "code",
   "execution_count": 56,
   "metadata": {},
   "outputs": [],
   "source": [
    "# Creating a dataframe for analysis of retweets and favorites counts\n",
    "\n",
    "twt_info=tweeter_archieve_clean[['timestamp','retweet_count','favorite_count']].copy()\n",
    "twt_info['twt_day']=twt_info['timestamp'].apply(lambda x:datetime.datetime.strftime(x,'%d-%b-%Y'))\n",
    "twt_info=twt_info[['twt_day','retweet_count','favorite_count']].groupby('twt_day').sum().reset_index()\n",
    "twt_info['twt_mth']=twt_info['twt_day'].apply(lambda x:pd.to_datetime(x).strftime('%b-%Y'))\n",
    "twt_info['twt_day']=twt_info['twt_day'].apply(lambda x:pd.to_datetime(x))\n",
    "twt_info=twt_info.sort_values(by='twt_day').reset_index()\n",
    "twt_info=twt_info.drop(columns=['index'])"
   ]
  },
  {
   "cell_type": "code",
   "execution_count": 57,
   "metadata": {},
   "outputs": [],
   "source": [
    "twt_fav=twt_info.groupby('twt_mth',as_index=False).sum()[['twt_mth','favorite_count','retweet_count']]\n",
    "twt_fav['mth_strt']=twt_fav['twt_mth'].apply(lambda x:datetime.datetime.strptime(x,'%b-%Y'))\n",
    "twt_fav=twt_fav.sort_values(by='mth_strt').reset_index().drop('index',axis=1)"
   ]
  },
  {
   "cell_type": "code",
   "execution_count": 58,
   "metadata": {
    "scrolled": false
   },
   "outputs": [
    {
     "data": {
      "image/png": "[encoded data removed]",
      "text/plain": [
       "<Figure size 720x360 with 2 Axes>"
      ]
     },
     "metadata": {
      "needs_background": "light"
     },
     "output_type": "display_data"
    }
   ],
   "source": [
    "# Plotting the Retweets and Favorites Trend\n",
    "\n",
    "ind=np.arange(len(twt_fav['twt_mth']))\n",
    "wdth=0.3\n",
    "\n",
    "fig=plt.figure(figsize=(10,5))\n",
    "ax0=fig.add_axes([0.1,0.3,0.8,0.6])\n",
    "sns.set_style('whitegrid')\n",
    "plt.title(label='Retweets and Favorites Trend',fontsize=16)\n",
    "ax0.bar(ind,twt_fav['retweet_count'],width=wdth,label='Retweeted Count')\n",
    "ax0.set_xlabel('Tweet Months',fontsize=14)\n",
    "ax0.set_ylabel('Retweeted Count',color='black',fontsize=12)\n",
    "ax0.set_xticklabels(labels=twt_fav['twt_mth'],rotation=270,fontsize=12)\n",
    "ax0.grid(b=None)\n",
    "\n",
    "ax1=ax0.twinx()\n",
    "ax1.bar(ind+wdth,twt_fav['favorite_count'],width=wdth,color='orange',label='Favorite Count')\n",
    "ax1.set_ylabel('Favorite Count',color='black',fontsize=12)\n",
    "loc=ind+wdth/2\n",
    "plt.xticks(loc,twt_fav['twt_mth'])\n",
    "\n",
    "plt.legend()\n",
    "ax0.legend(loc='best',bbox_to_anchor=(0.5,-0.4))\n",
    "ax1.legend(loc='best',bbox_to_anchor=(0.72,-0.4))\n",
    "ax1.grid(b=None)\n",
    "plt.savefig('retwts_and_favs.png');"
   ]
  },
  {
   "cell_type": "markdown",
   "metadata": {},
   "source": [
    "### Analysis of tweets by day and hour"
   ]
  },
  {
   "cell_type": "code",
   "execution_count": 59,
   "metadata": {},
   "outputs": [],
   "source": [
    "# Creating a dataframe\n",
    "\n",
    "twt_day_tm=time_data[['tweet_id','timestamp','favorite_count','retweet_count','twt_hr']].copy()\n",
    "twt_day_tm['twt_day']=twt_day_tm['timestamp'].apply(lambda x:datetime.datetime.strftime(x,'%A'))\n",
    "twt_day_tm['twt_day_nbr']=twt_day_tm['timestamp'].apply(lambda x:datetime.datetime.strftime(x,'%w'))\n",
    "twt_day_tm=twt_day_tm[['tweet_id','twt_day_nbr','twt_hr','twt_day']].groupby(['twt_hr','twt_day','twt_day_nbr'],as_index=False).count().sort_values(by=['twt_day_nbr','twt_hr'])\n",
    "twt_data=twt_day_tm[['twt_day','twt_hr','tweet_id','twt_day_nbr']].sort_values(by=['twt_day_nbr','twt_hr'])"
   ]
  },
  {
   "cell_type": "code",
   "execution_count": 60,
   "metadata": {},
   "outputs": [],
   "source": [
    "# Sort order by the day of the week \n",
    "sort_ord=['Sunday','Monday','Tuesday','Wednesday','Thursday','Friday','Saturday']"
   ]
  },
  {
   "cell_type": "code",
   "execution_count": 61,
   "metadata": {},
   "outputs": [],
   "source": [
    "# Creating a pivot table format to plot a heatmap\n",
    "\n",
    "twt_pvt=twt_data.pivot('twt_day','twt_hr','tweet_id')\n",
    "twt_pvt=twt_pvt.reindex(sort_ord)"
   ]
  },
  {
   "cell_type": "code",
   "execution_count": 62,
   "metadata": {},
   "outputs": [
    {
     "data": {
      "image/png": "[encoded data removed]",
      "text/plain": [
       "<Figure size 720x360 with 2 Axes>"
      ]
     },
     "metadata": {},
     "output_type": "display_data"
    }
   ],
   "source": [
    "# Plotting the heatmap\n",
    "\n",
    "fig=plt.figure(figsize=(10,5))\n",
    "sns.heatmap(twt_pvt,mask=False,cmap=\"YlGnBu\",linecolor='white',linewidth=0.2)\n",
    "plt.title('Tweets by day of the week and hour',fontsize=16)\n",
    "plt.xlabel('Hour of the day',fontsize=14)\n",
    "plt.ylabel('Day of the week',fontsize=14)\n",
    "plt.xticks(fontsize=12)\n",
    "plt.yticks(fontsize=12)\n",
    "plt.savefig('twts_by_day_hr.png');"
   ]
  }
 ],
 "metadata": {
  "kernelspec": {
   "display_name": "Python 3",
   "language": "python",
   "name": "python3"
  },
  "language_info": {
   "codemirror_mode": {
    "name": "ipython",
    "version": 3
   },
   "file_extension": ".py",
   "mimetype": "text/x-python",
   "name": "python",
   "nbconvert_exporter": "python",
   "pygments_lexer": "ipython3",
   "version": "3.7.2"
  }
 },
 "nbformat": 4,
 "nbformat_minor": 2
}
